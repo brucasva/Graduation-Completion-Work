{
 "cells": [
  {
   "cell_type": "code",
   "execution_count": 2,
   "metadata": {},
   "outputs": [],
   "source": [
    "import numpy as np\n",
    "import pandas as pd\n",
    "import matplotlib.pyplot as plt"
   ]
  },
  {
   "cell_type": "code",
   "execution_count": 3,
   "metadata": {},
   "outputs": [],
   "source": [
    "#Obtendo os dados\n",
    "file = \"Data/NT-Solar-Alice-Springs-Field-2022-06-10-2022/ASP_01-2022_10-2022_A.csv\"\n",
    "dados = pd.read_csv(file)\n"
   ]
  },
  {
   "cell_type": "code",
   "execution_count": 4,
   "metadata": {},
   "outputs": [
    {
     "name": "stdout",
     "output_type": "stream",
     "text": [
      "                      Time Timezone  SYS_AVG    GHI_AVG   POA_AVG  DNI_AVG  \\\n",
      "0      2022-01-01 00:00:00     ACST      0.0   0.000000  0.000000      0.0   \n",
      "1      2022-01-01 00:05:00     ACST      0.0   0.000000  0.000000      0.0   \n",
      "2      2022-01-01 00:10:00     ACST      0.0   0.000000  0.000000      0.0   \n",
      "3      2022-01-01 00:15:00     ACST      0.0   0.000000  0.000000      0.0   \n",
      "4      2022-01-01 00:20:00     ACST      0.0   0.000000  0.000000      0.0   \n",
      "...                    ...      ...      ...        ...       ...      ...   \n",
      "80426  2022-10-07 06:10:00     ACST      0.0   1.083333  0.000000      0.0   \n",
      "80427  2022-10-07 06:15:00     ACST      0.0   2.833333  0.666667      0.0   \n",
      "80428  2022-10-07 06:20:00     ACST      0.0  10.566667  6.416667      0.0   \n",
      "80429  2022-10-07 06:25:00     ACST      0.0  14.333333  9.633333      0.0   \n",
      "80430  2022-10-07 06:30:00     ACST      NaN        NaN       NaN      NaN   \n",
      "\n",
      "         WDIR_AVG  WSPD_AVG    WV_AVG   TEMP_AVG    HUM_AVG  RAIN_SUM  \n",
      "0      317.101667  0.489500 -0.008433  27.236880  43.757097   16848.0  \n",
      "1      305.890000  0.562233 -0.013100  27.030162  44.168988   16848.0  \n",
      "2      278.368333  0.382333 -0.008400  26.694633  45.008037   16848.0  \n",
      "3      237.916667  0.384600 -0.018200  26.425318  45.811442   16848.0  \n",
      "4      208.875000  0.143250 -0.006650  26.213513  46.422412   16848.0  \n",
      "...           ...       ...       ...        ...        ...       ...  \n",
      "80426  269.683333  0.388350  0.042317  18.108580  53.076803       0.0  \n",
      "80427  285.908333  0.660833 -0.003750  17.994020  53.896010       0.0  \n",
      "80428  305.653333  0.490900 -0.013733  17.997077  54.529882       0.0  \n",
      "80429  216.733333  0.383433  0.000833  18.094842  53.474450       0.0  \n",
      "80430         NaN       NaN       NaN        NaN        NaN       NaN  \n",
      "\n",
      "[80431 rows x 12 columns]\n"
     ]
    }
   ],
   "source": [
    "print(dados)"
   ]
  },
  {
   "cell_type": "code",
   "execution_count": 6,
   "metadata": {},
   "outputs": [
    {
     "name": "stdout",
     "output_type": "stream",
     "text": [
      "Index(['Time', 'Timezone', 'SYS_AVG', 'GHI_AVG', 'POA_AVG', 'DNI_AVG',\n",
      "       'WDIR_AVG', 'WSPD_AVG', 'WV_AVG', 'TEMP_AVG', 'HUM_AVG', 'RAIN_SUM'],\n",
      "      dtype='object')\n"
     ]
    }
   ],
   "source": [
    "print(dados.columns) # Verificando o cabeçalho dos dados para entender o que eles contém"
   ]
  },
  {
   "cell_type": "code",
   "execution_count": null,
   "metadata": {},
   "outputs": [],
   "source": [
    "'''\n",
    "Percebemos que nessa base de dados temos o Time no formato 2022-01-01 00:00:00\n",
    "Timezone: ACST\n",
    "SYS_AVG: Provavelmente a medida do sistema de potência???\n",
    "GHI_AVG: Global Horizontal Irradiance\n",
    "POA_AVG: Plane of Array (POA) Irradiance · Defining or determining the orientation of the array, which can be either fixed or variable in time (tracking arrays)\n",
    "DNI_AVG: Direct Normal Irradiance (DNI) is the amount of solar radiation received per unit area by a surface that is always held perpendicular\n",
    "    (or normal) to the rays that come in a straight line from the direction of the sun at its current position in the sky\n",
    "WDIR_AVG: Wind dirrection\n",
    "WSPD_AVG: Wind Speed\n",
    "WV_AVG: Vertical Wind Speed\n",
    "TEMP_AVG: Temperature\n",
    "HUM_AVG: Humidade %\n",
    "RAIN_SUM: mm of rain\n",
    "'''"
   ]
  }
 ],
 "metadata": {
  "kernelspec": {
   "display_name": "Python 3.9.12 ('TCC')",
   "language": "python",
   "name": "python3"
  },
  "language_info": {
   "codemirror_mode": {
    "name": "ipython",
    "version": 3
   },
   "file_extension": ".py",
   "mimetype": "text/x-python",
   "name": "python",
   "nbconvert_exporter": "python",
   "pygments_lexer": "ipython3",
   "version": "3.9.12"
  },
  "orig_nbformat": 4,
  "vscode": {
   "interpreter": {
    "hash": "b57e84ab262cfbc2e4cfb26dd980f3f3bb83248fa1276d8ed709520b288f08d0"
   }
  }
 },
 "nbformat": 4,
 "nbformat_minor": 2
}
