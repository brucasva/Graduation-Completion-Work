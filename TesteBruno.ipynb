{
 "cells": [
  {
   "cell_type": "code",
   "execution_count": 5,
   "metadata": {},
   "outputs": [],
   "source": [
    "import numpy as np\n",
    "import pandas as pd\n",
    "import matplotlib.pyplot as plt"
   ]
  },
  {
   "cell_type": "code",
   "execution_count": 20,
   "metadata": {},
   "outputs": [],
   "source": [
    "#Obtendo os dados\n",
    "file_data = \"20191004.csv\"\n",
    "file_ambiente = \"ambientais-ufms\"\n",
    "file_inversor = \"inversor_1_ufms\"\n",
    "dados_ambiente = pd.read_csv(\"Data/ufms/\"+file_ambiente+\"-\"+file_data)\n",
    "dados_inversor = pd.read_csv(\"Data/ufms/\"+file_inversor+\"-\"+file_data)\n"
   ]
  },
  {
   "cell_type": "code",
   "execution_count": 34,
   "metadata": {},
   "outputs": [
    {
     "name": "stdout",
     "output_type": "stream",
     "text": [
      "      dia_mes_ano  hora_minuto  irr  massaPM1  massaPM2  massaPM4  massaPM10  \\\n",
      "0        20191004          100  0.0     11.37      0.38         0          0   \n",
      "1        20191004          200  0.0     11.73      0.39         0          0   \n",
      "2        20191004          300  0.0     12.27      0.41         0          0   \n",
      "3        20191004          400  0.0     12.02      0.40         0          0   \n",
      "4        20191004          500  0.0     10.96      0.36         0          0   \n",
      "...           ...          ...  ...       ...       ...       ...        ...   \n",
      "1430     20191004       235400  0.0      7.18      0.24         0          0   \n",
      "1431     20191004       235500  0.0      7.62      0.25         0          0   \n",
      "1432     20191004       235600  0.0      8.20      0.27         0          0   \n",
      "1433     20191004       235700  0.0      8.57      0.29         0          0   \n",
      "1434     20191004       235900  0.0      8.12      0.27         0          0   \n",
      "\n",
      "      numPM1  numPM2  numPM4  numPM10  tamanho_medio   temp  vento_dir  \\\n",
      "0      93.80    0.26     0.0      0.0           0.50  24.00        135   \n",
      "1      96.79    0.27     0.0      0.0           0.49  24.06        135   \n",
      "2     101.25    0.28     0.0      0.0           0.46  24.12        135   \n",
      "3      99.16    0.27     0.0      0.0           0.45  24.06        135   \n",
      "4      90.40    0.25     0.0      0.0           0.50  24.00        135   \n",
      "...      ...     ...     ...      ...            ...    ...        ...   \n",
      "1430   59.24    0.16     0.0      0.0           0.44  24.06         90   \n",
      "1431   62.88    0.17     0.0      0.0           0.43  23.88         90   \n",
      "1432   67.63    0.19     0.0      0.0           0.45  24.00         90   \n",
      "1433   70.67    0.19     0.0      0.0           0.46  23.94         90   \n",
      "1434   66.95    0.18     0.0      0.0           0.47  23.94         90   \n",
      "\n",
      "      vento_vel  rainfall  \n",
      "0           0.0      0.00  \n",
      "1           0.0      0.00  \n",
      "2           0.0      0.00  \n",
      "3           0.0      0.00  \n",
      "4           0.0      0.00  \n",
      "...         ...       ...  \n",
      "1430        0.0      0.25  \n",
      "1431        0.0      0.25  \n",
      "1432        0.0      0.25  \n",
      "1433        0.0      0.25  \n",
      "1434        0.0      0.00  \n",
      "\n",
      "[1435 rows x 16 columns]\n"
     ]
    }
   ],
   "source": [
    "print(dados_ambiente)\n"
   ]
  },
  {
   "cell_type": "code",
   "execution_count": 28,
   "metadata": {},
   "outputs": [
    {
     "name": "stdout",
     "output_type": "stream",
     "text": [
      "      dia_mes_ano  hora_minuto  P_AC  I_AC  I_DC   V_AC   V_DC  IRR\n",
      "0        20191004        52100     9  0.10  0.09  220.0  461.7    6\n",
      "1        20191004        52200    12  0.10  0.10  220.1  440.0    6\n",
      "2        20191004        52300    19  0.12  0.10  218.7  481.5    6\n",
      "3        20191004        52400    27  0.15  0.12  218.8  466.9    7\n",
      "4        20191004        52500    33  0.18  0.13  218.3  482.4    7\n",
      "...           ...          ...   ...   ...   ...    ...    ...  ...\n",
      "1114     20191004       235500     0  0.09  0.00  213.3   43.6    0\n",
      "1115     20191004       235600     0  0.09  0.00  213.3   43.8    0\n",
      "1116     20191004       235700     0  0.09  0.00  213.3   43.8    0\n",
      "1117     20191004       235800     0  0.09  0.00  213.3   44.0    0\n",
      "1118     20191004       235900     0  0.09  0.00  213.3   44.0    0\n",
      "\n",
      "[1119 rows x 8 columns]\n"
     ]
    }
   ],
   "source": [
    "print(dados_inversor)"
   ]
  },
  {
   "cell_type": "code",
   "execution_count": 32,
   "metadata": {},
   "outputs": [
    {
     "name": "stdout",
     "output_type": "stream",
     "text": [
      "52100\n",
      "235900\n"
     ]
    }
   ],
   "source": [
    "#Obtendo hora_mintuo da primeira e da última medida do inversor\n",
    "dados_inversor.shape[0]\n",
    "primeira_hm_inversor = dados_inversor.hora_minuto[0]\n",
    "print(primeira_hm_inversor)\n",
    "ultima_hm_inversor = dados_inversor.hora_minuto[dados_inversor.shape[0]-1]\n",
    "print(ultima_hm_inversor)"
   ]
  },
  {
   "cell_type": "markdown",
   "metadata": {},
   "source": []
  },
  {
   "cell_type": "code",
   "execution_count": 33,
   "metadata": {},
   "outputs": [
    {
     "name": "stdout",
     "output_type": "stream",
     "text": [
      "100\n",
      "235900\n"
     ]
    }
   ],
   "source": [
    "#Obtendo hora_mintuo da primeira e da última medida do ambiente\n",
    "dados_inversor.shape[0]\n",
    "primeira_hm_ambiente = dados_ambiente.hora_minuto[0]\n",
    "print(primeira_hm_ambiente)\n",
    "ultima_hm_ambiente = dados_ambiente.hora_minuto[dados_ambiente.shape[0]-1]\n",
    "print(ultima_hm_ambiente)"
   ]
  },
  {
   "cell_type": "code",
   "execution_count": null,
   "metadata": {},
   "outputs": [],
   "source": [
    "'''\n",
    "Como podemos perceber, o tamanho dos dados de ambiente e do inversor são diferentes, nem sempre começam e terminam na mesma hora_minuto\n",
    "Sendo assim temos que filtrar a medida de ambiente para conter as mesmas medidas do inversor\n",
    "'''\n"
   ]
  },
  {
   "cell_type": "markdown",
   "metadata": {},
   "source": []
  }
 ],
 "metadata": {
  "kernelspec": {
   "display_name": "Python 3.9.12 ('TCC')",
   "language": "python",
   "name": "python3"
  },
  "language_info": {
   "codemirror_mode": {
    "name": "ipython",
    "version": 3
   },
   "file_extension": ".py",
   "mimetype": "text/x-python",
   "name": "python",
   "nbconvert_exporter": "python",
   "pygments_lexer": "ipython3",
   "version": "3.9.12"
  },
  "orig_nbformat": 4,
  "vscode": {
   "interpreter": {
    "hash": "b57e84ab262cfbc2e4cfb26dd980f3f3bb83248fa1276d8ed709520b288f08d0"
   }
  }
 },
 "nbformat": 4,
 "nbformat_minor": 2
}
