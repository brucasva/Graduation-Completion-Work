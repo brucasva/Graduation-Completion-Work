{
 "cells": [
  {
   "cell_type": "code",
   "execution_count": 1,
   "metadata": {},
   "outputs": [],
   "source": [
    "import numpy as np\n",
    "import pandas as pd\n",
    "import matplotlib.pyplot as plt\n"
   ]
  },
  {
   "cell_type": "code",
   "execution_count": 2,
   "metadata": {},
   "outputs": [],
   "source": [
    "P = \"P_Solar[kW]\"\n",
    "IRR = \"POA Irr[kW1m2]\""
   ]
  },
  {
   "cell_type": "code",
   "execution_count": 3,
   "metadata": {},
   "outputs": [],
   "source": [
    "#Lendo dataframe utilizado no treinamento para calcular a média e desvio padrão\n",
    "df_treinamento = pd.read_csv('Data/Solete/ML_Train.csv',index_col = 0, parse_dates=True)"
   ]
  },
  {
   "cell_type": "code",
   "execution_count": 4,
   "metadata": {},
   "outputs": [
    {
     "data": {
      "text/html": [
       "<div>\n",
       "<style scoped>\n",
       "    .dataframe tbody tr th:only-of-type {\n",
       "        vertical-align: middle;\n",
       "    }\n",
       "\n",
       "    .dataframe tbody tr th {\n",
       "        vertical-align: top;\n",
       "    }\n",
       "\n",
       "    .dataframe thead th {\n",
       "        text-align: right;\n",
       "    }\n",
       "</style>\n",
       "<table border=\"1\" class=\"dataframe\">\n",
       "  <thead>\n",
       "    <tr style=\"text-align: right;\">\n",
       "      <th></th>\n",
       "      <th>RF_Global</th>\n",
       "      <th>RF_Faixa1</th>\n",
       "      <th>RF_Faixa2</th>\n",
       "      <th>RF_Faixa3</th>\n",
       "      <th>OE_Global</th>\n",
       "      <th>OE_Faixa1</th>\n",
       "      <th>OE_Faixa2</th>\n",
       "      <th>OE_Faixa3</th>\n",
       "      <th>TEMPERATURE[degC]</th>\n",
       "      <th>HUMIDITY[%]</th>\n",
       "      <th>...</th>\n",
       "      <th>POA Irr[kW1m2]</th>\n",
       "      <th>P_Gaia[kW]</th>\n",
       "      <th>P_Solar[kW]</th>\n",
       "      <th>Pressure[mbar]</th>\n",
       "      <th>PR_A</th>\n",
       "      <th>Pac</th>\n",
       "      <th>Pdc</th>\n",
       "      <th>TempModule</th>\n",
       "      <th>TempCell</th>\n",
       "      <th>P/Pac</th>\n",
       "    </tr>\n",
       "  </thead>\n",
       "  <tbody>\n",
       "    <tr>\n",
       "      <th>2018-06-01 04:00:00</th>\n",
       "      <td>NaN</td>\n",
       "      <td>NaN</td>\n",
       "      <td>NaN</td>\n",
       "      <td>NaN</td>\n",
       "      <td>NaN</td>\n",
       "      <td>NaN</td>\n",
       "      <td>NaN</td>\n",
       "      <td>NaN</td>\n",
       "      <td>14.956095</td>\n",
       "      <td>0.700000</td>\n",
       "      <td>...</td>\n",
       "      <td>0.056974</td>\n",
       "      <td>0.000671</td>\n",
       "      <td>0.316833</td>\n",
       "      <td>1016.824675</td>\n",
       "      <td>0.771259</td>\n",
       "      <td>0.432287</td>\n",
       "      <td>0.440659</td>\n",
       "      <td>16.430217</td>\n",
       "      <td>16.601139</td>\n",
       "      <td>0.732924</td>\n",
       "    </tr>\n",
       "    <tr>\n",
       "      <th>2018-06-01 05:00:00</th>\n",
       "      <td>NaN</td>\n",
       "      <td>NaN</td>\n",
       "      <td>NaN</td>\n",
       "      <td>NaN</td>\n",
       "      <td>NaN</td>\n",
       "      <td>NaN</td>\n",
       "      <td>NaN</td>\n",
       "      <td>NaN</td>\n",
       "      <td>16.359278</td>\n",
       "      <td>0.700000</td>\n",
       "      <td>...</td>\n",
       "      <td>0.074395</td>\n",
       "      <td>0.056381</td>\n",
       "      <td>0.457303</td>\n",
       "      <td>1016.921153</td>\n",
       "      <td>0.851619</td>\n",
       "      <td>0.559628</td>\n",
       "      <td>0.570467</td>\n",
       "      <td>18.238640</td>\n",
       "      <td>18.461825</td>\n",
       "      <td>0.817155</td>\n",
       "    </tr>\n",
       "    <tr>\n",
       "      <th>2018-06-01 06:00:00</th>\n",
       "      <td>NaN</td>\n",
       "      <td>NaN</td>\n",
       "      <td>NaN</td>\n",
       "      <td>NaN</td>\n",
       "      <td>NaN</td>\n",
       "      <td>NaN</td>\n",
       "      <td>NaN</td>\n",
       "      <td>NaN</td>\n",
       "      <td>18.266389</td>\n",
       "      <td>0.633500</td>\n",
       "      <td>...</td>\n",
       "      <td>0.143629</td>\n",
       "      <td>0.034202</td>\n",
       "      <td>0.981629</td>\n",
       "      <td>1016.602885</td>\n",
       "      <td>0.959274</td>\n",
       "      <td>1.058032</td>\n",
       "      <td>1.078524</td>\n",
       "      <td>21.879632</td>\n",
       "      <td>22.310520</td>\n",
       "      <td>0.927788</td>\n",
       "    </tr>\n",
       "    <tr>\n",
       "      <th>2018-06-01 07:00:00</th>\n",
       "      <td>NaN</td>\n",
       "      <td>NaN</td>\n",
       "      <td>NaN</td>\n",
       "      <td>NaN</td>\n",
       "      <td>NaN</td>\n",
       "      <td>NaN</td>\n",
       "      <td>NaN</td>\n",
       "      <td>NaN</td>\n",
       "      <td>20.064750</td>\n",
       "      <td>0.587972</td>\n",
       "      <td>...</td>\n",
       "      <td>0.342008</td>\n",
       "      <td>0.002903</td>\n",
       "      <td>2.350645</td>\n",
       "      <td>1016.332812</td>\n",
       "      <td>0.954127</td>\n",
       "      <td>2.435991</td>\n",
       "      <td>2.483171</td>\n",
       "      <td>28.717007</td>\n",
       "      <td>29.743032</td>\n",
       "      <td>0.964965</td>\n",
       "    </tr>\n",
       "    <tr>\n",
       "      <th>2018-06-01 08:00:00</th>\n",
       "      <td>NaN</td>\n",
       "      <td>NaN</td>\n",
       "      <td>NaN</td>\n",
       "      <td>NaN</td>\n",
       "      <td>NaN</td>\n",
       "      <td>NaN</td>\n",
       "      <td>NaN</td>\n",
       "      <td>NaN</td>\n",
       "      <td>21.713278</td>\n",
       "      <td>0.499583</td>\n",
       "      <td>...</td>\n",
       "      <td>0.538267</td>\n",
       "      <td>0.003948</td>\n",
       "      <td>3.661579</td>\n",
       "      <td>1016.145600</td>\n",
       "      <td>0.945578</td>\n",
       "      <td>3.704321</td>\n",
       "      <td>3.776067</td>\n",
       "      <td>35.266054</td>\n",
       "      <td>36.880854</td>\n",
       "      <td>0.988461</td>\n",
       "    </tr>\n",
       "  </tbody>\n",
       "</table>\n",
       "<p>5 rows × 23 columns</p>\n",
       "</div>"
      ],
      "text/plain": [
       "                     RF_Global  RF_Faixa1  RF_Faixa2  RF_Faixa3  OE_Global  \\\n",
       "2018-06-01 04:00:00        NaN        NaN        NaN        NaN        NaN   \n",
       "2018-06-01 05:00:00        NaN        NaN        NaN        NaN        NaN   \n",
       "2018-06-01 06:00:00        NaN        NaN        NaN        NaN        NaN   \n",
       "2018-06-01 07:00:00        NaN        NaN        NaN        NaN        NaN   \n",
       "2018-06-01 08:00:00        NaN        NaN        NaN        NaN        NaN   \n",
       "\n",
       "                     OE_Faixa1  OE_Faixa2  OE_Faixa3  TEMPERATURE[degC]  \\\n",
       "2018-06-01 04:00:00        NaN        NaN        NaN          14.956095   \n",
       "2018-06-01 05:00:00        NaN        NaN        NaN          16.359278   \n",
       "2018-06-01 06:00:00        NaN        NaN        NaN          18.266389   \n",
       "2018-06-01 07:00:00        NaN        NaN        NaN          20.064750   \n",
       "2018-06-01 08:00:00        NaN        NaN        NaN          21.713278   \n",
       "\n",
       "                     HUMIDITY[%]  ...  POA Irr[kW1m2]  P_Gaia[kW]  \\\n",
       "2018-06-01 04:00:00     0.700000  ...        0.056974    0.000671   \n",
       "2018-06-01 05:00:00     0.700000  ...        0.074395    0.056381   \n",
       "2018-06-01 06:00:00     0.633500  ...        0.143629    0.034202   \n",
       "2018-06-01 07:00:00     0.587972  ...        0.342008    0.002903   \n",
       "2018-06-01 08:00:00     0.499583  ...        0.538267    0.003948   \n",
       "\n",
       "                     P_Solar[kW]  Pressure[mbar]      PR_A       Pac  \\\n",
       "2018-06-01 04:00:00     0.316833     1016.824675  0.771259  0.432287   \n",
       "2018-06-01 05:00:00     0.457303     1016.921153  0.851619  0.559628   \n",
       "2018-06-01 06:00:00     0.981629     1016.602885  0.959274  1.058032   \n",
       "2018-06-01 07:00:00     2.350645     1016.332812  0.954127  2.435991   \n",
       "2018-06-01 08:00:00     3.661579     1016.145600  0.945578  3.704321   \n",
       "\n",
       "                          Pdc  TempModule   TempCell     P/Pac  \n",
       "2018-06-01 04:00:00  0.440659   16.430217  16.601139  0.732924  \n",
       "2018-06-01 05:00:00  0.570467   18.238640  18.461825  0.817155  \n",
       "2018-06-01 06:00:00  1.078524   21.879632  22.310520  0.927788  \n",
       "2018-06-01 07:00:00  2.483171   28.717007  29.743032  0.964965  \n",
       "2018-06-01 08:00:00  3.776067   35.266054  36.880854  0.988461  \n",
       "\n",
       "[5 rows x 23 columns]"
      ]
     },
     "execution_count": 4,
     "metadata": {},
     "output_type": "execute_result"
    }
   ],
   "source": [
    "# Lendo os dataframes do resultado do RF e também dos dados com falha para fazer a comparação das detecções de falhas\n",
    "Results=pd.read_csv('Data/Solete/ML_Result.csv',index_col = 0, parse_dates=True)\n",
    "DadosComFalha = pd.read_csv('Data/Solete/PorHoraComFalha.csv',index_col = 0, parse_dates=True)\n",
    "frames = [Results,DadosComFalha]\n",
    "df_concatenado = pd.concat(frames,axis=1)\n",
    "df_concatenado.head()"
   ]
  },
  {
   "cell_type": "code",
   "execution_count": 5,
   "metadata": {},
   "outputs": [
    {
     "data": {
      "text/plain": [
       "1406"
      ]
     },
     "execution_count": 5,
     "metadata": {},
     "output_type": "execute_result"
    }
   ],
   "source": [
    "#Selecionando apenas a faixa de dados que contém resultados no RF\n",
    "df2 = df_concatenado.dropna(subset=['RF_Global'])\n",
    "df2.shape[0]"
   ]
  },
  {
   "cell_type": "code",
   "execution_count": 6,
   "metadata": {},
   "outputs": [
    {
     "name": "stderr",
     "output_type": "stream",
     "text": [
      "C:\\Users\\Bruno\\AppData\\Local\\Temp\\ipykernel_2404\\2521321930.py:2: SettingWithCopyWarning: \n",
      "A value is trying to be set on a copy of a slice from a DataFrame\n",
      "\n",
      "See the caveats in the documentation: https://pandas.pydata.org/pandas-docs/stable/user_guide/indexing.html#returning-a-view-versus-a-copy\n",
      "  df2.drop(columns=['TEMPERATURE[degC]','HUMIDITY[%]','WIND_SPEED[m1s]','WIND_DIR[deg]','GHI[kW1m2]','TempModule','TempCell','Pdc','P_Gaia[kW]'],inplace = True)\n"
     ]
    },
    {
     "data": {
      "text/html": [
       "<div>\n",
       "<style scoped>\n",
       "    .dataframe tbody tr th:only-of-type {\n",
       "        vertical-align: middle;\n",
       "    }\n",
       "\n",
       "    .dataframe tbody tr th {\n",
       "        vertical-align: top;\n",
       "    }\n",
       "\n",
       "    .dataframe thead th {\n",
       "        text-align: right;\n",
       "    }\n",
       "</style>\n",
       "<table border=\"1\" class=\"dataframe\">\n",
       "  <thead>\n",
       "    <tr style=\"text-align: right;\">\n",
       "      <th></th>\n",
       "      <th>RF_Global</th>\n",
       "      <th>RF_Faixa1</th>\n",
       "      <th>RF_Faixa2</th>\n",
       "      <th>RF_Faixa3</th>\n",
       "      <th>OE_Global</th>\n",
       "      <th>OE_Faixa1</th>\n",
       "      <th>OE_Faixa2</th>\n",
       "      <th>OE_Faixa3</th>\n",
       "      <th>POA Irr[kW1m2]</th>\n",
       "      <th>P_Solar[kW]</th>\n",
       "      <th>Pressure[mbar]</th>\n",
       "      <th>PR_A</th>\n",
       "      <th>Pac</th>\n",
       "      <th>P/Pac</th>\n",
       "    </tr>\n",
       "  </thead>\n",
       "  <tbody>\n",
       "    <tr>\n",
       "      <th>2019-05-19 11:00:00</th>\n",
       "      <td>2.811913</td>\n",
       "      <td>NaN</td>\n",
       "      <td>2.792768</td>\n",
       "      <td>NaN</td>\n",
       "      <td>2.787823</td>\n",
       "      <td>NaN</td>\n",
       "      <td>2.807651</td>\n",
       "      <td>NaN</td>\n",
       "      <td>0.398371</td>\n",
       "      <td>2.597761</td>\n",
       "      <td>1008.105079</td>\n",
       "      <td>0.907051</td>\n",
       "      <td>2.810923</td>\n",
       "      <td>0.924166</td>\n",
       "    </tr>\n",
       "    <tr>\n",
       "      <th>2019-05-19 12:00:00</th>\n",
       "      <td>4.054179</td>\n",
       "      <td>NaN</td>\n",
       "      <td>NaN</td>\n",
       "      <td>4.081745</td>\n",
       "      <td>4.088161</td>\n",
       "      <td>NaN</td>\n",
       "      <td>NaN</td>\n",
       "      <td>4.074804</td>\n",
       "      <td>0.598545</td>\n",
       "      <td>3.822858</td>\n",
       "      <td>1008.053324</td>\n",
       "      <td>0.890241</td>\n",
       "      <td>4.087444</td>\n",
       "      <td>0.935268</td>\n",
       "    </tr>\n",
       "    <tr>\n",
       "      <th>2019-05-19 13:00:00</th>\n",
       "      <td>4.792260</td>\n",
       "      <td>NaN</td>\n",
       "      <td>NaN</td>\n",
       "      <td>4.811114</td>\n",
       "      <td>4.846820</td>\n",
       "      <td>NaN</td>\n",
       "      <td>NaN</td>\n",
       "      <td>4.834758</td>\n",
       "      <td>0.724060</td>\n",
       "      <td>4.533689</td>\n",
       "      <td>1007.745077</td>\n",
       "      <td>0.870680</td>\n",
       "      <td>4.871560</td>\n",
       "      <td>0.930644</td>\n",
       "    </tr>\n",
       "    <tr>\n",
       "      <th>2019-05-19 14:00:00</th>\n",
       "      <td>2.950492</td>\n",
       "      <td>NaN</td>\n",
       "      <td>2.956496</td>\n",
       "      <td>NaN</td>\n",
       "      <td>2.909391</td>\n",
       "      <td>NaN</td>\n",
       "      <td>2.949166</td>\n",
       "      <td>NaN</td>\n",
       "      <td>0.419867</td>\n",
       "      <td>2.627058</td>\n",
       "      <td>1007.530023</td>\n",
       "      <td>0.880539</td>\n",
       "      <td>2.896391</td>\n",
       "      <td>0.907011</td>\n",
       "    </tr>\n",
       "    <tr>\n",
       "      <th>2019-05-19 15:00:00</th>\n",
       "      <td>2.798641</td>\n",
       "      <td>NaN</td>\n",
       "      <td>2.814588</td>\n",
       "      <td>NaN</td>\n",
       "      <td>2.807202</td>\n",
       "      <td>NaN</td>\n",
       "      <td>2.834475</td>\n",
       "      <td>NaN</td>\n",
       "      <td>0.403270</td>\n",
       "      <td>2.748606</td>\n",
       "      <td>1007.243416</td>\n",
       "      <td>0.946115</td>\n",
       "      <td>2.837841</td>\n",
       "      <td>0.968556</td>\n",
       "    </tr>\n",
       "  </tbody>\n",
       "</table>\n",
       "</div>"
      ],
      "text/plain": [
       "                     RF_Global  RF_Faixa1  RF_Faixa2  RF_Faixa3  OE_Global  \\\n",
       "2019-05-19 11:00:00   2.811913        NaN   2.792768        NaN   2.787823   \n",
       "2019-05-19 12:00:00   4.054179        NaN        NaN   4.081745   4.088161   \n",
       "2019-05-19 13:00:00   4.792260        NaN        NaN   4.811114   4.846820   \n",
       "2019-05-19 14:00:00   2.950492        NaN   2.956496        NaN   2.909391   \n",
       "2019-05-19 15:00:00   2.798641        NaN   2.814588        NaN   2.807202   \n",
       "\n",
       "                     OE_Faixa1  OE_Faixa2  OE_Faixa3  POA Irr[kW1m2]  \\\n",
       "2019-05-19 11:00:00        NaN   2.807651        NaN        0.398371   \n",
       "2019-05-19 12:00:00        NaN        NaN   4.074804        0.598545   \n",
       "2019-05-19 13:00:00        NaN        NaN   4.834758        0.724060   \n",
       "2019-05-19 14:00:00        NaN   2.949166        NaN        0.419867   \n",
       "2019-05-19 15:00:00        NaN   2.834475        NaN        0.403270   \n",
       "\n",
       "                     P_Solar[kW]  Pressure[mbar]      PR_A       Pac     P/Pac  \n",
       "2019-05-19 11:00:00     2.597761     1008.105079  0.907051  2.810923  0.924166  \n",
       "2019-05-19 12:00:00     3.822858     1008.053324  0.890241  4.087444  0.935268  \n",
       "2019-05-19 13:00:00     4.533689     1007.745077  0.870680  4.871560  0.930644  \n",
       "2019-05-19 14:00:00     2.627058     1007.530023  0.880539  2.896391  0.907011  \n",
       "2019-05-19 15:00:00     2.748606     1007.243416  0.946115  2.837841  0.968556  "
      ]
     },
     "execution_count": 6,
     "metadata": {},
     "output_type": "execute_result"
    }
   ],
   "source": [
    "#Limpando DF\n",
    "df2.drop(columns=['TEMPERATURE[degC]','HUMIDITY[%]','WIND_SPEED[m1s]','WIND_DIR[deg]','GHI[kW1m2]','TempModule','TempCell','Pdc','P_Gaia[kW]'],inplace = True)\n",
    "df2.head()"
   ]
  },
  {
   "cell_type": "code",
   "execution_count": 7,
   "metadata": {},
   "outputs": [
    {
     "name": "stderr",
     "output_type": "stream",
     "text": [
      "C:\\Users\\Bruno\\AppData\\Local\\Temp\\ipykernel_2404\\138864574.py:1: SettingWithCopyWarning: \n",
      "A value is trying to be set on a copy of a slice from a DataFrame.\n",
      "Try using .loc[row_indexer,col_indexer] = value instead\n",
      "\n",
      "See the caveats in the documentation: https://pandas.pydata.org/pandas-docs/stable/user_guide/indexing.html#returning-a-view-versus-a-copy\n",
      "  df2['P/RF_Global'] = df2[P].div(df2['RF_Global'].values)\n",
      "C:\\Users\\Bruno\\AppData\\Local\\Temp\\ipykernel_2404\\138864574.py:2: SettingWithCopyWarning: \n",
      "A value is trying to be set on a copy of a slice from a DataFrame.\n",
      "Try using .loc[row_indexer,col_indexer] = value instead\n",
      "\n",
      "See the caveats in the documentation: https://pandas.pydata.org/pandas-docs/stable/user_guide/indexing.html#returning-a-view-versus-a-copy\n",
      "  df2['P/RF_Faixa1'] = df2[P].div(df2['RF_Faixa1'].values)\n",
      "C:\\Users\\Bruno\\AppData\\Local\\Temp\\ipykernel_2404\\138864574.py:3: SettingWithCopyWarning: \n",
      "A value is trying to be set on a copy of a slice from a DataFrame.\n",
      "Try using .loc[row_indexer,col_indexer] = value instead\n",
      "\n",
      "See the caveats in the documentation: https://pandas.pydata.org/pandas-docs/stable/user_guide/indexing.html#returning-a-view-versus-a-copy\n",
      "  df2['P/RF_Faixa2'] = df2[P].div(df2['RF_Faixa2'].values)\n",
      "C:\\Users\\Bruno\\AppData\\Local\\Temp\\ipykernel_2404\\138864574.py:4: SettingWithCopyWarning: \n",
      "A value is trying to be set on a copy of a slice from a DataFrame.\n",
      "Try using .loc[row_indexer,col_indexer] = value instead\n",
      "\n",
      "See the caveats in the documentation: https://pandas.pydata.org/pandas-docs/stable/user_guide/indexing.html#returning-a-view-versus-a-copy\n",
      "  df2['P/RF_Faixa3'] = df2[P].div(df2['RF_Faixa3'].values)\n"
     ]
    },
    {
     "data": {
      "text/html": [
       "<div>\n",
       "<style scoped>\n",
       "    .dataframe tbody tr th:only-of-type {\n",
       "        vertical-align: middle;\n",
       "    }\n",
       "\n",
       "    .dataframe tbody tr th {\n",
       "        vertical-align: top;\n",
       "    }\n",
       "\n",
       "    .dataframe thead th {\n",
       "        text-align: right;\n",
       "    }\n",
       "</style>\n",
       "<table border=\"1\" class=\"dataframe\">\n",
       "  <thead>\n",
       "    <tr style=\"text-align: right;\">\n",
       "      <th></th>\n",
       "      <th>RF_Global</th>\n",
       "      <th>RF_Faixa1</th>\n",
       "      <th>RF_Faixa2</th>\n",
       "      <th>RF_Faixa3</th>\n",
       "      <th>OE_Global</th>\n",
       "      <th>OE_Faixa1</th>\n",
       "      <th>OE_Faixa2</th>\n",
       "      <th>OE_Faixa3</th>\n",
       "      <th>POA Irr[kW1m2]</th>\n",
       "      <th>P_Solar[kW]</th>\n",
       "      <th>Pressure[mbar]</th>\n",
       "      <th>PR_A</th>\n",
       "      <th>Pac</th>\n",
       "      <th>P/Pac</th>\n",
       "      <th>P/RF_Global</th>\n",
       "      <th>P/RF_Faixa1</th>\n",
       "      <th>P/RF_Faixa2</th>\n",
       "      <th>P/RF_Faixa3</th>\n",
       "    </tr>\n",
       "  </thead>\n",
       "  <tbody>\n",
       "    <tr>\n",
       "      <th>2019-05-19 11:00:00</th>\n",
       "      <td>2.811913</td>\n",
       "      <td>NaN</td>\n",
       "      <td>2.792768</td>\n",
       "      <td>NaN</td>\n",
       "      <td>2.787823</td>\n",
       "      <td>NaN</td>\n",
       "      <td>2.807651</td>\n",
       "      <td>NaN</td>\n",
       "      <td>0.398371</td>\n",
       "      <td>2.597761</td>\n",
       "      <td>1008.105079</td>\n",
       "      <td>0.907051</td>\n",
       "      <td>2.810923</td>\n",
       "      <td>0.924166</td>\n",
       "      <td>0.923841</td>\n",
       "      <td>NaN</td>\n",
       "      <td>0.930174</td>\n",
       "      <td>NaN</td>\n",
       "    </tr>\n",
       "    <tr>\n",
       "      <th>2019-05-19 12:00:00</th>\n",
       "      <td>4.054179</td>\n",
       "      <td>NaN</td>\n",
       "      <td>NaN</td>\n",
       "      <td>4.081745</td>\n",
       "      <td>4.088161</td>\n",
       "      <td>NaN</td>\n",
       "      <td>NaN</td>\n",
       "      <td>4.074804</td>\n",
       "      <td>0.598545</td>\n",
       "      <td>3.822858</td>\n",
       "      <td>1008.053324</td>\n",
       "      <td>0.890241</td>\n",
       "      <td>4.087444</td>\n",
       "      <td>0.935268</td>\n",
       "      <td>0.942943</td>\n",
       "      <td>NaN</td>\n",
       "      <td>NaN</td>\n",
       "      <td>0.936575</td>\n",
       "    </tr>\n",
       "    <tr>\n",
       "      <th>2019-05-19 13:00:00</th>\n",
       "      <td>4.792260</td>\n",
       "      <td>NaN</td>\n",
       "      <td>NaN</td>\n",
       "      <td>4.811114</td>\n",
       "      <td>4.846820</td>\n",
       "      <td>NaN</td>\n",
       "      <td>NaN</td>\n",
       "      <td>4.834758</td>\n",
       "      <td>0.724060</td>\n",
       "      <td>4.533689</td>\n",
       "      <td>1007.745077</td>\n",
       "      <td>0.870680</td>\n",
       "      <td>4.871560</td>\n",
       "      <td>0.930644</td>\n",
       "      <td>0.946044</td>\n",
       "      <td>NaN</td>\n",
       "      <td>NaN</td>\n",
       "      <td>0.942337</td>\n",
       "    </tr>\n",
       "    <tr>\n",
       "      <th>2019-05-19 14:00:00</th>\n",
       "      <td>2.950492</td>\n",
       "      <td>NaN</td>\n",
       "      <td>2.956496</td>\n",
       "      <td>NaN</td>\n",
       "      <td>2.909391</td>\n",
       "      <td>NaN</td>\n",
       "      <td>2.949166</td>\n",
       "      <td>NaN</td>\n",
       "      <td>0.419867</td>\n",
       "      <td>2.627058</td>\n",
       "      <td>1007.530023</td>\n",
       "      <td>0.880539</td>\n",
       "      <td>2.896391</td>\n",
       "      <td>0.907011</td>\n",
       "      <td>0.890380</td>\n",
       "      <td>NaN</td>\n",
       "      <td>0.888571</td>\n",
       "      <td>NaN</td>\n",
       "    </tr>\n",
       "    <tr>\n",
       "      <th>2019-05-19 15:00:00</th>\n",
       "      <td>2.798641</td>\n",
       "      <td>NaN</td>\n",
       "      <td>2.814588</td>\n",
       "      <td>NaN</td>\n",
       "      <td>2.807202</td>\n",
       "      <td>NaN</td>\n",
       "      <td>2.834475</td>\n",
       "      <td>NaN</td>\n",
       "      <td>0.403270</td>\n",
       "      <td>2.748606</td>\n",
       "      <td>1007.243416</td>\n",
       "      <td>0.946115</td>\n",
       "      <td>2.837841</td>\n",
       "      <td>0.968556</td>\n",
       "      <td>0.982122</td>\n",
       "      <td>NaN</td>\n",
       "      <td>0.976557</td>\n",
       "      <td>NaN</td>\n",
       "    </tr>\n",
       "  </tbody>\n",
       "</table>\n",
       "</div>"
      ],
      "text/plain": [
       "                     RF_Global  RF_Faixa1  RF_Faixa2  RF_Faixa3  OE_Global  \\\n",
       "2019-05-19 11:00:00   2.811913        NaN   2.792768        NaN   2.787823   \n",
       "2019-05-19 12:00:00   4.054179        NaN        NaN   4.081745   4.088161   \n",
       "2019-05-19 13:00:00   4.792260        NaN        NaN   4.811114   4.846820   \n",
       "2019-05-19 14:00:00   2.950492        NaN   2.956496        NaN   2.909391   \n",
       "2019-05-19 15:00:00   2.798641        NaN   2.814588        NaN   2.807202   \n",
       "\n",
       "                     OE_Faixa1  OE_Faixa2  OE_Faixa3  POA Irr[kW1m2]  \\\n",
       "2019-05-19 11:00:00        NaN   2.807651        NaN        0.398371   \n",
       "2019-05-19 12:00:00        NaN        NaN   4.074804        0.598545   \n",
       "2019-05-19 13:00:00        NaN        NaN   4.834758        0.724060   \n",
       "2019-05-19 14:00:00        NaN   2.949166        NaN        0.419867   \n",
       "2019-05-19 15:00:00        NaN   2.834475        NaN        0.403270   \n",
       "\n",
       "                     P_Solar[kW]  Pressure[mbar]      PR_A       Pac  \\\n",
       "2019-05-19 11:00:00     2.597761     1008.105079  0.907051  2.810923   \n",
       "2019-05-19 12:00:00     3.822858     1008.053324  0.890241  4.087444   \n",
       "2019-05-19 13:00:00     4.533689     1007.745077  0.870680  4.871560   \n",
       "2019-05-19 14:00:00     2.627058     1007.530023  0.880539  2.896391   \n",
       "2019-05-19 15:00:00     2.748606     1007.243416  0.946115  2.837841   \n",
       "\n",
       "                        P/Pac  P/RF_Global  P/RF_Faixa1  P/RF_Faixa2  \\\n",
       "2019-05-19 11:00:00  0.924166     0.923841          NaN     0.930174   \n",
       "2019-05-19 12:00:00  0.935268     0.942943          NaN          NaN   \n",
       "2019-05-19 13:00:00  0.930644     0.946044          NaN          NaN   \n",
       "2019-05-19 14:00:00  0.907011     0.890380          NaN     0.888571   \n",
       "2019-05-19 15:00:00  0.968556     0.982122          NaN     0.976557   \n",
       "\n",
       "                     P/RF_Faixa3  \n",
       "2019-05-19 11:00:00          NaN  \n",
       "2019-05-19 12:00:00     0.936575  \n",
       "2019-05-19 13:00:00     0.942337  \n",
       "2019-05-19 14:00:00          NaN  \n",
       "2019-05-19 15:00:00          NaN  "
      ]
     },
     "execution_count": 7,
     "metadata": {},
     "output_type": "execute_result"
    }
   ],
   "source": [
    "df2['P/RF_Global'] = df2[P].div(df2['RF_Global'].values)\n",
    "df2['P/RF_Faixa1'] = df2[P].div(df2['RF_Faixa1'].values)\n",
    "df2['P/RF_Faixa2'] = df2[P].div(df2['RF_Faixa2'].values)\n",
    "df2['P/RF_Faixa3'] = df2[P].div(df2['RF_Faixa3'].values)\n",
    "df2.head(5)"
   ]
  },
  {
   "cell_type": "code",
   "execution_count": 8,
   "metadata": {},
   "outputs": [
    {
     "name": "stderr",
     "output_type": "stream",
     "text": [
      "C:\\Users\\Bruno\\AppData\\Local\\Temp\\ipykernel_2404\\4272322984.py:1: SettingWithCopyWarning: \n",
      "A value is trying to be set on a copy of a slice from a DataFrame.\n",
      "Try using .loc[row_indexer,col_indexer] = value instead\n",
      "\n",
      "See the caveats in the documentation: https://pandas.pydata.org/pandas-docs/stable/user_guide/indexing.html#returning-a-view-versus-a-copy\n",
      "  df2['P/OE_Global'] = df2[P].div(df2['OE_Global'].values)\n",
      "C:\\Users\\Bruno\\AppData\\Local\\Temp\\ipykernel_2404\\4272322984.py:2: SettingWithCopyWarning: \n",
      "A value is trying to be set on a copy of a slice from a DataFrame.\n",
      "Try using .loc[row_indexer,col_indexer] = value instead\n",
      "\n",
      "See the caveats in the documentation: https://pandas.pydata.org/pandas-docs/stable/user_guide/indexing.html#returning-a-view-versus-a-copy\n",
      "  df2['P/OE_Faixa1'] = df2[P].div(df2['OE_Faixa1'].values)\n",
      "C:\\Users\\Bruno\\AppData\\Local\\Temp\\ipykernel_2404\\4272322984.py:3: SettingWithCopyWarning: \n",
      "A value is trying to be set on a copy of a slice from a DataFrame.\n",
      "Try using .loc[row_indexer,col_indexer] = value instead\n",
      "\n",
      "See the caveats in the documentation: https://pandas.pydata.org/pandas-docs/stable/user_guide/indexing.html#returning-a-view-versus-a-copy\n",
      "  df2['P/OE_Faixa2'] = df2[P].div(df2['OE_Faixa2'].values)\n",
      "C:\\Users\\Bruno\\AppData\\Local\\Temp\\ipykernel_2404\\4272322984.py:4: SettingWithCopyWarning: \n",
      "A value is trying to be set on a copy of a slice from a DataFrame.\n",
      "Try using .loc[row_indexer,col_indexer] = value instead\n",
      "\n",
      "See the caveats in the documentation: https://pandas.pydata.org/pandas-docs/stable/user_guide/indexing.html#returning-a-view-versus-a-copy\n",
      "  df2['P/OE_Faixa3'] = df2[P].div(df2['OE_Faixa3'].values)\n"
     ]
    },
    {
     "data": {
      "text/html": [
       "<div>\n",
       "<style scoped>\n",
       "    .dataframe tbody tr th:only-of-type {\n",
       "        vertical-align: middle;\n",
       "    }\n",
       "\n",
       "    .dataframe tbody tr th {\n",
       "        vertical-align: top;\n",
       "    }\n",
       "\n",
       "    .dataframe thead th {\n",
       "        text-align: right;\n",
       "    }\n",
       "</style>\n",
       "<table border=\"1\" class=\"dataframe\">\n",
       "  <thead>\n",
       "    <tr style=\"text-align: right;\">\n",
       "      <th></th>\n",
       "      <th>RF_Global</th>\n",
       "      <th>RF_Faixa1</th>\n",
       "      <th>RF_Faixa2</th>\n",
       "      <th>RF_Faixa3</th>\n",
       "      <th>OE_Global</th>\n",
       "      <th>OE_Faixa1</th>\n",
       "      <th>OE_Faixa2</th>\n",
       "      <th>OE_Faixa3</th>\n",
       "      <th>POA Irr[kW1m2]</th>\n",
       "      <th>P_Solar[kW]</th>\n",
       "      <th>...</th>\n",
       "      <th>Pac</th>\n",
       "      <th>P/Pac</th>\n",
       "      <th>P/RF_Global</th>\n",
       "      <th>P/RF_Faixa1</th>\n",
       "      <th>P/RF_Faixa2</th>\n",
       "      <th>P/RF_Faixa3</th>\n",
       "      <th>P/OE_Global</th>\n",
       "      <th>P/OE_Faixa1</th>\n",
       "      <th>P/OE_Faixa2</th>\n",
       "      <th>P/OE_Faixa3</th>\n",
       "    </tr>\n",
       "  </thead>\n",
       "  <tbody>\n",
       "    <tr>\n",
       "      <th>2019-05-19 11:00:00</th>\n",
       "      <td>2.811913</td>\n",
       "      <td>NaN</td>\n",
       "      <td>2.792768</td>\n",
       "      <td>NaN</td>\n",
       "      <td>2.787823</td>\n",
       "      <td>NaN</td>\n",
       "      <td>2.807651</td>\n",
       "      <td>NaN</td>\n",
       "      <td>0.398371</td>\n",
       "      <td>2.597761</td>\n",
       "      <td>...</td>\n",
       "      <td>2.810923</td>\n",
       "      <td>0.924166</td>\n",
       "      <td>0.923841</td>\n",
       "      <td>NaN</td>\n",
       "      <td>0.930174</td>\n",
       "      <td>NaN</td>\n",
       "      <td>0.931824</td>\n",
       "      <td>NaN</td>\n",
       "      <td>0.925243</td>\n",
       "      <td>NaN</td>\n",
       "    </tr>\n",
       "    <tr>\n",
       "      <th>2019-05-19 12:00:00</th>\n",
       "      <td>4.054179</td>\n",
       "      <td>NaN</td>\n",
       "      <td>NaN</td>\n",
       "      <td>4.081745</td>\n",
       "      <td>4.088161</td>\n",
       "      <td>NaN</td>\n",
       "      <td>NaN</td>\n",
       "      <td>4.074804</td>\n",
       "      <td>0.598545</td>\n",
       "      <td>3.822858</td>\n",
       "      <td>...</td>\n",
       "      <td>4.087444</td>\n",
       "      <td>0.935268</td>\n",
       "      <td>0.942943</td>\n",
       "      <td>NaN</td>\n",
       "      <td>NaN</td>\n",
       "      <td>0.936575</td>\n",
       "      <td>0.935104</td>\n",
       "      <td>NaN</td>\n",
       "      <td>NaN</td>\n",
       "      <td>0.938170</td>\n",
       "    </tr>\n",
       "    <tr>\n",
       "      <th>2019-05-19 13:00:00</th>\n",
       "      <td>4.792260</td>\n",
       "      <td>NaN</td>\n",
       "      <td>NaN</td>\n",
       "      <td>4.811114</td>\n",
       "      <td>4.846820</td>\n",
       "      <td>NaN</td>\n",
       "      <td>NaN</td>\n",
       "      <td>4.834758</td>\n",
       "      <td>0.724060</td>\n",
       "      <td>4.533689</td>\n",
       "      <td>...</td>\n",
       "      <td>4.871560</td>\n",
       "      <td>0.930644</td>\n",
       "      <td>0.946044</td>\n",
       "      <td>NaN</td>\n",
       "      <td>NaN</td>\n",
       "      <td>0.942337</td>\n",
       "      <td>0.935395</td>\n",
       "      <td>NaN</td>\n",
       "      <td>NaN</td>\n",
       "      <td>0.937728</td>\n",
       "    </tr>\n",
       "    <tr>\n",
       "      <th>2019-05-19 14:00:00</th>\n",
       "      <td>2.950492</td>\n",
       "      <td>NaN</td>\n",
       "      <td>2.956496</td>\n",
       "      <td>NaN</td>\n",
       "      <td>2.909391</td>\n",
       "      <td>NaN</td>\n",
       "      <td>2.949166</td>\n",
       "      <td>NaN</td>\n",
       "      <td>0.419867</td>\n",
       "      <td>2.627058</td>\n",
       "      <td>...</td>\n",
       "      <td>2.896391</td>\n",
       "      <td>0.907011</td>\n",
       "      <td>0.890380</td>\n",
       "      <td>NaN</td>\n",
       "      <td>0.888571</td>\n",
       "      <td>NaN</td>\n",
       "      <td>0.902958</td>\n",
       "      <td>NaN</td>\n",
       "      <td>0.890780</td>\n",
       "      <td>NaN</td>\n",
       "    </tr>\n",
       "    <tr>\n",
       "      <th>2019-05-19 15:00:00</th>\n",
       "      <td>2.798641</td>\n",
       "      <td>NaN</td>\n",
       "      <td>2.814588</td>\n",
       "      <td>NaN</td>\n",
       "      <td>2.807202</td>\n",
       "      <td>NaN</td>\n",
       "      <td>2.834475</td>\n",
       "      <td>NaN</td>\n",
       "      <td>0.403270</td>\n",
       "      <td>2.748606</td>\n",
       "      <td>...</td>\n",
       "      <td>2.837841</td>\n",
       "      <td>0.968556</td>\n",
       "      <td>0.982122</td>\n",
       "      <td>NaN</td>\n",
       "      <td>0.976557</td>\n",
       "      <td>NaN</td>\n",
       "      <td>0.979127</td>\n",
       "      <td>NaN</td>\n",
       "      <td>0.969706</td>\n",
       "      <td>NaN</td>\n",
       "    </tr>\n",
       "    <tr>\n",
       "      <th>2019-05-19 16:00:00</th>\n",
       "      <td>1.684619</td>\n",
       "      <td>1.701365</td>\n",
       "      <td>NaN</td>\n",
       "      <td>NaN</td>\n",
       "      <td>1.631714</td>\n",
       "      <td>1.686151</td>\n",
       "      <td>NaN</td>\n",
       "      <td>NaN</td>\n",
       "      <td>0.234177</td>\n",
       "      <td>1.621072</td>\n",
       "      <td>...</td>\n",
       "      <td>1.688379</td>\n",
       "      <td>0.960135</td>\n",
       "      <td>0.962278</td>\n",
       "      <td>0.952807</td>\n",
       "      <td>NaN</td>\n",
       "      <td>NaN</td>\n",
       "      <td>0.993478</td>\n",
       "      <td>0.961404</td>\n",
       "      <td>NaN</td>\n",
       "      <td>NaN</td>\n",
       "    </tr>\n",
       "    <tr>\n",
       "      <th>2019-05-19 17:00:00</th>\n",
       "      <td>0.674187</td>\n",
       "      <td>0.677742</td>\n",
       "      <td>NaN</td>\n",
       "      <td>NaN</td>\n",
       "      <td>0.661679</td>\n",
       "      <td>0.668532</td>\n",
       "      <td>NaN</td>\n",
       "      <td>NaN</td>\n",
       "      <td>0.098492</td>\n",
       "      <td>0.632810</td>\n",
       "      <td>...</td>\n",
       "      <td>0.724425</td>\n",
       "      <td>0.873534</td>\n",
       "      <td>0.938626</td>\n",
       "      <td>0.933703</td>\n",
       "      <td>NaN</td>\n",
       "      <td>NaN</td>\n",
       "      <td>0.956370</td>\n",
       "      <td>0.946565</td>\n",
       "      <td>NaN</td>\n",
       "      <td>NaN</td>\n",
       "    </tr>\n",
       "    <tr>\n",
       "      <th>2019-05-20 05:00:00</th>\n",
       "      <td>0.560148</td>\n",
       "      <td>0.552782</td>\n",
       "      <td>NaN</td>\n",
       "      <td>NaN</td>\n",
       "      <td>0.549930</td>\n",
       "      <td>0.546232</td>\n",
       "      <td>NaN</td>\n",
       "      <td>NaN</td>\n",
       "      <td>0.081347</td>\n",
       "      <td>0.507092</td>\n",
       "      <td>...</td>\n",
       "      <td>0.613708</td>\n",
       "      <td>0.826275</td>\n",
       "      <td>0.905281</td>\n",
       "      <td>0.917346</td>\n",
       "      <td>NaN</td>\n",
       "      <td>NaN</td>\n",
       "      <td>0.922103</td>\n",
       "      <td>0.928346</td>\n",
       "      <td>NaN</td>\n",
       "      <td>NaN</td>\n",
       "    </tr>\n",
       "    <tr>\n",
       "      <th>2019-05-20 06:00:00</th>\n",
       "      <td>0.578392</td>\n",
       "      <td>0.578069</td>\n",
       "      <td>NaN</td>\n",
       "      <td>NaN</td>\n",
       "      <td>0.577852</td>\n",
       "      <td>0.575595</td>\n",
       "      <td>NaN</td>\n",
       "      <td>NaN</td>\n",
       "      <td>0.085338</td>\n",
       "      <td>0.532989</td>\n",
       "      <td>...</td>\n",
       "      <td>0.642590</td>\n",
       "      <td>0.829439</td>\n",
       "      <td>0.921502</td>\n",
       "      <td>0.922015</td>\n",
       "      <td>NaN</td>\n",
       "      <td>NaN</td>\n",
       "      <td>0.922362</td>\n",
       "      <td>0.925978</td>\n",
       "      <td>NaN</td>\n",
       "      <td>NaN</td>\n",
       "    </tr>\n",
       "    <tr>\n",
       "      <th>2019-05-20 07:00:00</th>\n",
       "      <td>0.458032</td>\n",
       "      <td>0.456912</td>\n",
       "      <td>NaN</td>\n",
       "      <td>NaN</td>\n",
       "      <td>0.464182</td>\n",
       "      <td>0.458527</td>\n",
       "      <td>NaN</td>\n",
       "      <td>NaN</td>\n",
       "      <td>0.069638</td>\n",
       "      <td>0.427158</td>\n",
       "      <td>...</td>\n",
       "      <td>0.524610</td>\n",
       "      <td>0.814239</td>\n",
       "      <td>0.932594</td>\n",
       "      <td>0.934880</td>\n",
       "      <td>NaN</td>\n",
       "      <td>NaN</td>\n",
       "      <td>0.920237</td>\n",
       "      <td>0.931587</td>\n",
       "      <td>NaN</td>\n",
       "      <td>NaN</td>\n",
       "    </tr>\n",
       "  </tbody>\n",
       "</table>\n",
       "<p>10 rows × 22 columns</p>\n",
       "</div>"
      ],
      "text/plain": [
       "                     RF_Global  RF_Faixa1  RF_Faixa2  RF_Faixa3  OE_Global  \\\n",
       "2019-05-19 11:00:00   2.811913        NaN   2.792768        NaN   2.787823   \n",
       "2019-05-19 12:00:00   4.054179        NaN        NaN   4.081745   4.088161   \n",
       "2019-05-19 13:00:00   4.792260        NaN        NaN   4.811114   4.846820   \n",
       "2019-05-19 14:00:00   2.950492        NaN   2.956496        NaN   2.909391   \n",
       "2019-05-19 15:00:00   2.798641        NaN   2.814588        NaN   2.807202   \n",
       "2019-05-19 16:00:00   1.684619   1.701365        NaN        NaN   1.631714   \n",
       "2019-05-19 17:00:00   0.674187   0.677742        NaN        NaN   0.661679   \n",
       "2019-05-20 05:00:00   0.560148   0.552782        NaN        NaN   0.549930   \n",
       "2019-05-20 06:00:00   0.578392   0.578069        NaN        NaN   0.577852   \n",
       "2019-05-20 07:00:00   0.458032   0.456912        NaN        NaN   0.464182   \n",
       "\n",
       "                     OE_Faixa1  OE_Faixa2  OE_Faixa3  POA Irr[kW1m2]  \\\n",
       "2019-05-19 11:00:00        NaN   2.807651        NaN        0.398371   \n",
       "2019-05-19 12:00:00        NaN        NaN   4.074804        0.598545   \n",
       "2019-05-19 13:00:00        NaN        NaN   4.834758        0.724060   \n",
       "2019-05-19 14:00:00        NaN   2.949166        NaN        0.419867   \n",
       "2019-05-19 15:00:00        NaN   2.834475        NaN        0.403270   \n",
       "2019-05-19 16:00:00   1.686151        NaN        NaN        0.234177   \n",
       "2019-05-19 17:00:00   0.668532        NaN        NaN        0.098492   \n",
       "2019-05-20 05:00:00   0.546232        NaN        NaN        0.081347   \n",
       "2019-05-20 06:00:00   0.575595        NaN        NaN        0.085338   \n",
       "2019-05-20 07:00:00   0.458527        NaN        NaN        0.069638   \n",
       "\n",
       "                     P_Solar[kW]  ...       Pac     P/Pac  P/RF_Global  \\\n",
       "2019-05-19 11:00:00     2.597761  ...  2.810923  0.924166     0.923841   \n",
       "2019-05-19 12:00:00     3.822858  ...  4.087444  0.935268     0.942943   \n",
       "2019-05-19 13:00:00     4.533689  ...  4.871560  0.930644     0.946044   \n",
       "2019-05-19 14:00:00     2.627058  ...  2.896391  0.907011     0.890380   \n",
       "2019-05-19 15:00:00     2.748606  ...  2.837841  0.968556     0.982122   \n",
       "2019-05-19 16:00:00     1.621072  ...  1.688379  0.960135     0.962278   \n",
       "2019-05-19 17:00:00     0.632810  ...  0.724425  0.873534     0.938626   \n",
       "2019-05-20 05:00:00     0.507092  ...  0.613708  0.826275     0.905281   \n",
       "2019-05-20 06:00:00     0.532989  ...  0.642590  0.829439     0.921502   \n",
       "2019-05-20 07:00:00     0.427158  ...  0.524610  0.814239     0.932594   \n",
       "\n",
       "                     P/RF_Faixa1  P/RF_Faixa2  P/RF_Faixa3  P/OE_Global  \\\n",
       "2019-05-19 11:00:00          NaN     0.930174          NaN     0.931824   \n",
       "2019-05-19 12:00:00          NaN          NaN     0.936575     0.935104   \n",
       "2019-05-19 13:00:00          NaN          NaN     0.942337     0.935395   \n",
       "2019-05-19 14:00:00          NaN     0.888571          NaN     0.902958   \n",
       "2019-05-19 15:00:00          NaN     0.976557          NaN     0.979127   \n",
       "2019-05-19 16:00:00     0.952807          NaN          NaN     0.993478   \n",
       "2019-05-19 17:00:00     0.933703          NaN          NaN     0.956370   \n",
       "2019-05-20 05:00:00     0.917346          NaN          NaN     0.922103   \n",
       "2019-05-20 06:00:00     0.922015          NaN          NaN     0.922362   \n",
       "2019-05-20 07:00:00     0.934880          NaN          NaN     0.920237   \n",
       "\n",
       "                     P/OE_Faixa1  P/OE_Faixa2  P/OE_Faixa3  \n",
       "2019-05-19 11:00:00          NaN     0.925243          NaN  \n",
       "2019-05-19 12:00:00          NaN          NaN     0.938170  \n",
       "2019-05-19 13:00:00          NaN          NaN     0.937728  \n",
       "2019-05-19 14:00:00          NaN     0.890780          NaN  \n",
       "2019-05-19 15:00:00          NaN     0.969706          NaN  \n",
       "2019-05-19 16:00:00     0.961404          NaN          NaN  \n",
       "2019-05-19 17:00:00     0.946565          NaN          NaN  \n",
       "2019-05-20 05:00:00     0.928346          NaN          NaN  \n",
       "2019-05-20 06:00:00     0.925978          NaN          NaN  \n",
       "2019-05-20 07:00:00     0.931587          NaN          NaN  \n",
       "\n",
       "[10 rows x 22 columns]"
      ]
     },
     "execution_count": 8,
     "metadata": {},
     "output_type": "execute_result"
    }
   ],
   "source": [
    "df2['P/OE_Global'] = df2[P].div(df2['OE_Global'].values)\n",
    "df2['P/OE_Faixa1'] = df2[P].div(df2['OE_Faixa1'].values)\n",
    "df2['P/OE_Faixa2'] = df2[P].div(df2['OE_Faixa2'].values)\n",
    "df2['P/OE_Faixa3'] = df2[P].div(df2['OE_Faixa3'].values)\n",
    "df2.head(10)"
   ]
  },
  {
   "cell_type": "markdown",
   "metadata": {},
   "source": [
    "# Gráficos da faixa global"
   ]
  },
  {
   "cell_type": "markdown",
   "metadata": {},
   "source": [
    "## Obtendo a média e desvio padrão"
   ]
  },
  {
   "cell_type": "code",
   "execution_count": 9,
   "metadata": {},
   "outputs": [
    {
     "data": {
      "text/html": [
       "<div>\n",
       "<style scoped>\n",
       "    .dataframe tbody tr th:only-of-type {\n",
       "        vertical-align: middle;\n",
       "    }\n",
       "\n",
       "    .dataframe tbody tr th {\n",
       "        vertical-align: top;\n",
       "    }\n",
       "\n",
       "    .dataframe thead th {\n",
       "        text-align: right;\n",
       "    }\n",
       "</style>\n",
       "<table border=\"1\" class=\"dataframe\">\n",
       "  <thead>\n",
       "    <tr style=\"text-align: right;\">\n",
       "      <th></th>\n",
       "      <th>TEMPERATURE[degC]</th>\n",
       "      <th>HUMIDITY[%]</th>\n",
       "      <th>POA Irr[kW1m2]</th>\n",
       "      <th>Pac</th>\n",
       "      <th>TempModule</th>\n",
       "      <th>TempCell</th>\n",
       "      <th>GHI[kW1m2]</th>\n",
       "      <th>P_Solar[kW]</th>\n",
       "      <th>P/Pac</th>\n",
       "      <th>P/PacOE</th>\n",
       "      <th>P/PacRF</th>\n",
       "    </tr>\n",
       "  </thead>\n",
       "  <tbody>\n",
       "    <tr>\n",
       "      <th>2018-06-01 04:00:00</th>\n",
       "      <td>14.956095</td>\n",
       "      <td>0.700000</td>\n",
       "      <td>0.056974</td>\n",
       "      <td>0.432287</td>\n",
       "      <td>16.430217</td>\n",
       "      <td>16.601139</td>\n",
       "      <td>0.137325</td>\n",
       "      <td>0.316833</td>\n",
       "      <td>0.732924</td>\n",
       "      <td>0.843383</td>\n",
       "      <td>0.976951</td>\n",
       "    </tr>\n",
       "    <tr>\n",
       "      <th>2018-06-01 05:00:00</th>\n",
       "      <td>16.359278</td>\n",
       "      <td>0.700000</td>\n",
       "      <td>0.074395</td>\n",
       "      <td>0.559628</td>\n",
       "      <td>18.238640</td>\n",
       "      <td>18.461825</td>\n",
       "      <td>0.225724</td>\n",
       "      <td>0.457303</td>\n",
       "      <td>0.817155</td>\n",
       "      <td>0.918620</td>\n",
       "      <td>0.982058</td>\n",
       "    </tr>\n",
       "    <tr>\n",
       "      <th>2018-06-01 06:00:00</th>\n",
       "      <td>18.266389</td>\n",
       "      <td>0.633500</td>\n",
       "      <td>0.143629</td>\n",
       "      <td>1.058032</td>\n",
       "      <td>21.879632</td>\n",
       "      <td>22.310520</td>\n",
       "      <td>0.344626</td>\n",
       "      <td>0.981629</td>\n",
       "      <td>0.927788</td>\n",
       "      <td>0.988415</td>\n",
       "      <td>0.989410</td>\n",
       "    </tr>\n",
       "    <tr>\n",
       "      <th>2018-06-01 07:00:00</th>\n",
       "      <td>20.064750</td>\n",
       "      <td>0.587972</td>\n",
       "      <td>0.342008</td>\n",
       "      <td>2.435991</td>\n",
       "      <td>28.717007</td>\n",
       "      <td>29.743032</td>\n",
       "      <td>0.451299</td>\n",
       "      <td>2.350645</td>\n",
       "      <td>0.964965</td>\n",
       "      <td>0.981233</td>\n",
       "      <td>0.994038</td>\n",
       "    </tr>\n",
       "    <tr>\n",
       "      <th>2018-06-01 08:00:00</th>\n",
       "      <td>21.713278</td>\n",
       "      <td>0.499583</td>\n",
       "      <td>0.538267</td>\n",
       "      <td>3.704321</td>\n",
       "      <td>35.266054</td>\n",
       "      <td>36.880854</td>\n",
       "      <td>0.540191</td>\n",
       "      <td>3.661579</td>\n",
       "      <td>0.988461</td>\n",
       "      <td>0.993457</td>\n",
       "      <td>0.998609</td>\n",
       "    </tr>\n",
       "  </tbody>\n",
       "</table>\n",
       "</div>"
      ],
      "text/plain": [
       "                     TEMPERATURE[degC]  HUMIDITY[%]  POA Irr[kW1m2]       Pac  \\\n",
       "2018-06-01 04:00:00          14.956095     0.700000        0.056974  0.432287   \n",
       "2018-06-01 05:00:00          16.359278     0.700000        0.074395  0.559628   \n",
       "2018-06-01 06:00:00          18.266389     0.633500        0.143629  1.058032   \n",
       "2018-06-01 07:00:00          20.064750     0.587972        0.342008  2.435991   \n",
       "2018-06-01 08:00:00          21.713278     0.499583        0.538267  3.704321   \n",
       "\n",
       "                     TempModule   TempCell  GHI[kW1m2]  P_Solar[kW]     P/Pac  \\\n",
       "2018-06-01 04:00:00   16.430217  16.601139    0.137325     0.316833  0.732924   \n",
       "2018-06-01 05:00:00   18.238640  18.461825    0.225724     0.457303  0.817155   \n",
       "2018-06-01 06:00:00   21.879632  22.310520    0.344626     0.981629  0.927788   \n",
       "2018-06-01 07:00:00   28.717007  29.743032    0.451299     2.350645  0.964965   \n",
       "2018-06-01 08:00:00   35.266054  36.880854    0.540191     3.661579  0.988461   \n",
       "\n",
       "                      P/PacOE   P/PacRF  \n",
       "2018-06-01 04:00:00  0.843383  0.976951  \n",
       "2018-06-01 05:00:00  0.918620  0.982058  \n",
       "2018-06-01 06:00:00  0.988415  0.989410  \n",
       "2018-06-01 07:00:00  0.981233  0.994038  \n",
       "2018-06-01 08:00:00  0.993457  0.998609  "
      ]
     },
     "execution_count": 9,
     "metadata": {},
     "output_type": "execute_result"
    }
   ],
   "source": [
    "df_treinamento.head()"
   ]
  },
  {
   "cell_type": "code",
   "execution_count": 10,
   "metadata": {},
   "outputs": [],
   "source": [
    "#Média e desvio padrão da faixa global\n",
    "media_global_MF = df_treinamento['P/Pac'].mean()\n",
    "dp_global_MF = df_treinamento['P/Pac'].std()\n",
    "\n",
    "media_global_OE = df_treinamento['P/PacOE'].mean()\n",
    "dp_global_OE = df_treinamento['P/PacOE'].std()\n",
    "\n"
   ]
  },
  {
   "cell_type": "markdown",
   "metadata": {},
   "source": [
    "## Separando as \"falhas\" e \"Não Falhas identificadas pela média desvio padrão"
   ]
  },
  {
   "cell_type": "code",
   "execution_count": 11,
   "metadata": {},
   "outputs": [],
   "source": [
    "#MF\n",
    "selecao_falhas_MF = (df2['P/Pac'] >= (media_global_MF + 3*dp_global_MF))  | (df2['P/Pac'] <= (media_global_MF - 3*dp_global_MF))\n",
    "df2_MF_Global_F = df2[selecao_falhas_MF]\n",
    "df2_MF_Global_NF = df2[~selecao_falhas_MF]\n",
    "\n",
    "#RF\n",
    "selecao_falhas_RF = (df2['P/RF_Global'] >= (media_global_OE + 3*dp_global_OE))  | (df2['P/RF_Global'] <= (media_global_OE - 3.4*dp_global_OE))\n",
    "df2_RF_Global_F = df2[selecao_falhas_RF]\n",
    "df2_RF_Global_NF = df2[~selecao_falhas_RF]\n",
    "\n",
    "#OE\n",
    "selecao_falhas_OE = (df2['P/OE_Global'] >= (media_global_OE + 3*dp_global_OE))  | (df2['P/OE_Global'] <= (media_global_OE - 3*dp_global_OE))\n",
    "df2_OE_Global_F = df2[selecao_falhas_OE]\n",
    "df2_OE_Global_NF = df2[~selecao_falhas_OE]\n"
   ]
  },
  {
   "cell_type": "code",
   "execution_count": 12,
   "metadata": {},
   "outputs": [],
   "source": [
    "plt.rcParams.update({'font.size': 22})\n",
    "plt.rcParams[\"figure.figsize\"] = [10, 5]"
   ]
  },
  {
   "cell_type": "code",
   "execution_count": 13,
   "metadata": {},
   "outputs": [
    {
     "data": {
      "image/png": "[encoded data removed]",
      "text/plain": [
       "<Figure size 432x288 with 1 Axes>"
      ]
     },
     "metadata": {
      "needs_background": "light"
     },
     "output_type": "display_data"
    }
   ],
   "source": [
    "# Plotando a detecção de falhas usando a média e desvio padrão\n",
    "plt.scatter(df2_MF_Global_NF[IRR],df2_MF_Global_NF['P/Pac'], color = 'blue')\n",
    "plt.scatter(df2_MF_Global_F[IRR],df2_MF_Global_F['P/Pac'], color = 'red')\n",
    "plt.axhline(y=(media_global_MF + 3*dp_global_MF), color='black', linestyle='-')\n",
    "plt.axhline(y=(media_global_MF - 3*dp_global_MF), color='black', linestyle='-')\n",
    "plt.title('Modelo MF', fontsize = '22')\n",
    "plt.xlabel(\"Irradiância [W/m²]\")\n",
    "plt.ylabel(\"Razão\")\n",
    "\n",
    "plt.savefig('images/resultadosMFtodosdados.png')\n",
    "plt.show()\n"
   ]
  },
  {
   "cell_type": "code",
   "execution_count": 14,
   "metadata": {},
   "outputs": [
    {
     "data": {
      "image/png": "[encoded data removed]",
      "text/plain": [
       "<Figure size 432x288 with 1 Axes>"
      ]
     },
     "metadata": {
      "needs_background": "light"
     },
     "output_type": "display_data"
    }
   ],
   "source": [
    "# Modelo RF\n",
    "plt.scatter(df2_RF_Global_NF[IRR],df2_RF_Global_NF['P/RF_Global'], color = 'blue')\n",
    "plt.scatter(df2_RF_Global_F[IRR],df2_RF_Global_F['P/RF_Global'], color = 'red')\n",
    "plt.axhline(y=(media_global_OE + 3*dp_global_OE), color='black', linestyle='-')\n",
    "plt.axhline(y=(media_global_OE - 3.4*dp_global_OE), color='black', linestyle='-')\n",
    "plt.title('Modelo RF', fontsize = '22')\n",
    "plt.xlabel(\"Irradiância [W/m²]\")\n",
    "plt.ylabel(\"Razão\")\n",
    "plt.savefig('images/resultadosRFtodosdados.png')\n",
    "plt.show()"
   ]
  },
  {
   "cell_type": "code",
   "execution_count": 15,
   "metadata": {},
   "outputs": [
    {
     "data": {
      "image/png": "[encoded data removed]",
      "text/plain": [
       "<Figure size 432x288 with 1 Axes>"
      ]
     },
     "metadata": {
      "needs_background": "light"
     },
     "output_type": "display_data"
    }
   ],
   "source": [
    "# Modelo OE\n",
    "plt.scatter(df2_OE_Global_NF[IRR],df2_OE_Global_NF['P/OE_Global'], color = 'blue')\n",
    "plt.scatter(df2_OE_Global_F[IRR],df2_OE_Global_F['P/OE_Global'], color = 'red')\n",
    "plt.axhline(y=(media_global_OE + 3*dp_global_OE), color='black', linestyle='-')\n",
    "plt.axhline(y=(media_global_OE - 3*dp_global_OE), color='black', linestyle='-')\n",
    "plt.title('Modelo OE', fontsize = '22')\n",
    "plt.xlabel(\"Irradiância [W/m²]\")\n",
    "plt.ylabel(\"Razão\")\n",
    "plt.savefig('images/resultadosOEtodosdados.png')\n",
    "plt.show()"
   ]
  },
  {
   "cell_type": "markdown",
   "metadata": {},
   "source": [
    "## Printando apenas as falhas observadas na \"detecção visual\" (previamente conhecidas)"
   ]
  },
  {
   "cell_type": "code",
   "execution_count": 16,
   "metadata": {},
   "outputs": [],
   "source": [
    "a, b = np.polyfit(df_treinamento[IRR], df_treinamento[P], 1) #Encontrando a melhor fit line (R²) entre os dois valores\n",
    "limite_sup = 0.1 #Atribuindo um valor de 0.5kW acima e abaixo da fit line para valores de falha (df_5.index >= \"2019-06-10 00:00:00\") & (df_5.index <= \"2019-06-16 23:59:59\")\n",
    "limite_inf = 0.1\n",
    "selecao_erros = (df2[P] > (a+2)*df2[IRR]+b + limite_sup) | (df2[P] < (a-1.5)*df2[IRR]+b - limite_inf) | (df2.index >= \"2019-06-10 00:00:00\") & (df2.index <= \"2019-06-16 23:59:59\")\n",
    "\n",
    "df_global_f_conhecidas = df2[selecao_erros]\n",
    "df_global_nf_conhecidas = df2[~selecao_erros] "
   ]
  },
  {
   "cell_type": "code",
   "execution_count": 17,
   "metadata": {},
   "outputs": [
    {
     "data": {
      "image/png": "[encoded data removed]",
      "text/plain": [
       "<Figure size 432x288 with 1 Axes>"
      ]
     },
     "metadata": {
      "needs_background": "light"
     },
     "output_type": "display_data"
    }
   ],
   "source": [
    "\n",
    "plt.scatter(df_global_f_conhecidas[IRR],df_global_f_conhecidas['P/Pac'], color = 'red')\n",
    "plt.axhline(y=(media_global_MF + 3*dp_global_MF), color='black', linestyle='-')\n",
    "plt.axhline(y=(media_global_MF - 3*dp_global_MF), color='black', linestyle='-')\n",
    "plt.title('Modelo MF', fontsize = '22')\n",
    "\n",
    "plt.savefig('images/resultadosMFfalhas.png')\n",
    "plt.show()\n"
   ]
  },
  {
   "cell_type": "code",
   "execution_count": 18,
   "metadata": {},
   "outputs": [
    {
     "data": {
      "image/png": "[encoded data removed]",
      "text/plain": [
       "<Figure size 432x288 with 1 Axes>"
      ]
     },
     "metadata": {
      "needs_background": "light"
     },
     "output_type": "display_data"
    }
   ],
   "source": [
    "plt.scatter(df_global_f_conhecidas[IRR],df_global_f_conhecidas['P/RF_Global'], color = 'red')\n",
    "plt.axhline(y=(media_global_OE + 3*dp_global_OE), color='black', linestyle='-')\n",
    "plt.axhline(y=(media_global_OE - 3.4*dp_global_OE), color='black', linestyle='-')\n",
    "plt.title('Modelo RF', fontsize = '22')\n",
    "\n",
    "plt.savefig('images/resultadosRFfalhas.png')\n",
    "plt.show()"
   ]
  },
  {
   "cell_type": "code",
   "execution_count": 19,
   "metadata": {},
   "outputs": [
    {
     "data": {
      "image/png": "[encoded data removed]",
      "text/plain": [
       "<Figure size 432x288 with 1 Axes>"
      ]
     },
     "metadata": {
      "needs_background": "light"
     },
     "output_type": "display_data"
    }
   ],
   "source": [
    "plt.scatter(df_global_f_conhecidas[IRR],df_global_f_conhecidas['P/OE_Global'], color = 'red')\n",
    "plt.axhline(y=(media_global_OE + 3*dp_global_OE), color='black', linestyle='-')\n",
    "plt.axhline(y=(media_global_OE - 3*dp_global_OE), color='black', linestyle='-')\n",
    "plt.title('Modelo OE', fontsize = '22')\n",
    "\n",
    "plt.savefig('images/resultadosOEfalhas.png')\n",
    "plt.show()"
   ]
  },
  {
   "cell_type": "code",
   "execution_count": 20,
   "metadata": {},
   "outputs": [
    {
     "data": {
      "image/png": "[encoded data removed]",
      "text/plain": [
       "<Figure size 432x288 with 1 Axes>"
      ]
     },
     "metadata": {
      "needs_background": "light"
     },
     "output_type": "display_data"
    }
   ],
   "source": [
    "\n",
    "plt.scatter(df_global_nf_conhecidas[IRR],df_global_nf_conhecidas['P/Pac'], color = 'blue')\n",
    "plt.axhline(y=(media_global_MF + 3*dp_global_MF), color='black', linestyle='-')\n",
    "plt.axhline(y=(media_global_MF - 3*dp_global_MF), color='black', linestyle='-')\n",
    "plt.title('Modelo MF', fontsize = '22')\n",
    "\n",
    "plt.savefig('images/resultadosMFnaofalhas.png')\n",
    "plt.show()"
   ]
  },
  {
   "cell_type": "code",
   "execution_count": 21,
   "metadata": {},
   "outputs": [
    {
     "data": {
      "image/png": "[encoded data removed]",
      "text/plain": [
       "<Figure size 432x288 with 1 Axes>"
      ]
     },
     "metadata": {
      "needs_background": "light"
     },
     "output_type": "display_data"
    }
   ],
   "source": [
    "plt.scatter(df_global_nf_conhecidas[IRR],df_global_nf_conhecidas['P/RF_Global'], color = 'blue')\n",
    "plt.axhline(y=(media_global_OE + 3*dp_global_OE), color='black', linestyle='-')\n",
    "plt.axhline(y=(media_global_OE - 3.4*dp_global_OE), color='black', linestyle='-')\n",
    "plt.title('Modelo RF', fontsize = '22')\n",
    "\n",
    "plt.savefig('images/resultadosRFnaofalhas.png')\n",
    "plt.show()"
   ]
  },
  {
   "cell_type": "code",
   "execution_count": 22,
   "metadata": {},
   "outputs": [
    {
     "data": {
      "image/png": "[encoded data removed]",
      "text/plain": [
       "<Figure size 432x288 with 1 Axes>"
      ]
     },
     "metadata": {
      "needs_background": "light"
     },
     "output_type": "display_data"
    }
   ],
   "source": [
    "plt.scatter(df_global_nf_conhecidas[IRR],df_global_nf_conhecidas['P/OE_Global'], color = 'blue')\n",
    "plt.axhline(y=(media_global_OE + 3*dp_global_OE), color='black', linestyle='-')\n",
    "plt.axhline(y=(media_global_OE - 3*dp_global_OE), color='black', linestyle='-')\n",
    "plt.title('Modelo OE', fontsize = '22')\n",
    "\n",
    "plt.savefig('images/resultadosOEnaofalhas.png')\n",
    "plt.show()"
   ]
  },
  {
   "cell_type": "markdown",
   "metadata": {},
   "source": [
    "### Falsos positivos e falsos negativos no modelo global"
   ]
  },
  {
   "cell_type": "code",
   "execution_count": 23,
   "metadata": {},
   "outputs": [
    {
     "name": "stdout",
     "output_type": "stream",
     "text": [
      "Falso negativos MF =  0 Falsos positivos MF =  25\n",
      "Falso negativos RF =  1 Falsos positivos RF =  8\n",
      "Falso negativos OE =  0 Falsos positivos OE =  27\n"
     ]
    }
   ],
   "source": [
    "# Falsos negativos\n",
    "fn_mf_global = df_global_f_conhecidas[(df_global_f_conhecidas['P/Pac'] > (media_global_MF - 3*dp_global_MF)) & (df_global_f_conhecidas['P/Pac'] < (media_global_MF + 3*dp_global_MF))].shape[0]\n",
    "fn_rf_global = df_global_f_conhecidas[(df_global_f_conhecidas['P/RF_Global'] > (media_global_OE - 3.4*dp_global_OE)) & (df_global_f_conhecidas['P/RF_Global'] < (media_global_OE + 3*dp_global_OE))].shape[0]\n",
    "fn_oe_global = df_global_f_conhecidas[(df_global_f_conhecidas['P/OE_Global'] > (media_global_OE - 3*dp_global_OE)) & (df_global_f_conhecidas['P/OE_Global'] < (media_global_OE + 3*dp_global_OE))].shape[0]\n",
    "\n",
    "#Falsos positivos\n",
    "fp_mf_global = df_global_nf_conhecidas[(df_global_nf_conhecidas['P/Pac'] <= (media_global_MF - 3*dp_global_MF)) | (df_global_nf_conhecidas['P/Pac'] >= (media_global_MF + 3*dp_global_MF))].shape[0]\n",
    "fp_rf_global = df_global_nf_conhecidas[(df_global_nf_conhecidas['P/RF_Global'] <= (media_global_OE - 3.4*dp_global_OE)) | (df_global_nf_conhecidas['P/RF_Global'] >= (media_global_OE + 3*dp_global_OE))].shape[0]\n",
    "fp_oe_global = df_global_nf_conhecidas[(df_global_nf_conhecidas['P/OE_Global'] <= (media_global_OE - 3*dp_global_OE)) | (df_global_nf_conhecidas['P/OE_Global'] >= (media_global_OE + 3*dp_global_OE))].shape[0]\n",
    "\n",
    "print(\"Falso negativos MF = \",fn_mf_global, \"Falsos positivos MF = \",fp_mf_global)\n",
    "print(\"Falso negativos RF = \",fn_rf_global, \"Falsos positivos RF = \",fp_rf_global)\n",
    "print(\"Falso negativos OE = \",fn_oe_global, \"Falsos positivos OE = \",fp_oe_global)"
   ]
  },
  {
   "cell_type": "markdown",
   "metadata": {},
   "source": [
    "# Visualizando por faixa de irradiação"
   ]
  },
  {
   "cell_type": "code",
   "execution_count": 24,
   "metadata": {},
   "outputs": [],
   "source": [
    "# Separando por faixas tanto df2 quanto o df_treinamento\n",
    "selecao_faixa1 = (df2[IRR] >= 50/1000) & (df2[IRR] <= 250/1000)\n",
    "selecao_faixa2 = (df2[IRR] > 250/1000) & (df2[IRR] <= 500/1000)\n",
    "selecao_faixa3 = (df2[IRR] > 500/1000)\n",
    "\n",
    "df2_faixa1 = df2[selecao_faixa1]\n",
    "df2_faixa2 = df2[selecao_faixa2]\n",
    "df2_faixa3 = df2[selecao_faixa3]\n",
    "\n",
    "selecao_faixa1_treinamento = (df_treinamento[IRR] >= 50/1000) & (df_treinamento[IRR] <= 250/1000)\n",
    "selecao_faixa2_treinamento = (df_treinamento[IRR] > 250/1000) & (df_treinamento[IRR] <= 500/1000)\n",
    "selecao_faixa3_treinamento = (df_treinamento[IRR] > 500/1000)\n",
    "\n",
    "df_treinamento_faixa1 = df_treinamento[selecao_faixa1_treinamento]\n",
    "df_treinamento_faixa2 = df_treinamento[selecao_faixa2_treinamento]\n",
    "df_treinamento_faixa3 = df_treinamento[selecao_faixa3_treinamento]"
   ]
  },
  {
   "cell_type": "markdown",
   "metadata": {},
   "source": [
    "## Faixa 1 (50-250)"
   ]
  },
  {
   "cell_type": "code",
   "execution_count": 25,
   "metadata": {},
   "outputs": [],
   "source": [
    "# Médias e desvio padrões\n",
    "media_faixa1_MF = df_treinamento_faixa1['P/Pac'].mean()\n",
    "dp_faixa1_MF = df_treinamento_faixa1['P/Pac'].std()\n",
    "\n",
    "media_faixa1_OE = df_treinamento_faixa1['P/PacOE'].mean()\n",
    "dp_faixa1_OE = df_treinamento_faixa1['P/PacOE'].std()"
   ]
  },
  {
   "cell_type": "code",
   "execution_count": 26,
   "metadata": {},
   "outputs": [
    {
     "name": "stderr",
     "output_type": "stream",
     "text": [
      "C:\\Users\\Bruno\\AppData\\Local\\Temp\\ipykernel_2404\\3993481633.py:3: UserWarning: Boolean Series key will be reindexed to match DataFrame index.\n",
      "  df2_MF_faixa1_F = df2_faixa1[selecao_falhas]\n",
      "C:\\Users\\Bruno\\AppData\\Local\\Temp\\ipykernel_2404\\3993481633.py:4: UserWarning: Boolean Series key will be reindexed to match DataFrame index.\n",
      "  df2_MF_faixa1_NF = df2_faixa1[~selecao_falhas]\n",
      "C:\\Users\\Bruno\\AppData\\Local\\Temp\\ipykernel_2404\\3993481633.py:8: UserWarning: Boolean Series key will be reindexed to match DataFrame index.\n",
      "  df2_RF_faixa1_F = df2_faixa1[selecao_falhas2]\n",
      "C:\\Users\\Bruno\\AppData\\Local\\Temp\\ipykernel_2404\\3993481633.py:9: UserWarning: Boolean Series key will be reindexed to match DataFrame index.\n",
      "  df2_RF_faixa1_NF = df2_faixa1[~selecao_falhas2]\n",
      "C:\\Users\\Bruno\\AppData\\Local\\Temp\\ipykernel_2404\\3993481633.py:13: UserWarning: Boolean Series key will be reindexed to match DataFrame index.\n",
      "  df2_OE_faixa1_F = df2_faixa1[selecao_falhas2]\n",
      "C:\\Users\\Bruno\\AppData\\Local\\Temp\\ipykernel_2404\\3993481633.py:14: UserWarning: Boolean Series key will be reindexed to match DataFrame index.\n",
      "  df2_OE_faixa1_NF = df2_faixa1[~selecao_falhas2]\n"
     ]
    }
   ],
   "source": [
    "#MF\n",
    "selecao_falhas = (df2_faixa1['P/Pac'] >= (media_faixa1_MF + 3*dp_faixa1_MF))  | (df2['P/Pac'] <= (media_faixa1_MF - 3*dp_faixa1_MF))\n",
    "df2_MF_faixa1_F = df2_faixa1[selecao_falhas]\n",
    "df2_MF_faixa1_NF = df2_faixa1[~selecao_falhas]\n",
    "\n",
    "#RF\n",
    "selecao_falhas2 = (df2_faixa1['P/RF_Faixa1'] >= (media_faixa1_OE + 3*dp_faixa1_OE))  | (df2['P/RF_Faixa1'] <= (media_faixa1_OE - 3*dp_faixa1_OE))\n",
    "df2_RF_faixa1_F = df2_faixa1[selecao_falhas2]\n",
    "df2_RF_faixa1_NF = df2_faixa1[~selecao_falhas2]\n",
    "\n",
    "#OE\n",
    "selecao_falhas2 = (df2_faixa1['P/OE_Faixa1'] >= (media_faixa1_OE + 3*dp_faixa1_OE))  | (df2['P/OE_Faixa1'] <= (media_faixa1_OE - 3*dp_faixa1_OE))\n",
    "df2_OE_faixa1_F = df2_faixa1[selecao_falhas2]\n",
    "df2_OE_faixa1_NF = df2_faixa1[~selecao_falhas2]"
   ]
  },
  {
   "cell_type": "code",
   "execution_count": 27,
   "metadata": {},
   "outputs": [],
   "source": [
    "a, b = np.polyfit(df_treinamento_faixa1[IRR],df_treinamento_faixa1[P], 1) #Encontrando a melhor fit line (R²) entre os dois valores\n",
    "limite_sup = 0.1 #Atribuindo um valor de 0.5kW acima e abaixo da fit line para valores de falha (df_5.index >= \"2019-06-10 00:00:00\") & (df_5.index <= \"2019-06-16 23:59:59\")\n",
    "limite_inf = 0.1\n",
    "selecao_erros = (df2_faixa1[P] > (a+2)*df2_faixa1[IRR]+b + limite_sup) | (df2_faixa1[P] < (a-1.5)*df2_faixa1[IRR]+b - limite_inf) | (df2_faixa1.index >= \"2019-06-10 00:00:00\") & (df2_faixa1.index <= \"2019-06-16 23:59:59\")\n",
    "\n",
    "df_faixa1_f_conhecidas = df2_faixa1[selecao_erros]\n",
    "df_faixa1_nf_conhecidas = df2_faixa1[~selecao_erros] "
   ]
  },
  {
   "cell_type": "markdown",
   "metadata": {},
   "source": [
    "### Calculando falsos positivos ( um valor normal identificada como falha) e falsos negativos ( uma falha identificada como valor normal)"
   ]
  },
  {
   "cell_type": "code",
   "execution_count": 28,
   "metadata": {},
   "outputs": [
    {
     "name": "stdout",
     "output_type": "stream",
     "text": [
      "__________FAIXA 1__________\n",
      "Falso negativos MF =  6 Falsos positivos MF =  0\n",
      "Falso negativos RF =  1 Falsos positivos RF =  9\n",
      "Falso negativos OE =  1 Falsos positivos OE =  2\n"
     ]
    }
   ],
   "source": [
    "# Falsos negativos\n",
    "fn_mf_faixa1 = df_faixa1_f_conhecidas[(df_faixa1_f_conhecidas['P/Pac'] > (media_faixa1_MF - 3*dp_faixa1_MF)) & (df_faixa1_f_conhecidas['P/Pac'] < (media_faixa1_MF + 3*dp_faixa1_MF))].shape[0]\n",
    "fn_rf_faixa1 = df_faixa1_f_conhecidas[(df_faixa1_f_conhecidas['P/RF_Faixa1'] > (media_faixa1_OE - 3*dp_faixa1_OE)) & (df_faixa1_f_conhecidas['P/RF_Faixa1'] < (media_faixa1_OE + 3*dp_faixa1_OE))].shape[0]\n",
    "fn_oe_faixa1 = df_faixa1_f_conhecidas[(df_faixa1_f_conhecidas['P/OE_Faixa1'] > (media_faixa1_OE - 3*dp_faixa1_OE)) & (df_faixa1_f_conhecidas['P/OE_Faixa1'] < (media_faixa1_OE + 3*dp_faixa1_OE))].shape[0]\n",
    "\n",
    "#Falsos positivos\n",
    "fp_mf_faixa1 = df_faixa1_nf_conhecidas[(df_faixa1_nf_conhecidas['P/Pac'] <= (media_faixa1_MF - 3*dp_faixa1_MF)) | (df_faixa1_nf_conhecidas['P/Pac'] >= (media_faixa1_MF + 3*dp_faixa1_MF))].shape[0]\n",
    "fp_rf_faixa1 = df_faixa1_nf_conhecidas[(df_faixa1_nf_conhecidas['P/RF_Faixa1'] <= (media_faixa1_OE - 3*dp_faixa1_OE)) | (df_faixa1_nf_conhecidas['P/RF_Faixa1'] >= (media_faixa1_OE + 3*dp_faixa1_OE))].shape[0]\n",
    "fp_oe_faixa1 = df_faixa1_nf_conhecidas[(df_faixa1_nf_conhecidas['P/OE_Faixa1'] <= (media_faixa1_OE - 3*dp_faixa1_OE)) | (df_faixa1_nf_conhecidas['P/OE_Faixa1'] >= (media_faixa1_OE + 3*dp_faixa1_OE))].shape[0]\n",
    "\n",
    "#Mostrando os resultados\n",
    "print(\"__________FAIXA 1__________\")\n",
    "print(\"Falso negativos MF = \",fn_mf_faixa1, \"Falsos positivos MF = \",fp_mf_faixa1)\n",
    "print(\"Falso negativos RF = \",fn_rf_faixa1, \"Falsos positivos RF = \",fp_rf_faixa1)\n",
    "print(\"Falso negativos OE = \",fn_oe_faixa1, \"Falsos positivos OE = \",fp_oe_faixa1)"
   ]
  },
  {
   "cell_type": "markdown",
   "metadata": {},
   "source": [
    "## Faixa 2 (250-500)"
   ]
  },
  {
   "cell_type": "code",
   "execution_count": 29,
   "metadata": {},
   "outputs": [],
   "source": [
    "media_faixa2_MF = df_treinamento_faixa2['P/Pac'].mean()\n",
    "dp_faixa2_MF = df_treinamento_faixa2['P/Pac'].std()\n",
    "\n",
    "media_faixa2_OE = df_treinamento_faixa2['P/PacOE'].mean()\n",
    "dp_faixa2_OE = df_treinamento_faixa2['P/PacOE'].std()"
   ]
  },
  {
   "cell_type": "code",
   "execution_count": 30,
   "metadata": {},
   "outputs": [
    {
     "name": "stderr",
     "output_type": "stream",
     "text": [
      "C:\\Users\\Bruno\\AppData\\Local\\Temp\\ipykernel_2404\\1630979979.py:3: UserWarning: Boolean Series key will be reindexed to match DataFrame index.\n",
      "  df2_MF_faixa2_F = df2_faixa2[selecao_falhas]\n",
      "C:\\Users\\Bruno\\AppData\\Local\\Temp\\ipykernel_2404\\1630979979.py:4: UserWarning: Boolean Series key will be reindexed to match DataFrame index.\n",
      "  df2_MF_faixa2_NF = df2_faixa2[~selecao_falhas]\n",
      "C:\\Users\\Bruno\\AppData\\Local\\Temp\\ipykernel_2404\\1630979979.py:8: UserWarning: Boolean Series key will be reindexed to match DataFrame index.\n",
      "  df2_RF_faixa2_F = df2_faixa2[selecao_falhas2]\n",
      "C:\\Users\\Bruno\\AppData\\Local\\Temp\\ipykernel_2404\\1630979979.py:9: UserWarning: Boolean Series key will be reindexed to match DataFrame index.\n",
      "  df2_RF_faixa2_NF = df2_faixa2[~selecao_falhas2]\n",
      "C:\\Users\\Bruno\\AppData\\Local\\Temp\\ipykernel_2404\\1630979979.py:13: UserWarning: Boolean Series key will be reindexed to match DataFrame index.\n",
      "  df2_OE_faixa2_F = df2_faixa2[selecao_falhas2]\n",
      "C:\\Users\\Bruno\\AppData\\Local\\Temp\\ipykernel_2404\\1630979979.py:14: UserWarning: Boolean Series key will be reindexed to match DataFrame index.\n",
      "  df2_OE_faixa2_NF = df2_faixa2[~selecao_falhas2]\n"
     ]
    }
   ],
   "source": [
    "#MF\n",
    "selecao_falhas = (df2_faixa2['P/Pac'] >= (media_faixa2_MF + 3*dp_faixa2_MF))  | (df2['P/Pac'] <= (media_faixa2_MF - 3*dp_faixa2_MF))\n",
    "df2_MF_faixa2_F = df2_faixa2[selecao_falhas]\n",
    "df2_MF_faixa2_NF = df2_faixa2[~selecao_falhas]\n",
    "\n",
    "#RF\n",
    "selecao_falhas2 = (df2_faixa2['P/RF_Faixa2'] >= (media_faixa2_OE + 3*dp_faixa2_OE))  | (df2['P/RF_Faixa2'] <= (media_faixa2_OE - 3*dp_faixa2_OE))\n",
    "df2_RF_faixa2_F = df2_faixa2[selecao_falhas2]\n",
    "df2_RF_faixa2_NF = df2_faixa2[~selecao_falhas2]\n",
    "\n",
    "#OE\n",
    "selecao_falhas2 = (df2_faixa2['P/OE_Faixa2'] >= (media_faixa2_OE + 3*dp_faixa2_OE))  | (df2['P/OE_Faixa2'] <= (media_faixa2_OE - 3*dp_faixa2_OE))\n",
    "df2_OE_faixa2_F = df2_faixa2[selecao_falhas2]\n",
    "df2_OE_faixa2_NF = df2_faixa2[~selecao_falhas2]"
   ]
  },
  {
   "cell_type": "code",
   "execution_count": 31,
   "metadata": {},
   "outputs": [],
   "source": [
    "a, b = np.polyfit(df_treinamento_faixa2[IRR],df_treinamento_faixa2[P], 1) #Encontrando a melhor fit line (R²) entre os dois valores\n",
    "limite_sup = 0.1 #Atribuindo um valor de 0.5kW acima e abaixo da fit line para valores de falha (df_5.index >= \"2019-06-10 00:00:00\") & (df_5.index <= \"2019-06-16 23:59:59\")\n",
    "limite_inf = 0.1\n",
    "selecao_erros = (df2_faixa2[P] > (a+2)*df2_faixa2[IRR]+b + limite_sup) | (df2_faixa2[P] < (a-1.5)*df2_faixa2[IRR]+b - limite_inf) | (df2_faixa2.index >= \"2019-06-10 00:00:00\") & (df2_faixa2.index <= \"2019-06-16 23:59:59\")\n",
    "\n",
    "df_faixa2_f_conhecidas = df2_faixa2[selecao_erros]\n",
    "df_faixa2_nf_conhecidas = df2_faixa2[~selecao_erros] "
   ]
  },
  {
   "attachments": {},
   "cell_type": "markdown",
   "metadata": {},
   "source": [
    "### Falsos positivos (valor normal detectado como falha) e falsos negavitos (valor falha identificado como valor normal) FAIXA 2"
   ]
  },
  {
   "cell_type": "code",
   "execution_count": 32,
   "metadata": {},
   "outputs": [
    {
     "name": "stdout",
     "output_type": "stream",
     "text": [
      "__________FAIXA 2__________\n",
      "Falso negativos MF =  0 Falsos positivos MF =  2\n",
      "Falso negativos RF =  0 Falsos positivos RF =  2\n",
      "Falso negativos OE =  0 Falsos positivos OE =  2\n"
     ]
    }
   ],
   "source": [
    "# Falsos negativos\n",
    "fn_mf_faixa2 = df_faixa2_f_conhecidas[(df_faixa2_f_conhecidas['P/Pac'] > (media_faixa2_MF - 3*dp_faixa2_MF)) & (df_faixa2_f_conhecidas['P/Pac'] < (media_faixa2_MF + 3*dp_faixa2_MF))].shape[0]\n",
    "fn_rf_faixa2 = df_faixa2_f_conhecidas[(df_faixa2_f_conhecidas['P/RF_Faixa2'] > (media_faixa2_OE - 3*dp_faixa2_OE)) & (df_faixa2_f_conhecidas['P/RF_Faixa2'] < (media_faixa2_OE + 3*dp_faixa2_OE))].shape[0]\n",
    "fn_oe_faixa2 = df_faixa2_f_conhecidas[(df_faixa2_f_conhecidas['P/OE_Faixa2'] > (media_faixa2_OE - 3*dp_faixa2_OE)) & (df_faixa2_f_conhecidas['P/OE_Faixa2'] < (media_faixa2_OE + 3*dp_faixa2_OE))].shape[0]\n",
    "\n",
    "#Falsos positivos\n",
    "fp_mf_faixa2 = df_faixa2_nf_conhecidas[(df_faixa2_nf_conhecidas['P/Pac'] <= (media_faixa2_MF - 3*dp_faixa2_MF)) | (df_faixa2_nf_conhecidas['P/Pac'] >= (media_faixa2_MF + 3*dp_faixa2_MF))].shape[0]\n",
    "fp_rf_faixa2 = df_faixa2_nf_conhecidas[(df_faixa2_nf_conhecidas['P/RF_Faixa2'] <= (media_faixa2_OE - 3*dp_faixa2_OE)) | (df_faixa2_nf_conhecidas['P/RF_Faixa2'] >= (media_faixa2_OE + 3*dp_faixa2_OE))].shape[0]\n",
    "fp_oe_faixa2 = df_faixa2_nf_conhecidas[(df_faixa2_nf_conhecidas['P/OE_Faixa2'] <= (media_faixa2_OE - 3*dp_faixa2_OE)) | (df_faixa2_nf_conhecidas['P/OE_Faixa2'] >= (media_faixa2_OE + 3*dp_faixa2_OE))].shape[0]\n",
    "\n",
    "#Mostrando os resultados\n",
    "print(\"__________FAIXA 2__________\")\n",
    "print(\"Falso negativos MF = \",fn_mf_faixa2, \"Falsos positivos MF = \",fp_mf_faixa2)\n",
    "print(\"Falso negativos RF = \",fn_rf_faixa2, \"Falsos positivos RF = \",fp_rf_faixa2)\n",
    "print(\"Falso negativos OE = \",fn_oe_faixa2, \"Falsos positivos OE = \",fp_oe_faixa2)"
   ]
  },
  {
   "cell_type": "markdown",
   "metadata": {},
   "source": [
    "## Faixa 3 (500+)"
   ]
  },
  {
   "cell_type": "code",
   "execution_count": 33,
   "metadata": {},
   "outputs": [],
   "source": [
    "media_faixa3_MF = df_treinamento_faixa3['P/Pac'].mean()\n",
    "dp_faixa3_MF = df_treinamento_faixa3['P/Pac'].std()\n",
    "\n",
    "media_faixa3_OE = df_treinamento_faixa3['P/PacOE'].mean()\n",
    "dp_faixa3_OE = df_treinamento_faixa3['P/PacOE'].std()"
   ]
  },
  {
   "cell_type": "code",
   "execution_count": 34,
   "metadata": {},
   "outputs": [
    {
     "name": "stderr",
     "output_type": "stream",
     "text": [
      "C:\\Users\\Bruno\\AppData\\Local\\Temp\\ipykernel_2404\\2997056313.py:3: UserWarning: Boolean Series key will be reindexed to match DataFrame index.\n",
      "  df2_MF_faixa3_F = df2_faixa3[selecao_falhas]\n",
      "C:\\Users\\Bruno\\AppData\\Local\\Temp\\ipykernel_2404\\2997056313.py:4: UserWarning: Boolean Series key will be reindexed to match DataFrame index.\n",
      "  df2_MF_faixa3_NF = df2_faixa3[~selecao_falhas]\n",
      "C:\\Users\\Bruno\\AppData\\Local\\Temp\\ipykernel_2404\\2997056313.py:8: UserWarning: Boolean Series key will be reindexed to match DataFrame index.\n",
      "  df2_RF_faixa3_F = df2_faixa3[selecao_falhas2]\n",
      "C:\\Users\\Bruno\\AppData\\Local\\Temp\\ipykernel_2404\\2997056313.py:9: UserWarning: Boolean Series key will be reindexed to match DataFrame index.\n",
      "  df2_RF_faixa3_NF = df2_faixa3[~selecao_falhas2]\n",
      "C:\\Users\\Bruno\\AppData\\Local\\Temp\\ipykernel_2404\\2997056313.py:13: UserWarning: Boolean Series key will be reindexed to match DataFrame index.\n",
      "  df2_OE_faixa3_F = df2_faixa3[selecao_falhas2]\n",
      "C:\\Users\\Bruno\\AppData\\Local\\Temp\\ipykernel_2404\\2997056313.py:14: UserWarning: Boolean Series key will be reindexed to match DataFrame index.\n",
      "  df2_OE_faixa3_NF = df2_faixa3[~selecao_falhas2]\n"
     ]
    }
   ],
   "source": [
    "#MF\n",
    "selecao_falhas = (df2_faixa3['P/Pac'] >= (media_faixa3_MF + 3*dp_faixa3_MF))  | (df2['P/Pac'] <= (media_faixa3_MF - 3*dp_faixa3_MF))\n",
    "df2_MF_faixa3_F = df2_faixa3[selecao_falhas]\n",
    "df2_MF_faixa3_NF = df2_faixa3[~selecao_falhas]\n",
    "\n",
    "#RF\n",
    "selecao_falhas2 = (df2_faixa3['P/RF_Faixa3'] >= (media_faixa3_OE + 3*dp_faixa3_OE))  | (df2['P/RF_Faixa3'] <= (media_faixa3_OE - 3*dp_faixa3_OE))\n",
    "df2_RF_faixa3_F = df2_faixa3[selecao_falhas2]\n",
    "df2_RF_faixa3_NF = df2_faixa3[~selecao_falhas2]\n",
    "\n",
    "#OE\n",
    "selecao_falhas2 = (df2_faixa3['P/OE_Faixa3'] >= (media_faixa3_OE + 3*dp_faixa3_OE))  | (df2['P/OE_Faixa3'] <= (media_faixa3_OE - 3*dp_faixa3_OE))\n",
    "df2_OE_faixa3_F = df2_faixa3[selecao_falhas2]\n",
    "df2_OE_faixa3_NF = df2_faixa3[~selecao_falhas2]"
   ]
  },
  {
   "cell_type": "code",
   "execution_count": 35,
   "metadata": {},
   "outputs": [],
   "source": [
    "a, b = np.polyfit(df_treinamento_faixa3[IRR],df_treinamento_faixa3[P], 1) #Encontrando a melhor fit line (R²) entre os dois valores\n",
    "limite_sup = 0.1 #Atribuindo um valor de 0.5kW acima e abaixo da fit line para valores de falha (df_5.index >= \"2019-06-10 00:00:00\") & (df_5.index <= \"2019-06-16 23:59:59\")\n",
    "limite_inf = 0.1\n",
    "selecao_erros = (df2_faixa3[P] > (a+2)*df2_faixa3[IRR]+b + limite_sup) | (df2_faixa3[P] < (a-1.5)*df2_faixa3[IRR]+b - limite_inf) | (df2_faixa3.index >= \"2019-06-10 00:00:00\") & (df2_faixa3.index <= \"2019-06-16 23:59:59\")\n",
    "\n",
    "df_faixa3_f_conhecidas = df2_faixa3[selecao_erros]\n",
    "df_faixa3_nf_conhecidas = df2_faixa3[~selecao_erros] "
   ]
  },
  {
   "cell_type": "markdown",
   "metadata": {},
   "source": [
    "### Falsos negativos e falsos positivos"
   ]
  },
  {
   "cell_type": "code",
   "execution_count": 36,
   "metadata": {},
   "outputs": [
    {
     "name": "stdout",
     "output_type": "stream",
     "text": [
      "__________FAIXA 2__________\n",
      "Falso negativos MF =  0 Falsos positivos MF =  8\n",
      "Falso negativos RF =  0 Falsos positivos RF =  9\n",
      "Falso negativos OE =  0 Falsos positivos OE =  8\n"
     ]
    }
   ],
   "source": [
    "# Falsos negativos\n",
    "fn_mf_faixa3 = df_faixa3_f_conhecidas[(df_faixa3_f_conhecidas['P/Pac'] > (media_faixa3_MF - 3*dp_faixa3_MF)) & (df_faixa3_f_conhecidas['P/Pac'] < (media_faixa3_MF + 3*dp_faixa3_MF))].shape[0]\n",
    "fn_rf_faixa3 = df_faixa3_f_conhecidas[(df_faixa3_f_conhecidas['P/RF_Faixa3'] > (media_faixa3_OE - 3*dp_faixa3_OE)) & (df_faixa3_f_conhecidas['P/RF_Faixa3'] < (media_faixa3_OE + 3*dp_faixa3_OE))].shape[0]\n",
    "fn_oe_faixa3 = df_faixa3_f_conhecidas[(df_faixa3_f_conhecidas['P/OE_Faixa3'] > (media_faixa3_OE - 3*dp_faixa3_OE)) & (df_faixa3_f_conhecidas['P/OE_Faixa3'] < (media_faixa3_OE + 3*dp_faixa3_OE))].shape[0]\n",
    "\n",
    "#Falsos positivos\n",
    "fp_mf_faixa3 = df_faixa3_nf_conhecidas[(df_faixa3_nf_conhecidas['P/Pac'] <= (media_faixa3_MF - 3*dp_faixa3_MF)) | (df_faixa3_nf_conhecidas['P/Pac'] >= (media_faixa3_MF + 3*dp_faixa3_MF))].shape[0]\n",
    "fp_rf_faixa3 = df_faixa3_nf_conhecidas[(df_faixa3_nf_conhecidas['P/RF_Faixa3'] <= (media_faixa3_OE - 3*dp_faixa3_OE)) | (df_faixa3_nf_conhecidas['P/RF_Faixa3'] >= (media_faixa3_OE + 3*dp_faixa3_OE))].shape[0]\n",
    "fp_oe_faixa3 = df_faixa3_nf_conhecidas[(df_faixa3_nf_conhecidas['P/OE_Faixa3'] <= (media_faixa3_OE - 3*dp_faixa3_OE)) | (df_faixa3_nf_conhecidas['P/OE_Faixa3'] >= (media_faixa3_OE + 3*dp_faixa3_OE))].shape[0]\n",
    "\n",
    "#Mostrando os resultados\n",
    "print(\"__________FAIXA 2__________\")\n",
    "print(\"Falso negativos MF = \",fn_mf_faixa3, \"Falsos positivos MF = \",fp_mf_faixa3)\n",
    "print(\"Falso negativos RF = \",fn_rf_faixa3, \"Falsos positivos RF = \",fp_rf_faixa3)\n",
    "print(\"Falso negativos OE = \",fn_oe_faixa3, \"Falsos positivos OE = \",fp_oe_faixa3)"
   ]
  },
  {
   "cell_type": "markdown",
   "metadata": {},
   "source": [
    "## Printando resultados de todas as faixas juntas"
   ]
  },
  {
   "cell_type": "markdown",
   "metadata": {},
   "source": [
    "### Falhas e não falhas identificadas via média e desvio padrão"
   ]
  },
  {
   "cell_type": "code",
   "execution_count": 37,
   "metadata": {},
   "outputs": [
    {
     "data": {
      "text/plain": [
       "[]"
      ]
     },
     "execution_count": 37,
     "metadata": {},
     "output_type": "execute_result"
    },
    {
     "data": {
      "image/png": "[encoded data removed]",
      "text/plain": [
       "<Figure size 1080x360 with 1 Axes>"
      ]
     },
     "metadata": {
      "needs_background": "light"
     },
     "output_type": "display_data"
    }
   ],
   "source": [
    "plt.rcParams[\"figure.figsize\"] = (15,5)\n",
    "\n",
    "plt.scatter(df2_MF_faixa1_NF[IRR],df2_MF_faixa1_NF['P/Pac'], color = 'aquamarine')\n",
    "plt.scatter(df2_MF_faixa1_F[IRR],df2_MF_faixa1_F['P/Pac'], color = 'red')\n",
    "plt.subplot().hlines(y=(media_faixa1_MF + 3*dp_faixa1_MF), xmin=0, xmax=0.250, linewidth=1, color='black')\n",
    "plt.subplot().hlines(y=(media_faixa1_MF - 3*dp_faixa1_MF), xmin=0, xmax=0.250, linewidth=1, color='black')\n",
    "\n",
    "plt.scatter(df2_MF_faixa2_NF[IRR],df2_MF_faixa2_NF['P/Pac'], color = 'xkcd:sky blue')\n",
    "plt.scatter(df2_MF_faixa2_F[IRR],df2_MF_faixa2_F['P/Pac'], color = 'red')\n",
    "plt.subplot().hlines(y=(media_faixa2_MF + 3*dp_faixa2_MF), xmin=0.250, xmax=0.5, linewidth=1, color='black')\n",
    "plt.subplot().hlines(y=(media_faixa2_MF - 3*dp_faixa2_MF), xmin=0.250, xmax=0.5, linewidth=1, color='black')\n",
    "\n",
    "plt.scatter(df2_MF_faixa3_NF[IRR],df2_MF_faixa3_NF['P/Pac'], color = 'blue')\n",
    "plt.scatter(df2_MF_faixa3_F[IRR],df2_MF_faixa3_F['P/Pac'], color = 'red')\n",
    "plt.subplot().hlines(y=(media_faixa3_MF + 3*dp_faixa3_MF), xmin=0.5,xmax = 1, linewidth=1, color='black')\n",
    "plt.subplot().hlines(y=(media_faixa3_MF - 3*dp_faixa3_MF), xmin=0.5,xmax = 1, linewidth=1, color='black')\n",
    "plt.plot()"
   ]
  },
  {
   "cell_type": "code",
   "execution_count": 38,
   "metadata": {},
   "outputs": [
    {
     "data": {
      "text/plain": [
       "[]"
      ]
     },
     "execution_count": 38,
     "metadata": {},
     "output_type": "execute_result"
    },
    {
     "data": {
      "image/png": "[encoded data removed]",
      "text/plain": [
       "<Figure size 1080x360 with 1 Axes>"
      ]
     },
     "metadata": {
      "needs_background": "light"
     },
     "output_type": "display_data"
    }
   ],
   "source": [
    "plt.rcParams[\"figure.figsize\"] = (15,5)\n",
    "\n",
    "plt.scatter(df2_RF_faixa1_NF[IRR],df2_RF_faixa1_NF['P/RF_Faixa1'], color = 'aquamarine')\n",
    "plt.scatter(df2_RF_faixa1_F[IRR],df2_RF_faixa1_F['P/RF_Faixa1'], color = 'red')\n",
    "plt.subplot().hlines(y=(media_faixa1_OE + 3*dp_faixa1_OE), xmin=0, xmax=0.250, linewidth=1, color='black')\n",
    "plt.subplot().hlines(y=(media_faixa1_OE - 3*dp_faixa1_OE), xmin=0, xmax=0.250, linewidth=1, color='black')\n",
    "\n",
    "plt.scatter(df2_RF_faixa2_NF[IRR],df2_RF_faixa2_NF['P/RF_Faixa2'], color = 'xkcd:sky blue')\n",
    "plt.scatter(df2_RF_faixa2_F[IRR],df2_RF_faixa2_F['P/RF_Faixa2'], color = 'red')\n",
    "plt.subplot().hlines(y=(media_faixa2_OE + 3*dp_faixa2_OE), xmin=0.250, xmax=0.5, linewidth=1, color='black')\n",
    "plt.subplot().hlines(y=(media_faixa2_OE - 3*dp_faixa2_OE), xmin=0.250, xmax=0.5, linewidth=1, color='black')\n",
    "\n",
    "plt.scatter(df2_RF_faixa3_NF[IRR],df2_RF_faixa3_NF['P/RF_Faixa3'], color = 'blue')\n",
    "plt.scatter(df2_RF_faixa3_F[IRR],df2_RF_faixa3_F['P/RF_Faixa3'], color = 'red')\n",
    "plt.subplot().hlines(y=(media_faixa3_OE + 3*dp_faixa3_OE), xmin=0.5,xmax = 1, linewidth=1, color='black')\n",
    "plt.subplot().hlines(y=(media_faixa3_OE - 3*dp_faixa3_OE), xmin=0.5,xmax = 1, linewidth=1, color='black')\n",
    "plt.plot()"
   ]
  },
  {
   "cell_type": "code",
   "execution_count": 39,
   "metadata": {},
   "outputs": [
    {
     "data": {
      "text/plain": [
       "[]"
      ]
     },
     "execution_count": 39,
     "metadata": {},
     "output_type": "execute_result"
    },
    {
     "data": {
      "image/png": "[encoded data removed]",
      "text/plain": [
       "<Figure size 1080x360 with 1 Axes>"
      ]
     },
     "metadata": {
      "needs_background": "light"
     },
     "output_type": "display_data"
    }
   ],
   "source": [
    "plt.rcParams[\"figure.figsize\"] = (15,5)\n",
    "\n",
    "plt.scatter(df2_OE_faixa1_NF[IRR],df2_OE_faixa1_NF['P/OE_Faixa1'], color = 'aquamarine')\n",
    "plt.scatter(df2_OE_faixa1_F[IRR],df2_OE_faixa1_F['P/OE_Faixa1'], color = 'red')\n",
    "plt.subplot().hlines(y=(media_faixa1_OE + 3*dp_faixa1_OE), xmin=0, xmax=0.250, linewidth=1, color='black')\n",
    "plt.subplot().hlines(y=(media_faixa1_OE - 3*dp_faixa1_OE), xmin=0, xmax=0.250, linewidth=1, color='black')\n",
    "\n",
    "plt.scatter(df2_OE_faixa2_NF[IRR],df2_OE_faixa2_NF['P/OE_Faixa2'], color = 'xkcd:sky blue')\n",
    "plt.scatter(df2_OE_faixa2_F[IRR],df2_OE_faixa2_F['P/OE_Faixa2'], color = 'red')\n",
    "plt.subplot().hlines(y=(media_faixa2_OE + 3*dp_faixa2_OE), xmin=0.250, xmax=0.5, linewidth=1, color='black')\n",
    "plt.subplot().hlines(y=(media_faixa2_OE - 3*dp_faixa2_OE), xmin=0.250, xmax=0.5, linewidth=1, color='black')\n",
    "\n",
    "plt.scatter(df2_OE_faixa3_NF[IRR],df2_OE_faixa3_NF['P/OE_Faixa3'], color = 'blue')\n",
    "plt.scatter(df2_OE_faixa3_F[IRR],df2_OE_faixa3_F['P/OE_Faixa3'], color = 'red')\n",
    "plt.subplot().hlines(y=(media_faixa3_OE + 3*dp_faixa3_OE), xmin=0.5,xmax = 1, linewidth=1, color='black')\n",
    "plt.subplot().hlines(y=(media_faixa3_OE - 3*dp_faixa3_OE), xmin=0.5,xmax = 1, linewidth=1, color='black')\n",
    "plt.plot()"
   ]
  },
  {
   "cell_type": "markdown",
   "metadata": {},
   "source": [
    "### Imprimindo somente as falhas verificadas \"visualmente\""
   ]
  },
  {
   "cell_type": "code",
   "execution_count": 40,
   "metadata": {},
   "outputs": [
    {
     "data": {
      "text/plain": [
       "[]"
      ]
     },
     "execution_count": 40,
     "metadata": {},
     "output_type": "execute_result"
    },
    {
     "data": {
      "image/png": "[encoded data removed]",
      "text/plain": [
       "<Figure size 1080x360 with 1 Axes>"
      ]
     },
     "metadata": {
      "needs_background": "light"
     },
     "output_type": "display_data"
    }
   ],
   "source": [
    "plt.rcParams[\"figure.figsize\"] = (15,5)\n",
    "\n",
    "plt.scatter(df_global_f_conhecidas[IRR],df_global_f_conhecidas['P/Pac'], color = 'red')\n",
    "plt.subplot().hlines(y=(media_faixa1_MF + 3*dp_faixa1_MF), xmin=0, xmax=0.250, linewidth=1, color='black')\n",
    "plt.subplot().hlines(y=(media_faixa1_MF - 3*dp_faixa1_MF), xmin=0, xmax=0.250, linewidth=1, color='black')\n",
    "\n",
    "\n",
    "plt.subplot().hlines(y=(media_faixa2_MF + 3*dp_faixa2_MF), xmin=0.250, xmax=0.5, linewidth=1, color='black')\n",
    "plt.subplot().hlines(y=(media_faixa2_MF - 3*dp_faixa2_MF), xmin=0.250, xmax=0.5, linewidth=1, color='black')\n",
    "\n",
    "\n",
    "plt.subplot().hlines(y=(media_faixa3_MF + 3*dp_faixa3_MF), xmin=0.5,xmax = 1, linewidth=1, color='black')\n",
    "plt.subplot().hlines(y=(media_faixa3_MF - 3*dp_faixa3_MF), xmin=0.5,xmax = 1, linewidth=1, color='black')\n",
    "plt.plot()"
   ]
  },
  {
   "cell_type": "code",
   "execution_count": 41,
   "metadata": {},
   "outputs": [
    {
     "data": {
      "text/plain": [
       "[]"
      ]
     },
     "execution_count": 41,
     "metadata": {},
     "output_type": "execute_result"
    },
    {
     "data": {
      "image/png": "[encoded data removed]",
      "text/plain": [
       "<Figure size 720x360 with 1 Axes>"
      ]
     },
     "metadata": {
      "needs_background": "light"
     },
     "output_type": "display_data"
    }
   ],
   "source": [
    "plt.rcParams[\"figure.figsize\"] = (10,5)\n",
    "\n",
    "plt.scatter(df_global_f_conhecidas[IRR],df_global_f_conhecidas['P/RF_Global'], color = 'red')\n",
    "plt.subplot().hlines(y=(media_faixa1_OE + 3*dp_faixa1_OE), xmin=0, xmax=0.250, linewidth=1, color='black')\n",
    "plt.subplot().hlines(y=(media_faixa1_OE - 3*dp_faixa1_OE), xmin=0, xmax=0.250, linewidth=1, color='black')\n",
    "\n",
    "\n",
    "plt.subplot().hlines(y=(media_faixa2_OE + 3*dp_faixa2_OE), xmin=0.250, xmax=0.5, linewidth=1, color='black')\n",
    "plt.subplot().hlines(y=(media_faixa2_OE - 3*dp_faixa2_OE), xmin=0.250, xmax=0.5, linewidth=1, color='black')\n",
    "\n",
    "\n",
    "plt.subplot().hlines(y=(media_faixa3_OE + 3*dp_faixa3_OE), xmin=0.5,xmax = 1, linewidth=1, color='black')\n",
    "plt.subplot().hlines(y=(media_faixa3_OE - 3*dp_faixa3_OE), xmin=0.5,xmax = 1, linewidth=1, color='black')\n",
    "\n",
    "plt.plot()"
   ]
  },
  {
   "cell_type": "code",
   "execution_count": 42,
   "metadata": {},
   "outputs": [
    {
     "data": {
      "text/plain": [
       "[]"
      ]
     },
     "execution_count": 42,
     "metadata": {},
     "output_type": "execute_result"
    },
    {
     "data": {
      "image/png": "[encoded data removed]",
      "text/plain": [
       "<Figure size 720x360 with 1 Axes>"
      ]
     },
     "metadata": {
      "needs_background": "light"
     },
     "output_type": "display_data"
    }
   ],
   "source": [
    "plt.rcParams[\"figure.figsize\"] = (10,5)\n",
    "\n",
    "plt.scatter(df_global_f_conhecidas[IRR],df_global_f_conhecidas['P/OE_Global'], color = 'red')\n",
    "plt.subplot().hlines(y=(media_faixa1_OE + 3*dp_faixa1_OE), xmin=0, xmax=0.250, linewidth=1, color='black')\n",
    "plt.subplot().hlines(y=(media_faixa1_OE - 3*dp_faixa1_OE), xmin=0, xmax=0.250, linewidth=1, color='black')\n",
    "\n",
    "\n",
    "plt.subplot().hlines(y=(media_faixa2_OE + 3*dp_faixa2_OE), xmin=0.250, xmax=0.5, linewidth=1, color='black')\n",
    "plt.subplot().hlines(y=(media_faixa2_OE - 3*dp_faixa2_OE), xmin=0.250, xmax=0.5, linewidth=1, color='black')\n",
    "\n",
    "\n",
    "plt.subplot().hlines(y=(media_faixa3_OE + 3*dp_faixa3_OE), xmin=0.5,xmax = 1, linewidth=1, color='black')\n",
    "plt.subplot().hlines(y=(media_faixa3_OE - 3*dp_faixa3_OE), xmin=0.5,xmax = 1, linewidth=1, color='black')\n",
    "\n",
    "plt.plot()"
   ]
  },
  {
   "attachments": {},
   "cell_type": "markdown",
   "metadata": {},
   "source": [
    "### Visualizando as não falhas"
   ]
  },
  {
   "cell_type": "code",
   "execution_count": 43,
   "metadata": {},
   "outputs": [
    {
     "data": {
      "text/plain": [
       "Text(0.5, 1.0, 'Não Falhas verificadas \"Visualmente\" dentro das 3 faixas MF')"
      ]
     },
     "execution_count": 43,
     "metadata": {},
     "output_type": "execute_result"
    },
    {
     "data": {
      "image/png": "[encoded data removed]",
      "text/plain": [
       "<Figure size 720x360 with 1 Axes>"
      ]
     },
     "metadata": {
      "needs_background": "light"
     },
     "output_type": "display_data"
    }
   ],
   "source": [
    "plt.rcParams[\"figure.figsize\"] = (10,5)\n",
    "\n",
    "plt.scatter(df_global_nf_conhecidas[IRR],df_global_nf_conhecidas['P/Pac'], color = 'blue')\n",
    "plt.subplot().hlines(y=(media_faixa1_MF + 3*dp_faixa1_MF), xmin=0, xmax=0.250, linewidth=1, color='black')\n",
    "plt.subplot().hlines(y=(media_faixa1_MF - 3*dp_faixa1_MF), xmin=0, xmax=0.250, linewidth=1, color='black')\n",
    "\n",
    "\n",
    "plt.subplot().hlines(y=(media_faixa2_MF + 3*dp_faixa2_MF), xmin=0.250, xmax=0.5, linewidth=1, color='black')\n",
    "plt.subplot().hlines(y=(media_faixa2_MF - 3*dp_faixa2_MF), xmin=0.250, xmax=0.5, linewidth=1, color='black')\n",
    "\n",
    "\n",
    "plt.subplot().hlines(y=(media_faixa3_MF + 3*dp_faixa3_MF), xmin=0.5,xmax = 1, linewidth=1, color='black')\n",
    "plt.subplot().hlines(y=(media_faixa3_MF - 3*dp_faixa3_MF), xmin=0.5,xmax = 1, linewidth=1, color='black')\n"
   ]
  },
  {
   "cell_type": "code",
   "execution_count": 44,
   "metadata": {},
   "outputs": [
    {
     "data": {
      "text/plain": [
       "Text(0.5, 1.0, 'Não Falhas verificadas \"Visualmente\" dentro das 3 faixas RF')"
      ]
     },
     "execution_count": 44,
     "metadata": {},
     "output_type": "execute_result"
    },
    {
     "data": {
      "image/png": "[encoded data removed]",
      "text/plain": [
       "<Figure size 720x360 with 1 Axes>"
      ]
     },
     "metadata": {
      "needs_background": "light"
     },
     "output_type": "display_data"
    }
   ],
   "source": [
    "plt.rcParams[\"figure.figsize\"] = (10,5)\n",
    "\n",
    "plt.scatter(df_global_nf_conhecidas[IRR],df_global_nf_conhecidas['P/RF_Global'], color = 'blue')\n",
    "plt.subplot().hlines(y=(media_faixa1_OE + 3*dp_faixa1_OE), xmin=0, xmax=0.250, linewidth=1, color='black')\n",
    "plt.subplot().hlines(y=(media_faixa1_OE - 3*dp_faixa1_OE), xmin=0, xmax=0.250, linewidth=1, color='black')\n",
    "\n",
    "\n",
    "plt.subplot().hlines(y=(media_faixa2_OE + 3*dp_faixa2_OE), xmin=0.250, xmax=0.5, linewidth=1, color='black')\n",
    "plt.subplot().hlines(y=(media_faixa2_OE - 3*dp_faixa2_OE), xmin=0.250, xmax=0.5, linewidth=1, color='black')\n",
    "\n",
    "\n",
    "plt.subplot().hlines(y=(media_faixa3_OE + 3*dp_faixa3_OE), xmin=0.5,xmax = 1, linewidth=1, color='black')\n",
    "plt.subplot().hlines(y=(media_faixa3_OE - 3*dp_faixa3_OE), xmin=0.5,xmax = 1, linewidth=1, color='black')\n"
   ]
  },
  {
   "cell_type": "code",
   "execution_count": 45,
   "metadata": {},
   "outputs": [
    {
     "data": {
      "text/plain": [
       "Text(0.5, 1.0, 'Não Falhas verificadas \"Visualmente\" dentro das 3 faixas OE')"
      ]
     },
     "execution_count": 45,
     "metadata": {},
     "output_type": "execute_result"
    },
    {
     "data": {
      "image/png": "[encoded data removed]",
      "text/plain": [
       "<Figure size 720x360 with 1 Axes>"
      ]
     },
     "metadata": {
      "needs_background": "light"
     },
     "output_type": "display_data"
    }
   ],
   "source": [
    "plt.rcParams[\"figure.figsize\"] = (10,5)\n",
    "\n",
    "plt.scatter(df_global_nf_conhecidas[IRR],df_global_nf_conhecidas['P/OE_Global'], color = 'blue')\n",
    "plt.subplot().hlines(y=(media_faixa1_OE + 3*dp_faixa1_OE), xmin=0, xmax=0.250, linewidth=1, color='black')\n",
    "plt.subplot().hlines(y=(media_faixa1_OE - 3*dp_faixa1_OE), xmin=0, xmax=0.250, linewidth=1, color='black')\n",
    "\n",
    "\n",
    "plt.subplot().hlines(y=(media_faixa2_OE + 3*dp_faixa2_OE), xmin=0.250, xmax=0.5, linewidth=1, color='black')\n",
    "plt.subplot().hlines(y=(media_faixa2_OE - 3*dp_faixa2_OE), xmin=0.250, xmax=0.5, linewidth=1, color='black')\n",
    "\n",
    "\n",
    "plt.subplot().hlines(y=(media_faixa3_OE + 3*dp_faixa3_OE), xmin=0.5,xmax = 1, linewidth=1, color='black')\n",
    "plt.subplot().hlines(y=(media_faixa3_OE - 3*dp_faixa3_OE), xmin=0.5,xmax = 1, linewidth=1, color='black')\n"
   ]
  },
  {
   "cell_type": "markdown",
   "metadata": {},
   "source": [
    "### Falsos positivos e negativos somados das três faixas"
   ]
  },
  {
   "cell_type": "code",
   "execution_count": 46,
   "metadata": {},
   "outputs": [
    {
     "name": "stdout",
     "output_type": "stream",
     "text": [
      "TOTAL falsos negativos MF =  6 TOTAL falsos positivos MF =  10\n",
      "TOTAL falso negativos RF =  1 TOTAL falsos positivos RF =  20\n",
      "TOTAL falso negativos OE =  1 TOTAL falsos positivos OE =  12\n"
     ]
    }
   ],
   "source": [
    "# Somando falsos negativos (MF e RF)\n",
    "fn_mf_faixa123 = fn_mf_faixa1 + fn_mf_faixa2 + fn_mf_faixa3\n",
    "fn_rf_faixa123 = fn_rf_faixa1 + fn_rf_faixa2 + fn_rf_faixa3\n",
    "fn_oe_faixa123 = fn_oe_faixa1 + fn_oe_faixa2 + fn_oe_faixa3\n",
    "# Somando falsos positivos (MF e RF)\n",
    "fp_mf_faixa123 = fp_mf_faixa1 + fp_mf_faixa2 + fp_mf_faixa3\n",
    "fp_rf_faixa123 = fp_rf_faixa1 + fp_rf_faixa2 + fp_rf_faixa3\n",
    "fp_oe_faixa123 = fp_oe_faixa1 + fp_oe_faixa2 + fp_oe_faixa3\n",
    "\n",
    "print(\"TOTAL falsos negativos MF = \",fn_mf_faixa123, \"TOTAL falsos positivos MF = \",fp_mf_faixa123)\n",
    "print(\"TOTAL falso negativos RF = \",fn_rf_faixa123, \"TOTAL falsos positivos RF = \",fp_rf_faixa123)\n",
    "print(\"TOTAL falso negativos OE = \",fn_oe_faixa123, \"TOTAL falsos positivos OE = \",fp_oe_faixa123)"
   ]
  }
 ],
 "metadata": {
  "kernelspec": {
   "display_name": "Python 3.9.12 ('TCC')",
   "language": "python",
   "name": "python3"
  },
  "language_info": {
   "codemirror_mode": {
    "name": "ipython",
    "version": 3
   },
   "file_extension": ".py",
   "mimetype": "text/x-python",
   "name": "python",
   "nbconvert_exporter": "python",
   "pygments_lexer": "ipython3",
   "version": "3.9.12"
  },
  "orig_nbformat": 4,
  "vscode": {
   "interpreter": {
    "hash": "b57e84ab262cfbc2e4cfb26dd980f3f3bb83248fa1276d8ed709520b288f08d0"
   }
  }
 },
 "nbformat": 4,
 "nbformat_minor": 2
}
