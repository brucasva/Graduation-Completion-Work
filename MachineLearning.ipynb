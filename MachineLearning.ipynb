{
 "cells": [
  {
   "cell_type": "markdown",
   "metadata": {},
   "source": [
    "Esse código foi feito para aplicar o algoritmo de random forest para realizar uma previsão momentânea do valor\n",
    " de Potência gerada e comparar o resultado com o valor obtido por meio do modelo de equação única, ou também conhecido como modelo físico\n",
    " "
   ]
  },
  {
   "cell_type": "markdown",
   "metadata": {},
   "source": [
    "# Importando bibliotecas"
   ]
  },
  {
   "cell_type": "code",
   "execution_count": 2,
   "metadata": {},
   "outputs": [],
   "source": [
    "import pandas as pd\n",
    "import numpy as np\n",
    "import seaborn as sns \n",
    "import matplotlib.pyplot as plt\n",
    "%matplotlib inline \n",
    "\n",
    "from Functions import import_PV_WT_data\n",
    "\n",
    "\n",
    "from sklearn.model_selection import train_test_split\n",
    "from sklearn.preprocessing import MinMaxScaler\n",
    "from sklearn.linear_model import LinearRegression\n",
    "from sklearn.metrics import r2_score\n",
    "from sklearn.ensemble import RandomForestRegressor\n",
    "from sklearn.metrics import mean_squared_error\n",
    "\n",
    "\n",
    "#importando e definindo a função necessária para calcular r²\n",
    "from scipy import stats\n",
    "from scipy.optimize import curve_fit\n",
    "def rsquared(x, y):\n",
    "    \"\"\" Return R^2 where x and y are array-like.\"\"\"\n",
    "    slope, intercept, r_value, p_value, std_err = stats.linregress(x, y)\n",
    "    return r_value**2"
   ]
  },
  {
   "cell_type": "markdown",
   "metadata": {},
   "source": [
    "# Lendo os dados previamente limpos pelo arquivo \"ExtraindoDadosSolete.ipynb\""
   ]
  },
  {
   "cell_type": "code",
   "execution_count": 3,
   "metadata": {},
   "outputs": [
    {
     "data": {
      "text/html": [
       "<div>\n",
       "<style scoped>\n",
       "    .dataframe tbody tr th:only-of-type {\n",
       "        vertical-align: middle;\n",
       "    }\n",
       "\n",
       "    .dataframe tbody tr th {\n",
       "        vertical-align: top;\n",
       "    }\n",
       "\n",
       "    .dataframe thead th {\n",
       "        text-align: right;\n",
       "    }\n",
       "</style>\n",
       "<table border=\"1\" class=\"dataframe\">\n",
       "  <thead>\n",
       "    <tr style=\"text-align: right;\">\n",
       "      <th></th>\n",
       "      <th>TEMPERATURE[degC]</th>\n",
       "      <th>HUMIDITY[%]</th>\n",
       "      <th>WIND_SPEED[m1s]</th>\n",
       "      <th>WIND_DIR[deg]</th>\n",
       "      <th>GHI[kW1m2]</th>\n",
       "      <th>POA Irr[kW1m2]</th>\n",
       "      <th>P_Gaia[kW]</th>\n",
       "      <th>P_Solar[kW]</th>\n",
       "      <th>Pressure[mbar]</th>\n",
       "      <th>PR_A</th>\n",
       "      <th>Pac</th>\n",
       "      <th>Pdc</th>\n",
       "      <th>TempModule</th>\n",
       "      <th>TempCell</th>\n",
       "    </tr>\n",
       "  </thead>\n",
       "  <tbody>\n",
       "    <tr>\n",
       "      <th>2018-06-01 04:00:00</th>\n",
       "      <td>14.956095</td>\n",
       "      <td>0.700000</td>\n",
       "      <td>1.252238</td>\n",
       "      <td>90.303333</td>\n",
       "      <td>0.137325</td>\n",
       "      <td>0.056974</td>\n",
       "      <td>0.000671</td>\n",
       "      <td>0.316833</td>\n",
       "      <td>1016.824675</td>\n",
       "      <td>0.771259</td>\n",
       "      <td>0.432287</td>\n",
       "      <td>0.440659</td>\n",
       "      <td>16.430217</td>\n",
       "      <td>16.601139</td>\n",
       "    </tr>\n",
       "    <tr>\n",
       "      <th>2018-06-01 05:00:00</th>\n",
       "      <td>16.359278</td>\n",
       "      <td>0.700000</td>\n",
       "      <td>1.571111</td>\n",
       "      <td>99.760833</td>\n",
       "      <td>0.225724</td>\n",
       "      <td>0.074395</td>\n",
       "      <td>0.056381</td>\n",
       "      <td>0.457303</td>\n",
       "      <td>1016.921153</td>\n",
       "      <td>0.851619</td>\n",
       "      <td>0.559628</td>\n",
       "      <td>0.570467</td>\n",
       "      <td>18.238640</td>\n",
       "      <td>18.461825</td>\n",
       "    </tr>\n",
       "    <tr>\n",
       "      <th>2018-06-01 06:00:00</th>\n",
       "      <td>18.266389</td>\n",
       "      <td>0.633500</td>\n",
       "      <td>1.654250</td>\n",
       "      <td>101.448611</td>\n",
       "      <td>0.344626</td>\n",
       "      <td>0.143629</td>\n",
       "      <td>0.034202</td>\n",
       "      <td>0.981629</td>\n",
       "      <td>1016.602885</td>\n",
       "      <td>0.959274</td>\n",
       "      <td>1.058032</td>\n",
       "      <td>1.078524</td>\n",
       "      <td>21.879632</td>\n",
       "      <td>22.310520</td>\n",
       "    </tr>\n",
       "    <tr>\n",
       "      <th>2018-06-01 07:00:00</th>\n",
       "      <td>20.064750</td>\n",
       "      <td>0.587972</td>\n",
       "      <td>1.555750</td>\n",
       "      <td>99.841944</td>\n",
       "      <td>0.451299</td>\n",
       "      <td>0.342008</td>\n",
       "      <td>0.002903</td>\n",
       "      <td>2.350645</td>\n",
       "      <td>1016.332812</td>\n",
       "      <td>0.954127</td>\n",
       "      <td>2.435991</td>\n",
       "      <td>2.483171</td>\n",
       "      <td>28.717007</td>\n",
       "      <td>29.743032</td>\n",
       "    </tr>\n",
       "    <tr>\n",
       "      <th>2018-06-01 08:00:00</th>\n",
       "      <td>21.713278</td>\n",
       "      <td>0.499583</td>\n",
       "      <td>1.627639</td>\n",
       "      <td>106.434167</td>\n",
       "      <td>0.540191</td>\n",
       "      <td>0.538267</td>\n",
       "      <td>0.003948</td>\n",
       "      <td>3.661579</td>\n",
       "      <td>1016.145600</td>\n",
       "      <td>0.945578</td>\n",
       "      <td>3.704321</td>\n",
       "      <td>3.776067</td>\n",
       "      <td>35.266054</td>\n",
       "      <td>36.880854</td>\n",
       "    </tr>\n",
       "  </tbody>\n",
       "</table>\n",
       "</div>"
      ],
      "text/plain": [
       "                     TEMPERATURE[degC]  HUMIDITY[%]  WIND_SPEED[m1s]  \\\n",
       "2018-06-01 04:00:00          14.956095     0.700000         1.252238   \n",
       "2018-06-01 05:00:00          16.359278     0.700000         1.571111   \n",
       "2018-06-01 06:00:00          18.266389     0.633500         1.654250   \n",
       "2018-06-01 07:00:00          20.064750     0.587972         1.555750   \n",
       "2018-06-01 08:00:00          21.713278     0.499583         1.627639   \n",
       "\n",
       "                     WIND_DIR[deg]  GHI[kW1m2]  POA Irr[kW1m2]  P_Gaia[kW]  \\\n",
       "2018-06-01 04:00:00      90.303333    0.137325        0.056974    0.000671   \n",
       "2018-06-01 05:00:00      99.760833    0.225724        0.074395    0.056381   \n",
       "2018-06-01 06:00:00     101.448611    0.344626        0.143629    0.034202   \n",
       "2018-06-01 07:00:00      99.841944    0.451299        0.342008    0.002903   \n",
       "2018-06-01 08:00:00     106.434167    0.540191        0.538267    0.003948   \n",
       "\n",
       "                     P_Solar[kW]  Pressure[mbar]      PR_A       Pac  \\\n",
       "2018-06-01 04:00:00     0.316833     1016.824675  0.771259  0.432287   \n",
       "2018-06-01 05:00:00     0.457303     1016.921153  0.851619  0.559628   \n",
       "2018-06-01 06:00:00     0.981629     1016.602885  0.959274  1.058032   \n",
       "2018-06-01 07:00:00     2.350645     1016.332812  0.954127  2.435991   \n",
       "2018-06-01 08:00:00     3.661579     1016.145600  0.945578  3.704321   \n",
       "\n",
       "                          Pdc  TempModule   TempCell  \n",
       "2018-06-01 04:00:00  0.440659   16.430217  16.601139  \n",
       "2018-06-01 05:00:00  0.570467   18.238640  18.461825  \n",
       "2018-06-01 06:00:00  1.078524   21.879632  22.310520  \n",
       "2018-06-01 07:00:00  2.483171   28.717007  29.743032  \n",
       "2018-06-01 08:00:00  3.776067   35.266054  36.880854  "
      ]
     },
     "execution_count": 3,
     "metadata": {},
     "output_type": "execute_result"
    }
   ],
   "source": [
    "#Importando os dados já limpos e trabalhados (sem falhas)\n",
    "DATA=pd.read_csv('Data/Solete/ResampleHoraSemFalha.csv',index_col = 0, parse_dates=True)\n",
    "PVinfo, WTinfo = import_PV_WT_data()\n",
    "\n",
    "DATA.head()"
   ]
  },
  {
   "cell_type": "markdown",
   "metadata": {},
   "source": [
    "## Visualisando os dados"
   ]
  },
  {
   "cell_type": "code",
   "execution_count": 4,
   "metadata": {},
   "outputs": [],
   "source": [
    "P = \"P_Solar[kW]\"\n",
    "DATA['P/Pac'] = DATA[P] / DATA['Pac']\n",
    "IRR = \"POA Irr[kW1m2]\""
   ]
  },
  {
   "cell_type": "code",
   "execution_count": 5,
   "metadata": {},
   "outputs": [
    {
     "data": {
      "image/png": "[encoded data removed]",
      "text/plain": [
       "<Figure size 432x288 with 1 Axes>"
      ]
     },
     "metadata": {
      "needs_background": "light"
     },
     "output_type": "display_data"
    },
    {
     "name": "stdout",
     "output_type": "stream",
     "text": [
      "R-square =  0.9885398006396707\n"
     ]
    }
   ],
   "source": [
    "#Plotando um gráfico scatter de todos os dias com uma fit line e o R²\n",
    "plt.scatter(DATA[IRR],DATA[P], color = \"blue\")\n",
    "plt.xlabel(\"IRR [W/m²]\")\n",
    "plt.ylabel(\"Potência [W]\")\n",
    "\n",
    "a, b = np.polyfit(DATA[IRR],DATA[P], 1) #Encontrando a melhor fit line (R²) entre os dois valores\n",
    "plt.plot(DATA[IRR], a*DATA[IRR]+b, color = \"black\",)\n",
    "r2 = rsquared(DATA[IRR],DATA[P])\n",
    "plt.text(0.6*DATA[IRR].max(), 0.4*DATA[P].max(), 'R-squared = %0.4f' % r2, color = \"black\")\n",
    "plt.show()\n",
    "\n",
    "print(\"R-square = \", r2)"
   ]
  },
  {
   "cell_type": "markdown",
   "metadata": {},
   "source": [
    "# Aplicando Machine Learning na faixa global de irradiância"
   ]
  },
  {
   "cell_type": "markdown",
   "metadata": {},
   "source": [
    "## Separando em variaveis de X e Y (possible features and features to be predicted)"
   ]
  },
  {
   "cell_type": "code",
   "execution_count": 6,
   "metadata": {},
   "outputs": [],
   "source": [
    "df2 = DATA.copy()\n",
    "X = df2[['TEMPERATURE[degC]', 'HUMIDITY[%]', 'POA Irr[kW1m2]', 'Pac', 'TempModule', 'TempCell', 'GHI[kW1m2]']]\n",
    "y = df2[['P_Solar[kW]']]"
   ]
  },
  {
   "cell_type": "code",
   "execution_count": 7,
   "metadata": {},
   "outputs": [],
   "source": [
    "# Separando as variáveis de treinamento e teste\n",
    "X_train_global,X_test_global,y_train_global,y_test_global = train_test_split(X,y,test_size=.3,random_state=21,shuffle=False)"
   ]
  },
  {
   "cell_type": "markdown",
   "metadata": {},
   "source": [
    "## Treinando e testando o RandomForest (RF)"
   ]
  },
  {
   "cell_type": "code",
   "execution_count": 8,
   "metadata": {},
   "outputs": [
    {
     "name": "stderr",
     "output_type": "stream",
     "text": [
      "C:\\Users\\Bruno\\AppData\\Local\\Temp\\ipykernel_21316\\1360400851.py:2: DataConversionWarning: A column-vector y was passed when a 1d array was expected. Please change the shape of y to (n_samples,), for example using ravel().\n",
      "  rfr.fit(X_train_global,y_train_global)\n"
     ]
    },
    {
     "name": "stdout",
     "output_type": "stream",
     "text": [
      "R2 Score :  98.77 %\n"
     ]
    }
   ],
   "source": [
    "rfr = RandomForestRegressor()\n",
    "rfr.fit(X_train_global,y_train_global)\n",
    "y_pred_rfr = rfr.predict(X_test_global)\n",
    "R2_Score_rfr = round(r2_score(y_pred_rfr,y_test_global) * 100, 2)\n",
    "\n",
    "print(\"R2 Score : \",R2_Score_rfr,\"%\")"
   ]
  },
  {
   "cell_type": "code",
   "execution_count": 9,
   "metadata": {},
   "outputs": [
    {
     "name": "stdout",
     "output_type": "stream",
     "text": [
      "<class 'numpy.ndarray'>\n",
      "[2.79528866 4.06502602 4.77690531 ... 2.62766828 1.27254375 0.41950514]\n"
     ]
    }
   ],
   "source": [
    "PredictionGlobal = rfr.predict(X_test_global)\n",
    "print(type(PredictionGlobal))\n",
    "print(PredictionGlobal)\n",
    "df_predictGlobal = pd.DataFrame(PredictionGlobal, columns = [\"P_Solar[kW]\"], index = y_test_global.index)"
   ]
  },
  {
   "cell_type": "markdown",
   "metadata": {},
   "source": [
    "### Prevendo os valores para os dados de teste para obter os limites superiores e inferiores da detecção"
   ]
  },
  {
   "cell_type": "code",
   "execution_count": 10,
   "metadata": {},
   "outputs": [],
   "source": [
    "PredictionGlobal_train = rfr.predict(X_train_global)\n",
    "df_predictGlobal_train = pd.DataFrame(PredictionGlobal_train, columns = [\"P_Solar[kW]\"], index = y_train_global.index)\n",
    "df_predictGlobal_train['P/PacRF'] = y_train_global[P] / df_predictGlobal_train[P]\n"
   ]
  },
  {
   "cell_type": "code",
   "execution_count": 11,
   "metadata": {},
   "outputs": [
    {
     "data": {
      "text/plain": [
       "0.17436569123487966"
      ]
     },
     "execution_count": 11,
     "metadata": {},
     "output_type": "execute_result"
    }
   ],
   "source": [
    "RMSE_RF_Train = mean_squared_error(y_train_global, df_predictGlobal_train[P]) * 100\n",
    "RMSE_RF_Train"
   ]
  },
  {
   "cell_type": "code",
   "execution_count": 12,
   "metadata": {},
   "outputs": [
    {
     "data": {
      "text/plain": [
       "<matplotlib.collections.PathCollection at 0x2f222fcd220>"
      ]
     },
     "execution_count": 12,
     "metadata": {},
     "output_type": "execute_result"
    },
    {
     "data": {
      "image/png": "[encoded data removed]",
      "text/plain": [
       "<Figure size 432x288 with 1 Axes>"
      ]
     },
     "metadata": {
      "needs_background": "light"
     },
     "output_type": "display_data"
    }
   ],
   "source": [
    "plt.scatter(X_train_global[IRR],df_predictGlobal_train['P/PacRF'], color = 'blue')"
   ]
  },
  {
   "cell_type": "code",
   "execution_count": 13,
   "metadata": {},
   "outputs": [
    {
     "name": "stdout",
     "output_type": "stream",
     "text": [
      "Tamanho da predição 1406 Tamanho do y_teste 1406\n",
      "Tamanho total 4685 Tamanho do y_train 3279\n"
     ]
    }
   ],
   "source": [
    "print(\"Tamanho da predição\",df_predictGlobal.shape[0],\"Tamanho do y_teste\",y_test_global.shape[0])\n",
    "print(\"Tamanho total\",df2.shape[0],\"Tamanho do y_train\",y_train_global.shape[0])"
   ]
  },
  {
   "cell_type": "markdown",
   "metadata": {},
   "source": [
    "## Treinando e testando o One-Equation(OE)"
   ]
  },
  {
   "cell_type": "code",
   "execution_count": 14,
   "metadata": {},
   "outputs": [],
   "source": [
    "# define the true objective function\n",
    "def func(data, a, b, c, d):\n",
    "    x = data[0] * 1000\n",
    "    z = data[1]\n",
    "    return x * (a + b * x + c * np.log(x)) * (1 + d * (z - 25))"
   ]
  },
  {
   "cell_type": "code",
   "execution_count": 15,
   "metadata": {},
   "outputs": [],
   "source": [
    "#Variaveis indepentendes\n",
    "df_X_train_global_oe = X_train_global.copy()\n",
    "df_X_train_global_oe_data = df_X_train_global_oe.values\n",
    "\n",
    "#Variavel dependente\n",
    "df_y_train_global_oe = y_train_global.copy()\n",
    "df_y_train_global_oe_data = df_y_train_global_oe.values\n",
    "\n",
    "# Separando os dados de treinamento\n",
    "irradiation = df_X_train_global_oe_data[:, 2]\n",
    "moduletemperature = df_X_train_global_oe_data[:, 4]\n",
    "energy = df_y_train_global_oe_data[:, 0]"
   ]
  },
  {
   "cell_type": "code",
   "execution_count": 16,
   "metadata": {},
   "outputs": [
    {
     "name": "stdout",
     "output_type": "stream",
     "text": [
      "a1 = 0.00397, a2 = -0.00000, a3 = 0.00061, a4 = -0.00416\n"
     ]
    }
   ],
   "source": [
    "# Treinando a curve fit com os dados de treinamento\n",
    "popt, pcov = curve_fit(func, (irradiation, moduletemperature), energy)\n",
    "# Encontrando os parametros\n",
    "a, b, c, d = popt\n",
    "print('a1 = %.5f, a2 = %.5f, a3 = %.5f, a4 = %.5f' % (a, b, c, d))"
   ]
  },
  {
   "cell_type": "code",
   "execution_count": 17,
   "metadata": {},
   "outputs": [],
   "source": [
    "# Calculando a razão P/PacOE para os dados de teste\n",
    "PredictionGlobalOE = X_test_global[IRR]*1000 * (a + b * X_test_global[IRR]*1000 + c * np.log(X_test_global[IRR]*1000)) * (1 + d * (X_test_global['TempModule'] - 25))\n",
    "df_predictGlobalOE = pd.DataFrame(PredictionGlobalOE, columns = [\"P_Solar[kW]\"], index = y_test_global.index)\n",
    "df_predictGlobalOE[\"P\"] = y_test_global[P]\n"
   ]
  },
  {
   "cell_type": "markdown",
   "metadata": {},
   "source": [
    "## Calculando o RMSE"
   ]
  },
  {
   "cell_type": "code",
   "execution_count": 18,
   "metadata": {},
   "outputs": [
    {
     "data": {
      "text/plain": [
       "3.368554889781019"
      ]
     },
     "execution_count": 18,
     "metadata": {},
     "output_type": "execute_result"
    }
   ],
   "source": [
    "RMSE_RF = mean_squared_error(y_test_global, df_predictGlobal) * 100\n",
    "RMSE_RF"
   ]
  },
  {
   "cell_type": "code",
   "execution_count": 19,
   "metadata": {},
   "outputs": [
    {
     "data": {
      "text/plain": [
       "3.805385936374416"
      ]
     },
     "execution_count": 19,
     "metadata": {},
     "output_type": "execute_result"
    }
   ],
   "source": [
    "RMSE_OE = mean_squared_error(y_test_global, df_predictGlobalOE[P])*100\n",
    "RMSE_OE"
   ]
  },
  {
   "cell_type": "code",
   "execution_count": 20,
   "metadata": {},
   "outputs": [
    {
     "data": {
      "text/plain": [
       "4.9896600028676925"
      ]
     },
     "execution_count": 20,
     "metadata": {},
     "output_type": "execute_result"
    }
   ],
   "source": [
    "RMSE_MF = mean_squared_error(y_test_global, X_test_global['Pac']) * 100\n",
    "Pac_Faixa_Global = X_test_global # Adquirindo o valor de Pac dos dados utilizados para teste para salvar junto com os resultados\n",
    "RMSE_MF"
   ]
  },
  {
   "cell_type": "markdown",
   "metadata": {},
   "source": [
    "# Aplicando Machine Learning nas três faixas separadas de irradiância"
   ]
  },
  {
   "cell_type": "code",
   "execution_count": 21,
   "metadata": {},
   "outputs": [],
   "source": [
    "# Separando as três faixas\n",
    "selecao_faixa1 = (df2[IRR] >= 50/1000) & (df2[IRR] <= 250/1000)\n",
    "selecao_faixa2 = (df2[IRR] > 250/1000) & (df2[IRR] <= 500/1000)\n",
    "selecao_faixa3 = (df2[IRR] > 500/1000)\n",
    "\n",
    "df2_faixa1 = df2[selecao_faixa1]\n",
    "df2_faixa2 = df2[selecao_faixa2]\n",
    "df2_faixa3 = df2[selecao_faixa3]"
   ]
  },
  {
   "cell_type": "markdown",
   "metadata": {},
   "source": [
    "## Treinando RF e OE para cada faixa"
   ]
  },
  {
   "cell_type": "markdown",
   "metadata": {},
   "source": [
    "## Faixa 1 (50-250)"
   ]
  },
  {
   "cell_type": "code",
   "execution_count": 22,
   "metadata": {},
   "outputs": [],
   "source": [
    "X = df2_faixa1[['TEMPERATURE[degC]', 'HUMIDITY[%]', 'POA Irr[kW1m2]', 'Pac', 'TempModule', 'TempCell', 'GHI[kW1m2]']]\n",
    "y = df2_faixa1[['P_Solar[kW]']]\n",
    "X_train_faixa1,X_test_faixa1,y_train_faixa1,y_test_faixa1 = train_test_split(X,y,test_size=.31,random_state=21,shuffle=False)"
   ]
  },
  {
   "cell_type": "markdown",
   "metadata": {},
   "source": [
    "### RF"
   ]
  },
  {
   "cell_type": "code",
   "execution_count": 23,
   "metadata": {},
   "outputs": [
    {
     "name": "stderr",
     "output_type": "stream",
     "text": [
      "C:\\Users\\Bruno\\AppData\\Local\\Temp\\ipykernel_21316\\210803122.py:2: DataConversionWarning: A column-vector y was passed when a 1d array was expected. Please change the shape of y to (n_samples,), for example using ravel().\n",
      "  rfr.fit(X_train_faixa1,y_train_faixa1)\n"
     ]
    }
   ],
   "source": [
    "rfr = RandomForestRegressor()\n",
    "rfr.fit(X_train_faixa1,y_train_faixa1)\n",
    "y_pred_rfr = rfr.predict(X_test_faixa1)\n",
    "R2_Score_rfr = round(r2_score(y_pred_rfr,y_test_faixa1) * 100, 2)\n"
   ]
  },
  {
   "cell_type": "code",
   "execution_count": 24,
   "metadata": {},
   "outputs": [
    {
     "name": "stdout",
     "output_type": "stream",
     "text": [
      "<class 'numpy.ndarray'>\n"
     ]
    }
   ],
   "source": [
    "PredictionFaixa1 = y_pred_rfr\n",
    "print(type(PredictionFaixa1))\n",
    "df_predictFaixa1 = pd.DataFrame(PredictionFaixa1, columns = [\"P_Solar[kW]\"], index = y_test_faixa1.index)"
   ]
  },
  {
   "cell_type": "markdown",
   "metadata": {},
   "source": [
    "### One-Equation"
   ]
  },
  {
   "cell_type": "code",
   "execution_count": 25,
   "metadata": {},
   "outputs": [],
   "source": [
    "#Variaveis indepentendes\n",
    "df_X_train_faixa1_oe = X_train_faixa1.copy()\n",
    "df_X_train_faixa1_oe_data = df_X_train_faixa1_oe.values\n",
    "\n",
    "#Variavel dependente\n",
    "df_y_train_faixa1_oe = y_train_faixa1.copy()\n",
    "df_y_train_faixa1_oe_data = df_y_train_faixa1_oe.values\n",
    "\n",
    "# Separando os dados de treinamento\n",
    "irradiation = df_X_train_faixa1_oe_data[:, 2]\n",
    "moduletemperature = df_X_train_faixa1_oe_data[:, 4]\n",
    "energy = df_y_train_faixa1_oe_data[:, 0]"
   ]
  },
  {
   "cell_type": "code",
   "execution_count": 26,
   "metadata": {},
   "outputs": [
    {
     "name": "stdout",
     "output_type": "stream",
     "text": [
      "a1 = 0.00238, a2 = -0.00000, a3 = 0.00102, a4 = -0.00210\n"
     ]
    }
   ],
   "source": [
    "# Treinando a curve fit com os dados de treinamento\n",
    "popt, pcov = curve_fit(func, (irradiation, moduletemperature), energy)\n",
    "# Encontrando os parametros\n",
    "a1, b1, c1, d1 = popt\n",
    "print('a1 = %.5f, a2 = %.5f, a3 = %.5f, a4 = %.5f' % (a1, b1, c1, d1))"
   ]
  },
  {
   "cell_type": "code",
   "execution_count": 27,
   "metadata": {},
   "outputs": [],
   "source": [
    "# Calculando a razão P/PacOE para os dados de teste\n",
    "PredictionFaixa1OE = X_test_faixa1[IRR]*1000 * (a1 + b1 * X_test_faixa1[IRR]*1000 + c1 * np.log(X_test_faixa1[IRR]*1000)) * (1 + d1 * (X_test_faixa1['TempModule'] - 25))\n",
    "df_predictFaixa1OE = pd.DataFrame(PredictionFaixa1OE, columns = [\"P_Solar[kW]\"], index = y_test_faixa1.index)\n",
    "df_predictFaixa1OE[\"P\"] = y_test_faixa1[P]\n"
   ]
  },
  {
   "cell_type": "markdown",
   "metadata": {},
   "source": [
    "### RMSE"
   ]
  },
  {
   "cell_type": "code",
   "execution_count": 28,
   "metadata": {},
   "outputs": [
    {
     "data": {
      "text/plain": [
       "0.4259216025116817"
      ]
     },
     "execution_count": 28,
     "metadata": {},
     "output_type": "execute_result"
    }
   ],
   "source": [
    "RMSE_RF_faixa1 = mean_squared_error(y_test_faixa1, df_predictFaixa1) * 100\n",
    "RMSE_RF_faixa1"
   ]
  },
  {
   "cell_type": "code",
   "execution_count": 29,
   "metadata": {},
   "outputs": [
    {
     "data": {
      "text/plain": [
       "0.3901511080910956"
      ]
     },
     "execution_count": 29,
     "metadata": {},
     "output_type": "execute_result"
    }
   ],
   "source": [
    "RMSE_OE_faixa1 = mean_squared_error(y_test_faixa1, df_predictFaixa1OE[P]) * 100\n",
    "RMSE_OE_faixa1"
   ]
  },
  {
   "cell_type": "code",
   "execution_count": 30,
   "metadata": {},
   "outputs": [
    {
     "data": {
      "text/plain": [
       "1.1670635581110418"
      ]
     },
     "execution_count": 30,
     "metadata": {},
     "output_type": "execute_result"
    }
   ],
   "source": [
    "RMSE_MF_faixa1 = mean_squared_error(y_test_faixa1, X_test_faixa1['Pac']) * 100\n",
    "RMSE_MF_faixa1"
   ]
  },
  {
   "cell_type": "markdown",
   "metadata": {},
   "source": [
    "## Faixa 2 (250-500)"
   ]
  },
  {
   "cell_type": "code",
   "execution_count": 31,
   "metadata": {},
   "outputs": [],
   "source": [
    "X = df2_faixa2[['TEMPERATURE[degC]', 'HUMIDITY[%]', 'POA Irr[kW1m2]', 'Pac', 'TempModule', 'TempCell', 'GHI[kW1m2]']]\n",
    "y = df2_faixa2[['P_Solar[kW]']]\n",
    "X_train,X_test,y_train,y_test = train_test_split(X,y,test_size=.33,random_state=21,shuffle=False)"
   ]
  },
  {
   "cell_type": "code",
   "execution_count": 32,
   "metadata": {},
   "outputs": [
    {
     "name": "stderr",
     "output_type": "stream",
     "text": [
      "C:\\Users\\Bruno\\AppData\\Local\\Temp\\ipykernel_21316\\1857572404.py:2: DataConversionWarning: A column-vector y was passed when a 1d array was expected. Please change the shape of y to (n_samples,), for example using ravel().\n",
      "  rfr.fit(X_train,y_train)\n"
     ]
    }
   ],
   "source": [
    "rfr = RandomForestRegressor()\n",
    "rfr.fit(X_train,y_train)\n",
    "y_pred_rfr = rfr.predict(X_test)\n",
    "R2_Score_rfr = round(r2_score(y_pred_rfr,y_test) * 100, 2)"
   ]
  },
  {
   "cell_type": "code",
   "execution_count": 33,
   "metadata": {},
   "outputs": [
    {
     "name": "stdout",
     "output_type": "stream",
     "text": [
      "<class 'numpy.ndarray'>\n"
     ]
    }
   ],
   "source": [
    "PredictionFaixa2 = y_pred_rfr\n",
    "print(type(PredictionFaixa2))\n",
    "df_predictFaixa2 = pd.DataFrame(PredictionFaixa2, columns = [\"P_Solar[kW]\"], index = y_test.index)"
   ]
  },
  {
   "cell_type": "markdown",
   "metadata": {},
   "source": [
    "### One-equation"
   ]
  },
  {
   "cell_type": "code",
   "execution_count": 34,
   "metadata": {},
   "outputs": [],
   "source": [
    "#Variaveis indepentendes\n",
    "df_X_train_faixa2_oe = X_train.copy()\n",
    "df_X_train_faixa2_oe_data = df_X_train_faixa2_oe.values\n",
    "\n",
    "#Variavel dependente\n",
    "df_y_train_faixa2_oe = y_train.copy()\n",
    "df_y_train_faixa2_oe_data = df_y_train_faixa2_oe.values\n",
    "\n",
    "# Separando os dados de treinamento\n",
    "irradiation = df_X_train_faixa2_oe_data[:, 2]\n",
    "moduletemperature = df_X_train_faixa2_oe_data[:, 4]\n",
    "energy = df_y_train_faixa2_oe_data[:, 0]"
   ]
  },
  {
   "cell_type": "code",
   "execution_count": 35,
   "metadata": {},
   "outputs": [
    {
     "name": "stdout",
     "output_type": "stream",
     "text": [
      "a1 = 0.01620, a2 = 0.00001, a3 = -0.00189, a4 = -0.00257\n"
     ]
    }
   ],
   "source": [
    "# Treinando a curve fit com os dados de treinamento\n",
    "popt, pcov = curve_fit(func, (irradiation, moduletemperature), energy)\n",
    "# Encontrando os parametros\n",
    "a2, b2, c2, d2 = popt\n",
    "print('a1 = %.5f, a2 = %.5f, a3 = %.5f, a4 = %.5f' % (a2, b2, c2, d2))"
   ]
  },
  {
   "cell_type": "code",
   "execution_count": 36,
   "metadata": {},
   "outputs": [],
   "source": [
    "# Calculando a razão P/PacOE para os dados de teste\n",
    "PredictionFaixa2OE = X_test[IRR]*1000 * (a2 + b2 * X_test[IRR]*1000 + c2 * np.log(X_test[IRR]*1000)) * (1 + d2 * (X_test['TempModule'] - 25))\n",
    "df_predictFaixa2OE = pd.DataFrame(PredictionFaixa2OE, columns = [\"P_Solar[kW]\"], index = y_test.index)\n",
    "df_predictFaixa2OE[\"P\"] = y_test[P]"
   ]
  },
  {
   "cell_type": "markdown",
   "metadata": {},
   "source": [
    "### RMSE"
   ]
  },
  {
   "cell_type": "code",
   "execution_count": 37,
   "metadata": {},
   "outputs": [
    {
     "data": {
      "text/plain": [
       "3.347539352421648"
      ]
     },
     "execution_count": 37,
     "metadata": {},
     "output_type": "execute_result"
    }
   ],
   "source": [
    "RMSE_RF_faixa2 = mean_squared_error(y_test, df_predictFaixa2) * 100\n",
    "RMSE_RF_faixa2"
   ]
  },
  {
   "cell_type": "code",
   "execution_count": 38,
   "metadata": {},
   "outputs": [
    {
     "data": {
      "text/plain": [
       "4.048009051816145"
      ]
     },
     "execution_count": 38,
     "metadata": {},
     "output_type": "execute_result"
    }
   ],
   "source": [
    "RMSE_OE_faixa2 = mean_squared_error(y_test, df_predictFaixa2OE[P]) * 100\n",
    "RMSE_OE_faixa2"
   ]
  },
  {
   "cell_type": "code",
   "execution_count": 39,
   "metadata": {},
   "outputs": [
    {
     "data": {
      "text/plain": [
       "3.8543990187507196"
      ]
     },
     "execution_count": 39,
     "metadata": {},
     "output_type": "execute_result"
    }
   ],
   "source": [
    "RMSE_MF_faixa2 = mean_squared_error(y_test, X_test['Pac']) * 100\n",
    "RMSE_MF_faixa2"
   ]
  },
  {
   "cell_type": "markdown",
   "metadata": {},
   "source": [
    "## Faixa 3 (500+)"
   ]
  },
  {
   "cell_type": "code",
   "execution_count": 40,
   "metadata": {},
   "outputs": [],
   "source": [
    "X = df2_faixa3[['TEMPERATURE[degC]', 'HUMIDITY[%]', 'POA Irr[kW1m2]', 'Pac', 'TempModule', 'TempCell', 'GHI[kW1m2]']]\n",
    "y = df2_faixa3[['P_Solar[kW]']]\n",
    "X_train,X_test,y_train,y_test = train_test_split(X,y,test_size=.3,random_state=21,shuffle=False)"
   ]
  },
  {
   "cell_type": "code",
   "execution_count": 41,
   "metadata": {},
   "outputs": [
    {
     "name": "stderr",
     "output_type": "stream",
     "text": [
      "C:\\Users\\Bruno\\AppData\\Local\\Temp\\ipykernel_21316\\1857572404.py:2: DataConversionWarning: A column-vector y was passed when a 1d array was expected. Please change the shape of y to (n_samples,), for example using ravel().\n",
      "  rfr.fit(X_train,y_train)\n"
     ]
    }
   ],
   "source": [
    "rfr = RandomForestRegressor()\n",
    "rfr.fit(X_train,y_train)\n",
    "y_pred_rfr = rfr.predict(X_test)\n",
    "R2_Score_rfr = round(r2_score(y_pred_rfr,y_test) * 100, 2)"
   ]
  },
  {
   "cell_type": "code",
   "execution_count": 42,
   "metadata": {},
   "outputs": [
    {
     "name": "stdout",
     "output_type": "stream",
     "text": [
      "<class 'numpy.ndarray'>\n"
     ]
    }
   ],
   "source": [
    "PredictionFaixa3 = y_pred_rfr\n",
    "print(type(PredictionFaixa3))\n",
    "df_predictFaixa3 = pd.DataFrame(PredictionFaixa3, columns = [\"P_Solar[kW]\"], index = y_test.index)"
   ]
  },
  {
   "cell_type": "markdown",
   "metadata": {},
   "source": [
    "### One-Equation"
   ]
  },
  {
   "cell_type": "code",
   "execution_count": 43,
   "metadata": {},
   "outputs": [],
   "source": [
    "#Variaveis indepentendes\n",
    "df_X_train_faixa3_oe = X_train.copy()\n",
    "df_X_train_faixa3_oe_data = df_X_train_faixa3_oe.values\n",
    "\n",
    "#Variavel dependente\n",
    "df_y_train_faixa3_oe = y_train.copy()\n",
    "df_y_train_faixa3_oe_data = df_y_train_faixa3_oe.values\n",
    "\n",
    "# Separando os dados de treinamento\n",
    "irradiation = df_X_train_faixa3_oe_data[:, 2]\n",
    "moduletemperature = df_X_train_faixa3_oe_data[:, 4]\n",
    "energy = df_y_train_faixa3_oe_data[:, 0]"
   ]
  },
  {
   "cell_type": "code",
   "execution_count": 44,
   "metadata": {},
   "outputs": [
    {
     "name": "stdout",
     "output_type": "stream",
     "text": [
      "a1 = 0.00671, a2 = -0.00000, a3 = 0.00010, a4 = -0.00450\n"
     ]
    }
   ],
   "source": [
    "# Treinando a curve fit com os dados de treinamento\n",
    "popt, pcov = curve_fit(func, (irradiation, moduletemperature), energy)\n",
    "# Encontrando os parametros\n",
    "a3, b3, c3, d3 = popt\n",
    "print('a1 = %.5f, a2 = %.5f, a3 = %.5f, a4 = %.5f' % (a3, b3, c3, d3))"
   ]
  },
  {
   "cell_type": "code",
   "execution_count": 45,
   "metadata": {},
   "outputs": [],
   "source": [
    "# Calculando a razão P/PacOE para os dados de teste\n",
    "PredictionFaixa3OE = X_test[IRR]*1000 * (a3 + b3 * X_test[IRR]*1000 + c3 * np.log(X_test[IRR]*1000)) * (1 + d3 * (X_test['TempModule'] - 25))\n",
    "df_predictFaixa3OE = pd.DataFrame(PredictionFaixa3OE, columns = [\"P_Solar[kW]\"], index = y_test.index)\n",
    "df_predictFaixa3OE[\"P\"] = y_test[P]"
   ]
  },
  {
   "cell_type": "markdown",
   "metadata": {},
   "source": [
    "### RMSE"
   ]
  },
  {
   "cell_type": "code",
   "execution_count": 46,
   "metadata": {},
   "outputs": [
    {
     "data": {
      "text/plain": [
       "10.043311896429238"
      ]
     },
     "execution_count": 46,
     "metadata": {},
     "output_type": "execute_result"
    }
   ],
   "source": [
    "RMSE_RF_faixa3 = mean_squared_error(y_test, df_predictFaixa3) * 100\n",
    "RMSE_RF_faixa3"
   ]
  },
  {
   "cell_type": "code",
   "execution_count": 47,
   "metadata": {},
   "outputs": [
    {
     "data": {
      "text/plain": [
       "11.025864131804894"
      ]
     },
     "execution_count": 47,
     "metadata": {},
     "output_type": "execute_result"
    }
   ],
   "source": [
    "RMSE_OE_faixa3 = mean_squared_error(y_test, df_predictFaixa3OE[P]) * 100\n",
    "RMSE_OE_faixa3"
   ]
  },
  {
   "cell_type": "code",
   "execution_count": 48,
   "metadata": {},
   "outputs": [
    {
     "data": {
      "text/plain": [
       "13.490149136805304"
      ]
     },
     "execution_count": 48,
     "metadata": {},
     "output_type": "execute_result"
    }
   ],
   "source": [
    "RMSE_MF_faixa3 = mean_squared_error(y_test, X_test['Pac']) * 100\n",
    "RMSE_MF_faixa3"
   ]
  },
  {
   "cell_type": "markdown",
   "metadata": {},
   "source": [
    "# Visualizando os resultados"
   ]
  },
  {
   "cell_type": "code",
   "execution_count": 49,
   "metadata": {},
   "outputs": [],
   "source": [
    "data2 = ((RMSE_RF, RMSE_MF, RMSE_OE),\n",
    "        (RMSE_RF_faixa1, RMSE_MF_faixa1, RMSE_OE_faixa1),\n",
    "        (RMSE_RF_faixa2, RMSE_MF_faixa2, RMSE_OE_faixa2),\n",
    "        (RMSE_RF_faixa3, RMSE_MF_faixa3, RMSE_OE_faixa3)\n",
    ")"
   ]
  },
  {
   "cell_type": "code",
   "execution_count": 50,
   "metadata": {},
   "outputs": [
    {
     "data": {
      "image/png": "[encoded data removed]",
      "text/plain": [
       "<Figure size 720x360 with 1 Axes>"
      ]
     },
     "metadata": {
      "needs_background": "light"
     },
     "output_type": "display_data"
    }
   ],
   "source": [
    "plt.rcParams[\"figure.figsize\"] = [10, 5]\n",
    "plt.rcParams[\"figure.autolayout\"] = True\n",
    "plt.rcParams.update({'font.size': 22})\n",
    "fig, axs = plt.subplots(1, 1)\n",
    "columns = ('RMSE Modelo RF (%)', 'RMSE Modelo físico (%)', 'RMSE Modelo One-Equation')\n",
    "rows = ['Faixa Global', 'Faixa 50-250','Faixa 250-500', 'Faixa 500+']\n",
    "axs.axis('tight')\n",
    "axs.axis('off')\n",
    "the_table = axs.table(loc='center',cellText = data2, colLabels=columns,rowLabels= rows)\n",
    "plt.show()"
   ]
  },
  {
   "cell_type": "markdown",
   "metadata": {},
   "source": [
    "# Salvando os resultados em dataframe"
   ]
  },
  {
   "cell_type": "code",
   "execution_count": 51,
   "metadata": {},
   "outputs": [],
   "source": [
    "result = pd.DataFrame(index = df_predictGlobal.index) \n",
    "result['RF_Global'] = df_predictGlobal['P_Solar[kW]']\n",
    "result['RF_Faixa1'] = df_predictFaixa1['P_Solar[kW]']\n",
    "result['RF_Faixa2'] = df_predictFaixa2['P_Solar[kW]']\n",
    "result['RF_Faixa3'] = df_predictFaixa3['P_Solar[kW]']\n",
    "\n",
    "result['OE_Global'] = df_predictGlobalOE['P_Solar[kW]']\n",
    "result['OE_Faixa1'] = df_predictFaixa1OE['P_Solar[kW]']\n",
    "result['OE_Faixa2'] = df_predictFaixa2OE['P_Solar[kW]']\n",
    "result['OE_Faixa3'] = df_predictFaixa3OE['P_Solar[kW]']\n",
    "\n",
    "result.to_csv('Data/Solete/ML_Result.csv')"
   ]
  },
  {
   "cell_type": "code",
   "execution_count": 52,
   "metadata": {},
   "outputs": [],
   "source": [
    "#Salvando os tranining dataset para futura identificação de falhas\n",
    "df_X_train_global = pd.DataFrame(X_train_global, index = X_train_global.index)\n",
    "df_X_train_global[P] =  y_train_global[P]\n",
    "df_X_train_global['P/Pac'] = df_X_train_global[P] / df_X_train_global['Pac']\n",
    "\n",
    "# Calculando a razão P/PacOE para os dados de treinamento da faixa global no modelo One-Equation\n",
    "df_X_train_global['PacOE'] = df_X_train_global[IRR]*1000 * (a + b * df_X_train_global[IRR]*1000 + c * np.log(df_X_train_global[IRR]*1000)) * (1 + d * (df_X_train_global['TempModule'] - 25))\n",
    "df_X_train_global['P/PacOE'] = y_train_global[P]/df_X_train_global['PacOE']\n",
    "del df_X_train_global['PacOE']\n",
    "\n",
    "# Calculando a razão P/PacRF para os dados de treinamento da faixa global no modelo Random Forest\n",
    "df_X_train_global['P/PacRF'] = df_predictGlobal_train['P/PacRF']\n",
    "\n",
    "df_X_train_global.to_csv('Data/Solete/ML_Train.csv') # all machine learnings training data"
   ]
  }
 ],
 "metadata": {
  "kernelspec": {
   "display_name": "Python 3.9.12 ('TCC')",
   "language": "python",
   "name": "python3"
  },
  "language_info": {
   "codemirror_mode": {
    "name": "ipython",
    "version": 3
   },
   "file_extension": ".py",
   "mimetype": "text/x-python",
   "name": "python",
   "nbconvert_exporter": "python",
   "pygments_lexer": "ipython3",
   "version": "3.9.12"
  },
  "orig_nbformat": 4,
  "vscode": {
   "interpreter": {
    "hash": "b57e84ab262cfbc2e4cfb26dd980f3f3bb83248fa1276d8ed709520b288f08d0"
   }
  }
 },
 "nbformat": 4,
 "nbformat_minor": 2
}
