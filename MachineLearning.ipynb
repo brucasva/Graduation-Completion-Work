{
 "cells": [
  {
   "cell_type": "markdown",
   "metadata": {},
   "source": [
    "Esse código foi feito para aplicar o algoritmo de random forest para realizar uma previsão momentânea do valor\n",
    " de Potência gerada e comparar o resultado com o valor obtido por meio do modelo de equação única, ou também conhecido como modelo físico\n",
    " "
   ]
  },
  {
   "cell_type": "markdown",
   "metadata": {},
   "source": [
    "# Importando bibliotecas"
   ]
  },
  {
   "cell_type": "code",
   "execution_count": 1,
   "metadata": {},
   "outputs": [],
   "source": [
    "import pandas as pd\n",
    "import numpy as np\n",
    "import seaborn as sns \n",
    "import matplotlib.pyplot as plt\n",
    "%matplotlib inline \n",
    "\n",
    "from Functions import import_PV_WT_data, ExpandSOLETE, TimePeriods, PrepareMLmodel, TestMLmodel, get_results, post_process\n",
    "\n",
    "import datetime\n",
    "import joblib\n",
    "\n",
    "\n",
    "from sklearn.model_selection import train_test_split\n",
    "from sklearn.preprocessing import MinMaxScaler\n",
    "from sklearn.linear_model import LinearRegression\n",
    "from sklearn.metrics import r2_score\n",
    "from sklearn.ensemble import RandomForestRegressor\n",
    "from sklearn.svm import SVR\n",
    "from sklearn.multioutput import MultiOutputRegressor\n",
    "\n",
    "from keras.models import Sequential\n",
    "from keras.layers import LSTM\n",
    "from keras.layers import Dense\n",
    "from keras.layers import Masking\n",
    "from keras.layers import Flatten\n",
    "from keras.layers import Conv1D\n",
    "from keras.layers import MaxPooling1D\n",
    "from keras.models import load_model\n",
    "\n",
    "#importando e definindo a função necessária para calcular r²\n",
    "from scipy import stats\n",
    "def rsquared(x, y):\n",
    "    \"\"\" Return R^2 where x and y are array-like.\"\"\"\n",
    "\n",
    "    slope, intercept, r_value, p_value, std_err = stats.linregress(x, y)\n",
    "    return r_value**2"
   ]
  },
  {
   "cell_type": "markdown",
   "metadata": {},
   "source": [
    "# Lendo os dados previamente limpos pelo arquivo \"ExtraindoDadosSolete.ipynb\""
   ]
  },
  {
   "cell_type": "code",
   "execution_count": 2,
   "metadata": {},
   "outputs": [
    {
     "data": {
      "text/html": [
       "<div>\n",
       "<style scoped>\n",
       "    .dataframe tbody tr th:only-of-type {\n",
       "        vertical-align: middle;\n",
       "    }\n",
       "\n",
       "    .dataframe tbody tr th {\n",
       "        vertical-align: top;\n",
       "    }\n",
       "\n",
       "    .dataframe thead th {\n",
       "        text-align: right;\n",
       "    }\n",
       "</style>\n",
       "<table border=\"1\" class=\"dataframe\">\n",
       "  <thead>\n",
       "    <tr style=\"text-align: right;\">\n",
       "      <th></th>\n",
       "      <th>TEMPERATURE[degC]</th>\n",
       "      <th>HUMIDITY[%]</th>\n",
       "      <th>WIND_SPEED[m1s]</th>\n",
       "      <th>WIND_DIR[deg]</th>\n",
       "      <th>GHI[kW1m2]</th>\n",
       "      <th>POA Irr[kW1m2]</th>\n",
       "      <th>P_Gaia[kW]</th>\n",
       "      <th>P_Solar[kW]</th>\n",
       "      <th>Pressure[mbar]</th>\n",
       "      <th>PR_A</th>\n",
       "      <th>Pac</th>\n",
       "      <th>Pdc</th>\n",
       "      <th>TempModule</th>\n",
       "      <th>TempCell</th>\n",
       "    </tr>\n",
       "  </thead>\n",
       "  <tbody>\n",
       "    <tr>\n",
       "      <th>2018-06-01 04:00:00</th>\n",
       "      <td>14.956095</td>\n",
       "      <td>0.700000</td>\n",
       "      <td>1.252238</td>\n",
       "      <td>90.303333</td>\n",
       "      <td>0.137325</td>\n",
       "      <td>0.056974</td>\n",
       "      <td>0.000671</td>\n",
       "      <td>0.316833</td>\n",
       "      <td>1016.824675</td>\n",
       "      <td>0.771259</td>\n",
       "      <td>0.432287</td>\n",
       "      <td>0.440659</td>\n",
       "      <td>16.430217</td>\n",
       "      <td>16.601139</td>\n",
       "    </tr>\n",
       "    <tr>\n",
       "      <th>2018-06-01 05:00:00</th>\n",
       "      <td>16.359278</td>\n",
       "      <td>0.700000</td>\n",
       "      <td>1.571111</td>\n",
       "      <td>99.760833</td>\n",
       "      <td>0.225724</td>\n",
       "      <td>0.074395</td>\n",
       "      <td>0.056381</td>\n",
       "      <td>0.457303</td>\n",
       "      <td>1016.921153</td>\n",
       "      <td>0.851619</td>\n",
       "      <td>0.559628</td>\n",
       "      <td>0.570467</td>\n",
       "      <td>18.238640</td>\n",
       "      <td>18.461825</td>\n",
       "    </tr>\n",
       "    <tr>\n",
       "      <th>2018-06-01 06:00:00</th>\n",
       "      <td>18.266389</td>\n",
       "      <td>0.633500</td>\n",
       "      <td>1.654250</td>\n",
       "      <td>101.448611</td>\n",
       "      <td>0.344626</td>\n",
       "      <td>0.143629</td>\n",
       "      <td>0.034202</td>\n",
       "      <td>0.981629</td>\n",
       "      <td>1016.602885</td>\n",
       "      <td>0.959274</td>\n",
       "      <td>1.058032</td>\n",
       "      <td>1.078524</td>\n",
       "      <td>21.879632</td>\n",
       "      <td>22.310520</td>\n",
       "    </tr>\n",
       "    <tr>\n",
       "      <th>2018-06-01 07:00:00</th>\n",
       "      <td>20.064750</td>\n",
       "      <td>0.587972</td>\n",
       "      <td>1.555750</td>\n",
       "      <td>99.841944</td>\n",
       "      <td>0.451299</td>\n",
       "      <td>0.342008</td>\n",
       "      <td>0.002903</td>\n",
       "      <td>2.350645</td>\n",
       "      <td>1016.332812</td>\n",
       "      <td>0.954127</td>\n",
       "      <td>2.435991</td>\n",
       "      <td>2.483171</td>\n",
       "      <td>28.717007</td>\n",
       "      <td>29.743032</td>\n",
       "    </tr>\n",
       "    <tr>\n",
       "      <th>2018-06-01 08:00:00</th>\n",
       "      <td>21.713278</td>\n",
       "      <td>0.499583</td>\n",
       "      <td>1.627639</td>\n",
       "      <td>106.434167</td>\n",
       "      <td>0.540191</td>\n",
       "      <td>0.538267</td>\n",
       "      <td>0.003948</td>\n",
       "      <td>3.661579</td>\n",
       "      <td>1016.145600</td>\n",
       "      <td>0.945578</td>\n",
       "      <td>3.704321</td>\n",
       "      <td>3.776067</td>\n",
       "      <td>35.266054</td>\n",
       "      <td>36.880854</td>\n",
       "    </tr>\n",
       "  </tbody>\n",
       "</table>\n",
       "</div>"
      ],
      "text/plain": [
       "                     TEMPERATURE[degC]  HUMIDITY[%]  WIND_SPEED[m1s]  \\\n",
       "2018-06-01 04:00:00          14.956095     0.700000         1.252238   \n",
       "2018-06-01 05:00:00          16.359278     0.700000         1.571111   \n",
       "2018-06-01 06:00:00          18.266389     0.633500         1.654250   \n",
       "2018-06-01 07:00:00          20.064750     0.587972         1.555750   \n",
       "2018-06-01 08:00:00          21.713278     0.499583         1.627639   \n",
       "\n",
       "                     WIND_DIR[deg]  GHI[kW1m2]  POA Irr[kW1m2]  P_Gaia[kW]  \\\n",
       "2018-06-01 04:00:00      90.303333    0.137325        0.056974    0.000671   \n",
       "2018-06-01 05:00:00      99.760833    0.225724        0.074395    0.056381   \n",
       "2018-06-01 06:00:00     101.448611    0.344626        0.143629    0.034202   \n",
       "2018-06-01 07:00:00      99.841944    0.451299        0.342008    0.002903   \n",
       "2018-06-01 08:00:00     106.434167    0.540191        0.538267    0.003948   \n",
       "\n",
       "                     P_Solar[kW]  Pressure[mbar]      PR_A       Pac  \\\n",
       "2018-06-01 04:00:00     0.316833     1016.824675  0.771259  0.432287   \n",
       "2018-06-01 05:00:00     0.457303     1016.921153  0.851619  0.559628   \n",
       "2018-06-01 06:00:00     0.981629     1016.602885  0.959274  1.058032   \n",
       "2018-06-01 07:00:00     2.350645     1016.332812  0.954127  2.435991   \n",
       "2018-06-01 08:00:00     3.661579     1016.145600  0.945578  3.704321   \n",
       "\n",
       "                          Pdc  TempModule   TempCell  \n",
       "2018-06-01 04:00:00  0.440659   16.430217  16.601139  \n",
       "2018-06-01 05:00:00  0.570467   18.238640  18.461825  \n",
       "2018-06-01 06:00:00  1.078524   21.879632  22.310520  \n",
       "2018-06-01 07:00:00  2.483171   28.717007  29.743032  \n",
       "2018-06-01 08:00:00  3.776067   35.266054  36.880854  "
      ]
     },
     "execution_count": 2,
     "metadata": {},
     "output_type": "execute_result"
    }
   ],
   "source": [
    "#Importando os dados já limpos e trabalhados (sem falhas)\n",
    "DATA=pd.read_csv('Data/Solete/ResampleHoraSemFalha.csv',index_col = 0, parse_dates=True)\n",
    "PVinfo, WTinfo = import_PV_WT_data()\n",
    "DATA.head()"
   ]
  },
  {
   "cell_type": "markdown",
   "metadata": {},
   "source": [
    "## Visualisando os dados"
   ]
  },
  {
   "cell_type": "code",
   "execution_count": 3,
   "metadata": {},
   "outputs": [],
   "source": [
    "P = \"P_Solar[kW]\"\n",
    "IRR = \"POA Irr[kW1m2]\""
   ]
  },
  {
   "cell_type": "code",
   "execution_count": 4,
   "metadata": {},
   "outputs": [
    {
     "data": {
      "image/png": "[encoded data removed]",
      "text/plain": [
       "<Figure size 432x288 with 1 Axes>"
      ]
     },
     "metadata": {
      "needs_background": "light"
     },
     "output_type": "display_data"
    },
    {
     "name": "stdout",
     "output_type": "stream",
     "text": [
      "R-square =  0.9885398006396707\n"
     ]
    }
   ],
   "source": [
    "#Plotando um gráfico scatter de todos os dias com uma fit line e o R²\n",
    "plt.scatter(DATA[IRR],DATA[P], color = \"blue\")\n",
    "plt.xlabel(\"IRR [W/m²]\")\n",
    "plt.ylabel(\"Potência [W]\")\n",
    "\n",
    "a, b = np.polyfit(DATA[IRR],DATA[P], 1) #Encontrando a melhor fit line (R²) entre os dois valores\n",
    "plt.plot(DATA[IRR], a*DATA[IRR]+b, color = \"black\",)\n",
    "r2 = rsquared(DATA[IRR],DATA[P])\n",
    "plt.text(0.6*DATA[IRR].max(), 0.4*DATA[P].max(), 'R-squared = %0.4f' % r2, color = \"black\")\n",
    "plt.show()\n",
    "\n",
    "print(\"R-square = \", r2)"
   ]
  },
  {
   "cell_type": "markdown",
   "metadata": {},
   "source": [
    "# Aplicando Machine Learning na faixa global de irradiância"
   ]
  },
  {
   "cell_type": "markdown",
   "metadata": {},
   "source": [
    "## Separando em variaveis de X e Y (possible features and features to be predicted)"
   ]
  },
  {
   "cell_type": "code",
   "execution_count": 33,
   "metadata": {},
   "outputs": [],
   "source": [
    "df2 = DATA.copy()\n",
    "X = df2[['TEMPERATURE[degC]', 'HUMIDITY[%]', 'POA Irr[kW1m2]', 'Pac', 'TempModule', 'TempCell', 'GHI[kW1m2]']]\n",
    "y = df2[['P_Solar[kW]']]"
   ]
  },
  {
   "cell_type": "code",
   "execution_count": 34,
   "metadata": {},
   "outputs": [],
   "source": [
    "# Separando as variáveis de treinamento e teste\n",
    "X_train,X_test,y_train,y_test = train_test_split(X,y,test_size=.3,random_state=21,shuffle=False)"
   ]
  },
  {
   "cell_type": "markdown",
   "metadata": {},
   "source": [
    "## Treinando com RandomForest (RF)"
   ]
  },
  {
   "cell_type": "code",
   "execution_count": 35,
   "metadata": {},
   "outputs": [
    {
     "name": "stderr",
     "output_type": "stream",
     "text": [
      "C:\\Users\\Bruno\\AppData\\Local\\Temp\\ipykernel_1216\\2455175296.py:2: DataConversionWarning: A column-vector y was passed when a 1d array was expected. Please change the shape of y to (n_samples,), for example using ravel().\n",
      "  rfr.fit(X_train,y_train)\n"
     ]
    },
    {
     "name": "stdout",
     "output_type": "stream",
     "text": [
      "R2 Score :  98.77 %\n"
     ]
    }
   ],
   "source": [
    "rfr = RandomForestRegressor()\n",
    "rfr.fit(X_train,y_train)\n",
    "y_pred_rfr = rfr.predict(X_test)\n",
    "R2_Score_rfr = round(r2_score(y_pred_rfr,y_test) * 100, 2)\n",
    "\n",
    "print(\"R2 Score : \",R2_Score_rfr,\"%\")"
   ]
  },
  {
   "cell_type": "code",
   "execution_count": 37,
   "metadata": {},
   "outputs": [
    {
     "name": "stdout",
     "output_type": "stream",
     "text": [
      "<class 'numpy.ndarray'>\n",
      "[2.7757466  4.05001606 4.78906976 ... 2.63190607 1.25727402 0.42097121]\n"
     ]
    }
   ],
   "source": [
    "PredictionGlobal = rfr.predict(X_test)\n",
    "print(type(PredictionGlobal))\n",
    "print(PredictionGlobal)\n",
    "df_predictGlobal = pd.DataFrame(PredictionGlobal, columns = [\"P_Solar[kW]\"], index = y_test.index)"
   ]
  },
  {
   "cell_type": "code",
   "execution_count": 9,
   "metadata": {},
   "outputs": [
    {
     "name": "stdout",
     "output_type": "stream",
     "text": [
      "Tamanho da predição 1406 Tamanho do y_teste 1406\n",
      "Tamanho total 4685 Tamanho do y_train 3279\n"
     ]
    }
   ],
   "source": [
    "print(\"Tamanho da predição\",df_predictGlobal.shape[0],\"Tamanho do y_teste\",y_test.shape[0])\n",
    "print(\"Tamanho total\",df2.shape[0],\"Tamanho do y_train\",y_train.shape[0])"
   ]
  },
  {
   "cell_type": "markdown",
   "metadata": {},
   "source": [
    "## Calculando o RMSE do valor obtido pelo RF"
   ]
  },
  {
   "cell_type": "code",
   "execution_count": 10,
   "metadata": {},
   "outputs": [],
   "source": [
    "from sklearn.metrics import mean_squared_error"
   ]
  },
  {
   "cell_type": "code",
   "execution_count": 12,
   "metadata": {},
   "outputs": [
    {
     "data": {
      "text/plain": [
       "3.4305651509206703"
      ]
     },
     "execution_count": 12,
     "metadata": {},
     "output_type": "execute_result"
    }
   ],
   "source": [
    "RMSE_RF = mean_squared_error(y_test, df_predictGlobal) * 100\n",
    "RMSE_RF"
   ]
  },
  {
   "cell_type": "markdown",
   "metadata": {},
   "source": [
    "## RMSE pelo modelo físico"
   ]
  },
  {
   "cell_type": "code",
   "execution_count": 36,
   "metadata": {},
   "outputs": [
    {
     "data": {
      "text/plain": [
       "4.9896600028676925"
      ]
     },
     "execution_count": 36,
     "metadata": {},
     "output_type": "execute_result"
    }
   ],
   "source": [
    "RMSE_MF = mean_squared_error(y_test, X_test['Pac']) * 100\n",
    "Pac_Faixa_Global = X_test # Adquirindo o valor de Pac dos dados utilizados para teste para salvar junto com os resultados\n",
    "RMSE_MF"
   ]
  },
  {
   "cell_type": "markdown",
   "metadata": {},
   "source": [
    "# Aplicando Machine Learning nas três faixas separadas de irradiância"
   ]
  },
  {
   "cell_type": "code",
   "execution_count": 14,
   "metadata": {},
   "outputs": [],
   "source": [
    "# Separando as três faixas\n",
    "selecao_faixa1 = (df2[IRR] >= 50/1000) & (df2[IRR] <= 250/1000)\n",
    "selecao_faixa2 = (df2[IRR] > 250/1000) & (df2[IRR] <= 500/1000)\n",
    "selecao_faixa3 = (df2[IRR] > 500/1000)\n",
    "\n",
    "df2_faixa1 = df2[selecao_faixa1]\n",
    "df2_faixa2 = df2[selecao_faixa2]\n",
    "df2_faixa3 = df2[selecao_faixa3]"
   ]
  },
  {
   "cell_type": "markdown",
   "metadata": {},
   "source": [
    "## Treinando RF para cada faixa"
   ]
  },
  {
   "cell_type": "markdown",
   "metadata": {},
   "source": [
    "### Faixa 1 (50-250)"
   ]
  },
  {
   "cell_type": "code",
   "execution_count": 15,
   "metadata": {},
   "outputs": [],
   "source": [
    "X = df2_faixa1[['TEMPERATURE[degC]', 'HUMIDITY[%]', 'POA Irr[kW1m2]', 'Pac', 'TempModule', 'TempCell', 'GHI[kW1m2]']]\n",
    "y = df2_faixa1[['P_Solar[kW]']]\n",
    "X_train,X_test,y_train,y_test = train_test_split(X,y,test_size=.3,random_state=21,shuffle=False)"
   ]
  },
  {
   "cell_type": "code",
   "execution_count": 16,
   "metadata": {},
   "outputs": [
    {
     "name": "stderr",
     "output_type": "stream",
     "text": [
      "C:\\Users\\Bruno\\AppData\\Local\\Temp\\ipykernel_1216\\3050978266.py:2: DataConversionWarning: A column-vector y was passed when a 1d array was expected. Please change the shape of y to (n_samples,), for example using ravel().\n",
      "  rfr.fit(X_train,y_train)\n"
     ]
    }
   ],
   "source": [
    "rfr = RandomForestRegressor()\n",
    "rfr.fit(X_train,y_train)\n",
    "y_pred_rfr = rfr.predict(X_test)\n",
    "R2_Score_rfr = round(r2_score(y_pred_rfr,y_test) * 100, 2)\n"
   ]
  },
  {
   "cell_type": "code",
   "execution_count": 17,
   "metadata": {},
   "outputs": [
    {
     "name": "stdout",
     "output_type": "stream",
     "text": [
      "<class 'numpy.ndarray'>\n",
      "[0.67591017 0.5619549  0.57986154 0.45589414 0.83750453 1.64525643\n",
      " 1.52220456 0.71030036 0.44550334 0.40965837 0.94326494 0.86610704\n",
      " 0.68124738 1.44457107 0.79110891 1.5371676  1.05115643 1.04117626\n",
      " 1.69095076 0.45984934 0.36864843 0.32543358 0.50499209 0.48052971\n",
      " 0.5541011  0.59752968 0.59522854 0.78706346 0.66318521 0.4650597\n",
      " 0.38958504 0.34623327 0.36503537 0.6016674  1.19017232 1.39807937\n",
      " 0.7106626  0.40152285 0.31969379 0.39531579 0.95095379 1.06249593\n",
      " 0.68736523 0.5496387  0.55472855 1.25728732 1.21571512 0.66180492\n",
      " 0.4125035  0.54195027 0.96021849 1.73119833 1.44693811 0.49168842\n",
      " 0.58046516 0.3260201  0.4993408  0.55816556 0.96236659 1.21262789\n",
      " 1.28459428 0.56975948 0.44740208 0.83455329 1.08886312 1.38513067\n",
      " 1.64075165 1.77276509 1.26764455 0.65669323 0.42911338 0.35150752\n",
      " 0.65782798 1.63588891 1.85233151 1.68701801 0.55720441 0.32936978\n",
      " 0.44024114 1.17157714 0.95058658 0.70597142 0.30141908 0.3769341\n",
      " 0.66838231 0.45052216 0.85411107 0.8665436  1.66652978 1.63669214\n",
      " 1.14582149 1.24663655 0.61443416 0.5093679  0.32413947 0.38496889\n",
      " 0.47356865 0.67590464 1.5472223  1.5903794  0.49261552 0.39304553\n",
      " 0.42718768 0.51007945 0.96606448 1.62089653 1.25029054 1.61982672\n",
      " 1.1075731  0.55074715 0.31257098 0.42499704 0.74236849 1.27859876\n",
      " 1.58999817 0.51095541 0.4624261  0.41076916 0.68318752 1.07401694\n",
      " 1.32838125 1.47764394 1.75004344 0.81613628 0.34983284 0.31267666\n",
      " 0.56770276 1.1424361  1.78329847 1.18321626 1.33491257 0.62343491\n",
      " 0.40034361 0.31664624 0.45628736 0.52829116 0.86422675 1.59072718\n",
      " 0.60097428 0.30621667 0.32240157 0.46976664 0.99169135 0.96447651\n",
      " 0.3682517  0.67580022 0.78418816 0.94131856 1.16330723 1.67393656\n",
      " 1.44474043 0.67817762 0.58197382 0.51351596 0.32332814 0.86625038\n",
      " 1.18142076 0.92655212 0.54014798 0.6360239  0.43282959 0.70349693\n",
      " 1.1875248  1.02630982 1.75070876 0.83962642 0.44266367 0.32411527\n",
      " 0.91761651 1.2232735  1.45014479 1.32719428 1.50588106 1.14853162\n",
      " 0.93301316 0.81243258 0.3607194  0.47472039 0.40501337 1.68756839\n",
      " 1.3263053  0.38972535 0.99505953 0.46553378 0.34342938 0.4424186\n",
      " 1.00638988 1.45073677 1.56240353 0.79040426 0.66547038 0.69074521\n",
      " 1.20586902 0.93768951 0.69166656 0.30045269 0.37472058 0.85116192\n",
      " 1.78331747 0.62514089 0.3254341  0.39767647 0.80738269 0.84743163\n",
      " 0.6149393  0.86979647 0.89707754 1.65451915 1.49867877 0.90382424\n",
      " 0.35613964 0.54016573 0.99607531 0.92971024 0.71840241 0.72219645\n",
      " 0.37562286 0.31500468 0.38725539 0.87413823 1.09900339 0.66526249\n",
      " 0.30169313 0.61140788 0.72792703 1.00632169 1.29063566 0.57743525\n",
      " 0.35890545 0.52984602 0.93327789 1.31739611 0.44166678 0.32700712\n",
      " 0.48370833 0.9843317  0.71883473 0.36648224 0.36196323 0.59509997\n",
      " 1.21360869 1.15433053 1.32563954 0.72292418 0.32181707 0.30993841\n",
      " 0.4582766  1.05839734 1.69667381 0.68164221 0.31315928 0.31871674\n",
      " 0.37607146 0.88117426 1.79540512 0.58380559 0.32334667 0.40606853\n",
      " 0.73714614 1.22163875 1.74743677 0.70937501 0.35665691 0.56986751\n",
      " 0.90036457 1.67004656 0.70342233 0.3578205  0.38018742 0.52980908\n",
      " 0.97681633 0.92286579 0.7186549  0.3560348  0.35536577 0.33646935\n",
      " 0.70155223 1.14712527 1.51595356 1.39409679 0.73689572 0.3869971\n",
      " 0.32105632 0.68360202 1.11112466 0.67237895 0.30560809 0.37982138\n",
      " 0.7254118  1.15728411 0.69267143 0.313067   0.34856987 0.38043924\n",
      " 0.83768272 1.80063851 0.57147973 0.47870466 0.51775726 0.79947485\n",
      " 1.731632   0.88532052 0.67908019 0.35070588 0.36644363 0.64542502\n",
      " 0.95422473 1.63049353 1.52871742 1.69398052 0.72825162 0.34327666\n",
      " 0.43258423 0.67024691 0.86493414 1.80501901 1.62631387 0.76876978\n",
      " 0.47759476 0.35657585 0.53680222 0.9399585  0.72182151 0.77560635\n",
      " 0.86056935 0.83633442 1.04811711 1.53122153 0.73713892 0.60901758\n",
      " 0.3949843  0.34067342 0.51120522 0.93426938 0.67673077 0.3646924\n",
      " 0.44440841 0.47059492 0.96376393 0.96198966 1.23969178 0.84922142\n",
      " 1.43975581 0.70117622 0.39434673 0.32988681 0.52878508 0.87580915\n",
      " 1.04905316 1.54649466 1.0208838  0.51097638 0.3800503  0.50814885\n",
      " 0.38888925 0.68200187 0.66942939 0.32968927 0.54127845 1.13885174\n",
      " 1.63469135 0.694336   0.31066334 0.41089486 0.80482674 0.68303252\n",
      " 0.28653076 0.38606346 0.85346938 1.29380107 0.72673063 0.50457422\n",
      " 0.73791209 0.96424147 1.28407252 0.73141857 0.33742067 0.30102338\n",
      " 0.39425073 0.96584841 1.75517721 0.70605833 0.31414907 0.34865088\n",
      " 0.51524543 0.85009464 1.5322503  1.6538731  1.50751028 0.44235517\n",
      " 0.31776842 0.48280723 0.67794505 0.91800647 1.74122638 1.82494747\n",
      " 1.1205982  0.84042515 0.351525   0.36367209 0.4127702  0.57968689\n",
      " 1.7307234  1.52768221 1.72333478 0.68018347 0.30318703 0.4326655\n",
      " 0.81239117 0.70838349 0.36331816 0.78963654 1.07641587 0.50204592\n",
      " 0.32735128 0.54054532 0.8614048  1.56006761 1.02279658 1.2867529\n",
      " 0.57180561 1.32956451 0.64277347 0.29902888 0.35906799 0.5834879\n",
      " 1.07475601 1.06216587 0.71340876 0.39330805 0.57217197 1.0620958\n",
      " 1.61802072 0.76591205 1.2279931  1.33435856 1.12356796 0.62304703\n",
      " 0.4168747  0.42249521 0.68561564 1.1445764  1.39614798 1.81831081\n",
      " 1.45369104 0.97885761 0.53994321 0.35482745 0.35863312 0.82717404\n",
      " 1.52547329 0.70579637 0.36497218 0.78565232 0.77601863 0.31707301\n",
      " 0.30915558 0.47214295 0.81351081 1.76855983 0.6779138  0.36410649\n",
      " 0.78410785 1.67091211 1.02633492 0.56693843 0.29471552 0.39656184\n",
      " 0.80683837 1.47219172 0.6226378  0.32587411 0.32380485 1.23638421\n",
      " 1.36349791 0.60481081 0.34721967 0.43642106 0.82400621 1.82227556\n",
      " 0.67369749 0.30164275 0.49765161 1.14311828 1.28668531 0.99334191\n",
      " 0.44532956 0.39776346 0.37384345 0.61641041 1.03180127 1.27952043\n",
      " 0.56616263 0.4369233  0.34738157 0.43132489 0.69501779 0.6240541\n",
      " 0.83491483 1.1268224  1.48620612 0.6166002  0.32442184 0.44811354\n",
      " 0.74368012 0.956295   1.28881667 1.63822373 1.72442168 0.64902085\n",
      " 0.35881631 0.7468078  0.6610596  0.42188552 0.6714261  1.71220437\n",
      " 1.7402665  1.54582847 0.79960485 0.32929789 0.30121512 0.45571451\n",
      " 0.76734274 1.59548263 1.27300814 0.43270583 0.31674083 0.57071239\n",
      " 0.93120558 0.69152898 0.83950958 0.3798714  0.78497001 1.78936569\n",
      " 0.49477675 1.03123749 0.36043421 0.41743242 0.82813885 1.49223505\n",
      " 1.19608028 0.36282299 0.63834034 0.76033308 0.35621152 0.3662821\n",
      " 0.78766036 1.22692707 1.03321043 0.70148631 0.40911191 0.62664978\n",
      " 1.49341991 0.81852773 1.13320808 0.45633682 0.30882794 0.43867898\n",
      " 0.81354436 1.72671144 1.36757539 0.76928273 0.37855391 0.78295036\n",
      " 1.80936193 0.60597646 0.34912731 0.6587644  0.38757531 1.7508031\n",
      " 1.51139807 1.62861006 1.1821896  1.21397462 0.93598174 1.0402672\n",
      " 0.5237298  0.81023427 0.69623037 0.37462411 0.8582251  0.62061842\n",
      " 0.46412209 0.79275683 0.98209892 1.29260407 0.70131853 0.62952862\n",
      " 0.77831232 0.52535141 0.58680564 0.32052975 0.68665591 1.43122349\n",
      " 1.01054729 0.51624147 0.49799607 0.44410835 0.96646629 0.87035288\n",
      " 1.37139077 1.52660627 1.72337398 0.63636097 0.56472566 0.57612835\n",
      " 0.32048215 0.36044177 0.48477999 0.45892135 0.5894713  0.56832764\n",
      " 0.77396773 1.28805095 1.28521919 0.833574   0.30794905 0.33005066\n",
      " 0.3723174  0.72741553 1.75391835 1.54364893 1.05595392 0.55052242\n",
      " 0.35476457 0.78356306 0.98774531 1.67812449 1.50422631 0.52680983\n",
      " 0.36341766 0.79328957 1.27402358 1.59929328 0.59730385 0.37845403\n",
      " 0.8022419  0.80424979 0.41247489 0.39280578 0.88480374 1.08033462\n",
      " 0.90658881 0.46829048 0.33181748 0.76745345 1.66246984 0.56601664\n",
      " 0.34191619 0.79671704 1.25934575 0.45734544 1.0145845  1.39794577\n",
      " 0.56999972 0.45130671 0.42205786 0.55806307 0.60917837 1.24922058\n",
      " 0.73322376 0.45741869 0.64548323 0.98513724 1.0740137  0.45360788\n",
      " 0.45139772 0.4951807  1.22202175 1.7371326  1.64843753 0.88528691\n",
      " 0.4088168  0.39445813 0.82718773 1.25348895 1.60037472 0.68303365\n",
      " 0.32344546 0.83806333 1.25207758 0.41387688]\n"
     ]
    }
   ],
   "source": [
    "PredictionFaixa1 = y_pred_rfr\n",
    "print(type(PredictionFaixa1))\n",
    "df_predictFaixa1 = pd.DataFrame(PredictionFaixa1, columns = [\"P_Solar[kW]\"], index = y_test.index)"
   ]
  },
  {
   "cell_type": "code",
   "execution_count": 18,
   "metadata": {},
   "outputs": [
    {
     "data": {
      "text/plain": [
       "0.417119335458676"
      ]
     },
     "execution_count": 18,
     "metadata": {},
     "output_type": "execute_result"
    }
   ],
   "source": [
    "RMSE_RF_faixa1 = mean_squared_error(y_test, df_predictFaixa1) * 100\n",
    "RMSE_RF_faixa1"
   ]
  },
  {
   "cell_type": "code",
   "execution_count": 19,
   "metadata": {},
   "outputs": [
    {
     "data": {
      "text/plain": [
       "1.1755901574932421"
      ]
     },
     "execution_count": 19,
     "metadata": {},
     "output_type": "execute_result"
    }
   ],
   "source": [
    "RMSE_MF_faixa1 = mean_squared_error(y_test, X_test['Pac']) * 100\n",
    "RMSE_MF_faixa1"
   ]
  },
  {
   "cell_type": "markdown",
   "metadata": {},
   "source": [
    "### Faixa 2 (250-500)"
   ]
  },
  {
   "cell_type": "code",
   "execution_count": 20,
   "metadata": {},
   "outputs": [],
   "source": [
    "X = df2_faixa2[['TEMPERATURE[degC]', 'HUMIDITY[%]', 'POA Irr[kW1m2]', 'Pac', 'TempModule', 'TempCell', 'GHI[kW1m2]']]\n",
    "y = df2_faixa2[['P_Solar[kW]']]\n",
    "X_train,X_test,y_train,y_test = train_test_split(X,y,test_size=.3,random_state=21,shuffle=False)"
   ]
  },
  {
   "cell_type": "code",
   "execution_count": 21,
   "metadata": {},
   "outputs": [
    {
     "name": "stderr",
     "output_type": "stream",
     "text": [
      "C:\\Users\\Bruno\\AppData\\Local\\Temp\\ipykernel_1216\\1857572404.py:2: DataConversionWarning: A column-vector y was passed when a 1d array was expected. Please change the shape of y to (n_samples,), for example using ravel().\n",
      "  rfr.fit(X_train,y_train)\n"
     ]
    }
   ],
   "source": [
    "rfr = RandomForestRegressor()\n",
    "rfr.fit(X_train,y_train)\n",
    "y_pred_rfr = rfr.predict(X_test)\n",
    "R2_Score_rfr = round(r2_score(y_pred_rfr,y_test) * 100, 2)"
   ]
  },
  {
   "cell_type": "code",
   "execution_count": 22,
   "metadata": {},
   "outputs": [
    {
     "name": "stdout",
     "output_type": "stream",
     "text": [
      "<class 'numpy.ndarray'>\n",
      "[1.96318917 3.23265626 2.38297198 2.97802097 2.79885804 2.23223858\n",
      " 2.82835052 1.96085004 2.25940036 2.67818455 3.02703878 2.42350921\n",
      " 3.20302078 1.91332988 3.13832927 1.97978609 2.11506606 2.36845193\n",
      " 3.34132753 2.32472984 2.81126624 2.32552555 3.41029114 1.95781471\n",
      " 2.44374576 2.01223726 1.98096274 3.0128509  2.56222302 3.34305143\n",
      " 3.07495872 2.17580966 3.49120917 2.21961274 2.21785784 2.47681347\n",
      " 2.00230034 1.95510495 2.20668091 1.97637175 2.64203651 3.05220518\n",
      " 2.26794126 2.42590847 2.22815845 2.22934669 2.65025632 2.17601926\n",
      " 2.25635948 2.80653033 3.36924674 2.75836203 2.23093788 2.28017597\n",
      " 3.03673247 2.17922551 2.1892     3.4371929  2.27587067 3.18697295\n",
      " 2.63639305 3.42223332 1.97464623 1.99515951 2.80445035 2.56399768\n",
      " 2.21467199 3.35816797 3.36784593 3.17005867 2.21851682 3.24107823\n",
      " 2.1980241  3.37933176 2.0486509  3.41193104 2.73107465 1.87706569\n",
      " 2.07699047 2.83256438 2.14262973 2.2164544  2.10121019 3.34444833\n",
      " 3.37439134 2.26850156 3.30920796 2.14222527 2.79257642 2.22232325\n",
      " 3.01119786 2.08547091 1.95071834 2.1990288  2.56643544 2.66772878\n",
      " 2.22960434 3.27089859 1.95751015 2.05922957 3.30649736 3.13558821\n",
      " 1.84708964 2.22942892 2.89067261 2.199797   1.92423551 2.19961521\n",
      " 2.97424904 1.91258446 1.97432187 2.1671182  3.12971751 3.50117581\n",
      " 2.43422404 2.27431932 2.13045632 2.58785733 2.30275769 2.46574679\n",
      " 3.33877553 3.18455092 3.14157085 1.91361511 2.30363467 3.36365737\n",
      " 3.38868048 1.96933976 2.25409128 1.94145009 2.6856498  3.01474097\n",
      " 2.36676801 2.5909766  2.96865241 3.37978854 2.98018216 2.7185538\n",
      " 2.31047538 3.35840718 3.21185758 1.88043725 1.85790759 1.96172888\n",
      " 2.19305592 3.40479646 1.94065597 2.20774418 2.65139554 2.24319606\n",
      " 2.20362228 2.05559436 3.34156609 2.62256519 1.98977965 2.05745577\n",
      " 3.08131285 2.07256181 1.83504102 2.00471488 3.27625834 2.68000977\n",
      " 1.97518368 3.2949157  3.32849089 1.9092024  2.23671023 3.36520741\n",
      " 2.83144622 2.02015601 2.17977027 3.41774555 2.63878237 2.40234084\n",
      " 3.38967179 2.52478927 3.04195812 1.94468107 3.04366422 2.12512046\n",
      " 2.11904117 2.14101206 2.07263351 1.95876873 2.79207301 3.40034526\n",
      " 3.16174889 2.63773761 2.39741938 2.74507237 2.10514694 1.92444311\n",
      " 2.12283249 2.08184034 3.29118811 3.29402792 1.82924316 2.09670461\n",
      " 3.37078258 3.13092599 2.08207988 3.36149489 2.08440479 3.31740516\n",
      " 3.37963784 2.96149193 2.26171872 3.12501906 3.37976358 1.92183291\n",
      " 2.8912607  3.10036656 2.4938421  2.09410449 3.30146997 3.30603531\n",
      " 3.31166863 3.13263785 2.21981524 3.41337183 3.30790422 2.05180602\n",
      " 2.10739681 2.1800916  1.88724716 2.45807384 2.19564681 1.86501744\n",
      " 1.91930488 2.25253373 2.17201695 2.73817358 1.93619627 2.13807791\n",
      " 3.29883166 1.89910968 2.34942697 2.95993841 3.0853528  2.60416721\n",
      " 1.89528046 2.07732918 2.18978757 3.04839923 3.31112771 2.60268015\n",
      " 1.86326379 2.22445798 3.05238784 3.4143852  2.28930735 2.65889204\n",
      " 2.250842   2.19359573 2.45536081 2.18700947 3.24731718 2.44264334\n",
      " 1.8617292  1.9652972  3.40879002 3.41862148 2.78670963 3.14145\n",
      " 1.86571362 2.95471225 2.69324113 1.98418684 3.02856454 3.11405953\n",
      " 3.32033057 2.19789521 2.79286265 3.36499831 2.09108957 2.29057293\n",
      " 2.69444448 2.07635271 2.13596595 2.54519109 3.23851433 2.06671977\n",
      " 2.7650229  2.78975782 1.79384432 1.88264107 1.97088345 2.02072926\n",
      " 2.24127441 2.01927099 2.18274989 3.01699757 3.27775965 2.07886386\n",
      " 2.47041779 2.7326147  2.6002347  2.60234644 2.17564072 2.06741084\n",
      " 2.65680657 2.81206811 3.38179747 2.13039677 1.88765273 2.29719384\n",
      " 2.17288663 3.46502712 2.55230918 1.94423718 2.69125284 2.69372541\n",
      " 2.21033567 3.1447444  2.19390053 3.10488764 1.94883883 2.86469659\n",
      " 2.83675897 2.19169028 3.02651756 2.11501616 3.050614   2.54241431\n",
      " 3.40567235 2.42314919 2.09732408 2.09528487 1.94943624 2.35005417\n",
      " 1.95594314 2.20671283 2.53161512 2.25217905 2.63198347]\n"
     ]
    }
   ],
   "source": [
    "PredictionFaixa2 = y_pred_rfr\n",
    "print(type(PredictionFaixa2))\n",
    "df_predictFaixa2 = pd.DataFrame(PredictionFaixa2, columns = [\"P_Solar[kW]\"], index = y_test.index)"
   ]
  },
  {
   "cell_type": "code",
   "execution_count": 23,
   "metadata": {},
   "outputs": [
    {
     "data": {
      "text/plain": [
       "3.173083626730323"
      ]
     },
     "execution_count": 23,
     "metadata": {},
     "output_type": "execute_result"
    }
   ],
   "source": [
    "RMSE_RF_faixa2 = mean_squared_error(y_test, df_predictFaixa2) * 100\n",
    "RMSE_RF_faixa2"
   ]
  },
  {
   "cell_type": "code",
   "execution_count": 24,
   "metadata": {},
   "outputs": [
    {
     "data": {
      "text/plain": [
       "3.9233826725654146"
      ]
     },
     "execution_count": 24,
     "metadata": {},
     "output_type": "execute_result"
    }
   ],
   "source": [
    "RMSE_MF_faixa2 = mean_squared_error(y_test, X_test['Pac']) * 100\n",
    "RMSE_MF_faixa2"
   ]
  },
  {
   "cell_type": "markdown",
   "metadata": {},
   "source": [
    "### Faixa 3 (500+)"
   ]
  },
  {
   "cell_type": "code",
   "execution_count": 25,
   "metadata": {},
   "outputs": [],
   "source": [
    "X = df2_faixa3[['TEMPERATURE[degC]', 'HUMIDITY[%]', 'POA Irr[kW1m2]', 'Pac', 'TempModule', 'TempCell', 'GHI[kW1m2]']]\n",
    "y = df2_faixa3[['P_Solar[kW]']]\n",
    "X_train,X_test,y_train,y_test = train_test_split(X,y,test_size=.3,random_state=21,shuffle=False)"
   ]
  },
  {
   "cell_type": "code",
   "execution_count": 26,
   "metadata": {},
   "outputs": [
    {
     "name": "stderr",
     "output_type": "stream",
     "text": [
      "C:\\Users\\Bruno\\AppData\\Local\\Temp\\ipykernel_1216\\1857572404.py:2: DataConversionWarning: A column-vector y was passed when a 1d array was expected. Please change the shape of y to (n_samples,), for example using ravel().\n",
      "  rfr.fit(X_train,y_train)\n"
     ]
    }
   ],
   "source": [
    "rfr = RandomForestRegressor()\n",
    "rfr.fit(X_train,y_train)\n",
    "y_pred_rfr = rfr.predict(X_test)\n",
    "R2_Score_rfr = round(r2_score(y_pred_rfr,y_test) * 100, 2)"
   ]
  },
  {
   "cell_type": "code",
   "execution_count": 27,
   "metadata": {},
   "outputs": [
    {
     "name": "stdout",
     "output_type": "stream",
     "text": [
      "<class 'numpy.ndarray'>\n",
      "[5.06370859 5.81170765 6.29462398 5.39982692 4.00002761 5.22731622\n",
      " 5.92484884 5.94472836 4.35906864 3.96182452 4.80242079 5.41598788\n",
      " 5.32492731 5.92670724 5.44136642 3.96964981 4.92791671 5.29117263\n",
      " 5.65214603 5.57590346 4.399892   4.10313346 5.23030069 5.27074831\n",
      " 3.65984213 4.53266882 4.39705625 4.37011513 3.94515608 4.08595585\n",
      " 4.8025694  5.60997026 5.1617256  5.10502296 4.10328752 3.97418759\n",
      " 5.08490518 5.67192097 5.8867402  5.88984578 5.06393996 3.74890058\n",
      " 3.6402995  3.6740198  3.95096052 4.86242836 5.33206179 4.40700501\n",
      " 4.35372619 3.71714562 3.89280057 4.78626579 5.0879231  5.23107121\n",
      " 5.3171713  4.65411258 5.17345643 5.29679457 5.34534275 5.34126157\n",
      " 4.3703368  4.15396181 4.18252992 4.78474994 5.55334971 4.28913676\n",
      " 3.61875245 3.62775238 4.68948525 3.66356261 5.6025061  3.50432924\n",
      " 3.51635357 4.52745774 5.23625253 5.40119955 5.27235277 4.73805187\n",
      " 3.97950031 3.63444302 4.43567083 5.20428961 5.65008512 5.59225319\n",
      " 5.07327119 4.15728784 3.74938174 4.31236194 4.03834299 4.02417183\n",
      " 4.80182721 5.53527961 4.70777813 3.6672327  3.6631995  4.18786927\n",
      " 4.78655419 3.53948298 4.80037588 3.65576963 4.70086403 5.20406935\n",
      " 5.65119579 5.5820004  5.17202543 3.7653453  4.78472885 5.49245794\n",
      " 5.86808475 5.79358079 5.37955054 3.90095613 4.32130233 3.65030651\n",
      " 4.31458371 4.04566364 4.22354626 4.81111965 5.60897864 5.10649952\n",
      " 4.01645396 4.3385371  4.68669501 5.54848806 4.97395475 4.18700085\n",
      " 3.65246901 3.54657544 4.26141082 4.34396613 4.38616844 3.55726911\n",
      " 5.10052242 5.75822122 5.88942757 5.78246367 5.24498427 4.48204961\n",
      " 3.65794149 4.72235199 5.09490574 5.21482441 5.66360157 5.17747086\n",
      " 4.39268503 3.70417558 4.68364241 5.13581145 4.91181834 5.55040274\n",
      " 4.97804672 4.11714544 3.63604836 3.82379124 4.02252995 4.02222771\n",
      " 5.07047639 4.97400241 4.08549568 4.17260711 4.88279215 5.22212789\n",
      " 5.04617817 3.55543304 4.92423957 5.25726481 5.87868275 5.34010494\n",
      " 4.36893894 3.64200704 4.2782953  5.25273331 5.74509773 5.60488467\n",
      " 4.91079131 4.4052159  4.61655707 5.20815237 5.59333408 5.4098532\n",
      " 4.98160273 4.2148293  3.53704576 4.41544579 5.12715346 5.25071039\n",
      " 4.69163912 4.36010147 4.01831821 3.82119688 4.36649862 3.59261651\n",
      " 4.50989125 3.92030879 4.86626491 5.43687641 5.61505727 5.8655645\n",
      " 5.33478058 4.54868998 4.38916461 3.64582322 4.17294777 5.16775358\n",
      " 4.53157722 3.60637762 4.62242115 5.04642494 5.7387278  5.85556494\n",
      " 5.37670181 3.61258993 3.64359895 4.71325072 5.25063439 5.8802721\n",
      " 5.74056253 5.36949185 4.495623   3.54905207 4.71976377 5.21433564\n",
      " 5.47995979 4.38053448 3.7235543  4.88188258 5.33132789 5.24724301\n",
      " 4.30032034 3.54805926 4.41728091 5.22758035 5.26055551 5.55937647\n",
      " 5.10012025 3.67428323 4.34876702 4.46282031 4.71185937 4.7882969\n",
      " 5.87611252 5.64362505 5.33302178 4.5587037  4.44975709 4.96648226\n",
      " 5.65515961 5.23352039 5.23268932 4.34047416 3.51975481 3.70594753\n",
      " 4.62558785 5.28087165 5.36105133 3.95694332 4.53532247 4.05013535\n",
      " 4.43762741 4.62515267 3.53987018 4.61072663 5.2216287  5.65637305\n",
      " 5.58517344 5.15849254 3.52562989 4.41237059 5.21941308 5.31779774\n",
      " 5.24653459 4.56062905 4.23243053 4.41120456 5.23196264 5.58542165\n",
      " 5.14276445 4.73480149 4.21403109 4.32683902 4.94800093 4.38207018\n",
      " 4.69327547 4.9041905  4.25580697 3.73626916 4.5887642  4.51384676\n",
      " 3.5483003  3.97218354 3.84264904 4.63810908 4.6395238  4.29383689\n",
      " 3.94334532 4.85653979 4.00467247 3.53454961 4.58610281 5.33300524\n",
      " 5.65759173 5.59484988 5.17606035 4.43319098 3.87344752 4.63364575\n",
      " 3.67477345 3.93629884 5.78791935 3.53874669 3.54632063 4.08264618\n",
      " 5.37909582 5.63264064 4.36859036 4.51612866 4.56447771 4.54786945\n",
      " 3.83097195 4.42254636 3.81950736 3.74663311 3.86459487 4.83632952\n",
      " 4.37356073 4.21240587 3.52142164 4.24673041 3.49182113 4.32229789\n",
      " 3.96536797 4.88686528 4.07883258 3.67079196 3.5380779  3.83781803\n",
      " 5.68179618 6.09908028 5.47721642 4.66820788 3.90131022 4.11864086\n",
      " 3.63789078 4.55962863 5.59788512 5.35013533 3.99586915 4.46963773\n",
      " 5.37601439 5.59993497 4.66465654 4.62374025 3.67179056 4.77093404\n",
      " 5.53333018 5.76723525 5.81698541 4.69097848 3.64575708 4.66470335\n",
      " 5.46306434 5.76816856 5.75361574 5.05543449 4.29657031 3.52141106\n",
      " 4.51321409 5.3334959  5.58076726 5.40468599 4.90644979 4.01973012\n",
      " 4.83452663 4.38293283 3.54559774 5.0902242  4.96578566 5.02256419\n",
      " 4.44116753 3.54360574 3.66489568 4.61852006 3.65178401 3.67122599\n",
      " 4.33102303 5.1212325  5.35929734 5.32315721 4.40890052 3.5206667 ]\n"
     ]
    }
   ],
   "source": [
    "PredictionFaixa3 = y_pred_rfr\n",
    "print(type(PredictionFaixa3))\n",
    "df_predictFaixa3 = pd.DataFrame(PredictionFaixa3, columns = [\"P_Solar[kW]\"], index = y_test.index)"
   ]
  },
  {
   "cell_type": "code",
   "execution_count": 28,
   "metadata": {},
   "outputs": [
    {
     "data": {
      "text/plain": [
       "10.125924418221242"
      ]
     },
     "execution_count": 28,
     "metadata": {},
     "output_type": "execute_result"
    }
   ],
   "source": [
    "RMSE_RF_faixa3 = mean_squared_error(y_test, df_predictFaixa3) * 100\n",
    "RMSE_RF_faixa3"
   ]
  },
  {
   "cell_type": "code",
   "execution_count": 29,
   "metadata": {},
   "outputs": [
    {
     "data": {
      "text/plain": [
       "13.490149136805304"
      ]
     },
     "execution_count": 29,
     "metadata": {},
     "output_type": "execute_result"
    }
   ],
   "source": [
    "RMSE_MF_faixa3 = mean_squared_error(y_test, X_test['Pac']) * 100\n",
    "RMSE_MF_faixa3"
   ]
  },
  {
   "cell_type": "markdown",
   "metadata": {},
   "source": [
    "# Visualizando os resultados"
   ]
  },
  {
   "cell_type": "code",
   "execution_count": 30,
   "metadata": {},
   "outputs": [],
   "source": [
    "data2 = ((RMSE_RF, RMSE_MF),\n",
    "        (RMSE_RF_faixa1, RMSE_MF_faixa1),\n",
    "        (RMSE_RF_faixa2, RMSE_MF_faixa2),\n",
    "        (RMSE_RF_faixa3, RMSE_MF_faixa3)\n",
    ")"
   ]
  },
  {
   "cell_type": "code",
   "execution_count": 31,
   "metadata": {},
   "outputs": [
    {
     "data": {
      "image/png": "[encoded data removed]",
      "text/plain": [
       "<Figure size 720x360 with 1 Axes>"
      ]
     },
     "metadata": {
      "needs_background": "light"
     },
     "output_type": "display_data"
    }
   ],
   "source": [
    "plt.rcParams[\"figure.figsize\"] = [10, 5]\n",
    "plt.rcParams[\"figure.autolayout\"] = True\n",
    "fig, axs = plt.subplots(1, 1)\n",
    "columns = ('RF (%)', 'Simple equation - MF (%)')\n",
    "rows = ['Faixa Global', 'Faixa 50-250','Faixa 250-500', 'Faixa 500+']\n",
    "axs.axis('tight')\n",
    "axs.axis('off')\n",
    "the_table = axs.table(loc='center',cellText = data2, colLabels=columns,rowLabels= rows)\n",
    "plt.show()"
   ]
  },
  {
   "cell_type": "markdown",
   "metadata": {},
   "source": [
    "# Salvando os resultados em um dataframe"
   ]
  },
  {
   "cell_type": "code",
   "execution_count": 32,
   "metadata": {},
   "outputs": [],
   "source": [
    "result = pd.DataFrame(index = df_predictGlobal.index) \n",
    "result['RF_Global'] = df_predictGlobal['P_Solar[kW]']\n",
    "result['RF_Faixa1'] = df_predictFaixa1['P_Solar[kW]']\n",
    "result['RF_Faixa2'] = df_predictFaixa2['P_Solar[kW]']\n",
    "result['RF_Faixa3'] = df_predictFaixa3['P_Solar[kW]']\n",
    "result['MF_Pac_Global'] = Pac_Faixa_Global['Pac']\n",
    "\n",
    "result.to_csv('Data/Solete/RF_Result.csv')"
   ]
  }
 ],
 "metadata": {
  "kernelspec": {
   "display_name": "Python 3.9.12 ('TCC')",
   "language": "python",
   "name": "python3"
  },
  "language_info": {
   "codemirror_mode": {
    "name": "ipython",
    "version": 3
   },
   "file_extension": ".py",
   "mimetype": "text/x-python",
   "name": "python",
   "nbconvert_exporter": "python",
   "pygments_lexer": "ipython3",
   "version": "3.9.12"
  },
  "orig_nbformat": 4,
  "vscode": {
   "interpreter": {
    "hash": "b57e84ab262cfbc2e4cfb26dd980f3f3bb83248fa1276d8ed709520b288f08d0"
   }
  }
 },
 "nbformat": 4,
 "nbformat_minor": 2
}
