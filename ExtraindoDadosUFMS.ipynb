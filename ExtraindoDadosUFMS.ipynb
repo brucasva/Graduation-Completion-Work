{
 "cells": [
  {
   "cell_type": "code",
   "execution_count": 1,
   "metadata": {},
   "outputs": [],
   "source": [
    "import numpy as np\n",
    "import pandas as pd\n",
    "import matplotlib.pyplot as plt\n",
    "from sklearn.metrics import r2_score"
   ]
  },
  {
   "cell_type": "code",
   "execution_count": 2,
   "metadata": {},
   "outputs": [],
   "source": [
    "#Obtendo os dados\n",
    "file_data = \"20191015.csv\"\n",
    "file_ambiente = \"ambientais-ufms\"\n",
    "file_inversor = \"inversor_1_ufms\"\n",
    "dados_ambiente = pd.read_csv(\"Data/ufms/\"+file_ambiente+\"-\"+file_data)\n",
    "dados_inversor = pd.read_csv(\"Data/ufms/\"+file_inversor+\"-\"+file_data)\n"
   ]
  },
  {
   "cell_type": "code",
   "execution_count": 3,
   "metadata": {},
   "outputs": [
    {
     "name": "stdout",
     "output_type": "stream",
     "text": [
      "      dia_mes_ano  hora_minuto   irr  massaPM1  massaPM2  massaPM4  massaPM10  \\\n",
      "0        20191015          100  0.00      4.77      0.16         0          0   \n",
      "1        20191015          200  0.00      4.67      0.16         0          0   \n",
      "2        20191015          300  6.54      5.00      0.17         0          0   \n",
      "3        20191015          500  0.60      5.52      0.18         0          0   \n",
      "4        20191015          600  0.00      6.22      0.21         0          0   \n",
      "...           ...          ...   ...       ...       ...       ...        ...   \n",
      "1368     20191015       235500  2.58      1.41      0.05         0          0   \n",
      "1369     20191015       235600  0.00      1.16      0.04         0          0   \n",
      "1370     20191015       235700  0.00      1.42      0.05         0          0   \n",
      "1371     20191015       235800  0.00      1.51      0.05         0          0   \n",
      "1372     20191015       235900  0.00      1.42      0.05         0          0   \n",
      "\n",
      "      numPM1  numPM2  numPM4  numPM10  tamanho_medio   temp  vento_dir  \\\n",
      "0      39.37    0.11       0        0           0.46  22.81         90   \n",
      "1      38.50    0.11       0        0           0.44  22.88         90   \n",
      "2      41.27    0.11       0        0           0.45  22.69        180   \n",
      "3      45.54    0.13       0        0           0.44  22.56        180   \n",
      "4      51.34    0.14       0        0           0.44  22.75        180   \n",
      "...      ...     ...     ...      ...            ...    ...        ...   \n",
      "1368   11.60    0.03       0        0           0.48  20.38        225   \n",
      "1369    9.55    0.03       0        0           0.48  20.31        225   \n",
      "1370   11.70    0.03       0        0           0.49  20.31        225   \n",
      "1371   12.46    0.03       0        0           0.48  20.31        225   \n",
      "1372   11.76    0.03       0        0           0.49  20.38        225   \n",
      "\n",
      "      vento_vel  rainfall  \n",
      "0          0.00       0.0  \n",
      "1          0.00       0.0  \n",
      "2          5.32       0.0  \n",
      "3          1.33       0.0  \n",
      "4          0.00       0.0  \n",
      "...         ...       ...  \n",
      "1368       0.00       0.0  \n",
      "1369       0.00       0.0  \n",
      "1370       0.00       0.0  \n",
      "1371       0.00       0.0  \n",
      "1372       0.00       0.0  \n",
      "\n",
      "[1373 rows x 16 columns]\n"
     ]
    }
   ],
   "source": [
    "print(dados_ambiente)\n"
   ]
  },
  {
   "cell_type": "code",
   "execution_count": 4,
   "metadata": {},
   "outputs": [
    {
     "name": "stdout",
     "output_type": "stream",
     "text": [
      "      dia_mes_ano  hora_minuto  P_AC  I_AC  I_DC   V_AC   V_DC  IRR\n",
      "0        20191015        51700     9  0.09  0.09  217.8  422.7    6\n",
      "1        20191015        51800    17  0.12  0.10  217.8  458.8    6\n",
      "2        20191015        51900    27  0.16  0.12  217.9  472.9    7\n",
      "3        20191015        52000    39  0.21  0.14  218.0  488.9    9\n",
      "4        20191015        52100    51  0.26  0.17  217.8  489.1    9\n",
      "...           ...          ...   ...   ...   ...    ...    ...  ...\n",
      "1040     20191015       235500     0  0.09  0.00  216.3   46.1    0\n",
      "1041     20191015       235600     0  0.09  0.00  216.3   46.0    0\n",
      "1042     20191015       235700     0  0.09  0.00  216.3   46.0    0\n",
      "1043     20191015       235800     0  0.09  0.00  216.3   46.2    0\n",
      "1044     20191015       235900     0  0.09  0.00  216.3   46.2    0\n",
      "\n",
      "[1045 rows x 8 columns]\n"
     ]
    }
   ],
   "source": [
    "print(dados_inversor)"
   ]
  },
  {
   "cell_type": "code",
   "execution_count": 5,
   "metadata": {},
   "outputs": [
    {
     "name": "stdout",
     "output_type": "stream",
     "text": [
      "51700\n",
      "235900\n"
     ]
    }
   ],
   "source": [
    "#Obtendo hora_mintuo da primeira e da última medida do inversor\n",
    "primeira_hm_inversor = dados_inversor.hora_minuto[0]\n",
    "print(primeira_hm_inversor)\n",
    "ultima_hm_inversor = dados_inversor.hora_minuto[dados_inversor.shape[0]-1]\n",
    "print(ultima_hm_inversor)"
   ]
  },
  {
   "cell_type": "markdown",
   "metadata": {},
   "source": []
  },
  {
   "cell_type": "code",
   "execution_count": 6,
   "metadata": {},
   "outputs": [
    {
     "name": "stdout",
     "output_type": "stream",
     "text": [
      "100\n",
      "235900\n"
     ]
    }
   ],
   "source": [
    "'''\n",
    "Como podemos perceber, o tamanho dos dados de ambiente e do inversor são diferentes, nem sempre começam e terminam na mesma hora_minuto\n",
    "Sendo assim temos que filtrar a medida de ambiente para conter as mesmas medidas do inversor\n",
    "'''\n",
    "#Obtendo hora_mintuo da primeira e da última medida do ambiente\n",
    "primeira_hm_ambiente = dados_ambiente.hora_minuto[0]\n",
    "print(primeira_hm_ambiente)\n",
    "ultima_hm_ambiente = dados_ambiente.hora_minuto[dados_ambiente.shape[0]-1]\n",
    "print(ultima_hm_ambiente)\n"
   ]
  },
  {
   "cell_type": "code",
   "execution_count": 7,
   "metadata": {},
   "outputs": [
    {
     "name": "stdout",
     "output_type": "stream",
     "text": [
      "1061\n",
      "1045\n"
     ]
    }
   ],
   "source": [
    "selecao = dados_ambiente[\"hora_minuto\"] >= primeira_hm_inversor\n",
    "dados2 = dados_ambiente[selecao].reset_index()\n",
    "print(dados2.shape[0])\n",
    "print(dados_inversor.shape[0])\n",
    "\n"
   ]
  },
  {
   "cell_type": "code",
   "execution_count": 8,
   "metadata": {},
   "outputs": [
    {
     "name": "stdout",
     "output_type": "stream",
     "text": [
      "26\n",
      "[0, 198, 203, 209, 224, 236, 291, 293, 295, 300, 302, 305, 327, 365, 384, 386, 407, 409, 410, 412, 552, 562, 567, 570, 614, 617]\n"
     ]
    }
   ],
   "source": [
    "i_list = []\n",
    "count = 0\n",
    "last_hora_minuto = 52000\n",
    "for i in dados_inversor.index:\n",
    "    if(dados_inversor[\"hora_minuto\"][i] - last_hora_minuto != 100):\n",
    "        if(dados_inversor[\"hora_minuto\"][i] - last_hora_minuto != 4100):\n",
    "            count += 1\n",
    "            i_list.append(i)\n",
    "    last_hora_minuto = dados_inversor[\"hora_minuto\"][i]\n",
    "print(count)\n",
    "print(i_list)"
   ]
  },
  {
   "cell_type": "code",
   "execution_count": 9,
   "metadata": {},
   "outputs": [
    {
     "name": "stdout",
     "output_type": "stream",
     "text": [
      "14\n",
      "[0, 198, 226, 238, 332, 335, 400, 445, 568, 579, 587, 622, 634, 887]\n"
     ]
    }
   ],
   "source": [
    "i_list = []\n",
    "count = 0\n",
    "last_hora_minuto = 52000\n",
    "for i in dados2.index:\n",
    "    if(dados2[\"hora_minuto\"][i] - last_hora_minuto != 100):\n",
    "        if(dados2[\"hora_minuto\"][i] - last_hora_minuto != 4100):\n",
    "            count += 1\n",
    "            i_list.append(i)\n",
    "    last_hora_minuto = dados2[\"hora_minuto\"][i]\n",
    "print(count)\n",
    "print(i_list)"
   ]
  },
  {
   "cell_type": "code",
   "execution_count": 10,
   "metadata": {},
   "outputs": [
    {
     "name": "stdout",
     "output_type": "stream",
     "text": [
      "541    151100\n",
      "542    151200\n",
      "543    151300\n",
      "544    151400\n",
      "545    151500\n",
      "546    151600\n",
      "547    151700\n",
      "548    151800\n",
      "549    151900\n",
      "Name: hora_minuto, dtype: int64\n"
     ]
    }
   ],
   "source": [
    "'''\n",
    "Percebemos que a base de dados do ambiente não contém duas medidas no dia inteiro\n",
    "Então caso queiramos comparar com essa base de dado com a do inversor iremos necessitar de realizar uma verificação\n",
    "Para conseguir sincronizar as duas base de dados e os seus valores\n",
    "'''\n",
    "print(dados2[\"hora_minuto\"][541:550])"
   ]
  },
  {
   "cell_type": "code",
   "execution_count": 11,
   "metadata": {},
   "outputs": [
    {
     "name": "stdout",
     "output_type": "stream",
     "text": [
      "     dia_mes_ano  hora_minuto  P_AC  I_AC  I_DC   V_AC   V_DC  IRR\n",
      "126     20191015        72300  1548  7.17  2.83  216.0  559.3  162\n",
      "     dia_mes_ano  hora_minuto     irr  massaPM1  massaPM2  massaPM4  \\\n",
      "438     20191015        72300  167.18      6.69      0.22         0   \n",
      "\n",
      "     massaPM10  numPM1  numPM2  numPM4  numPM10  tamanho_medio   temp  \\\n",
      "438          0   55.19    0.15       0        0           0.45  24.81   \n",
      "\n",
      "     vento_dir  vento_vel  rainfall  \n",
      "438        225      10.64       0.0  \n"
     ]
    }
   ],
   "source": [
    "#Verificando se os IRR das duas tabelas coincidem\n",
    "#52300  = 0.6\n",
    "print(dados_inversor[dados_inversor[\"hora_minuto\"] == 72300])\n",
    "print(dados_ambiente[dados_ambiente[\"hora_minuto\"] == 72300])"
   ]
  },
  {
   "cell_type": "markdown",
   "metadata": {},
   "source": [
    "### Começando a trabalhar na visualização dos dados"
   ]
  },
  {
   "cell_type": "code",
   "execution_count": 12,
   "metadata": {},
   "outputs": [
    {
     "data": {
      "text/plain": [
       "[<matplotlib.lines.Line2D at 0x20e0e10e040>]"
      ]
     },
     "execution_count": 12,
     "metadata": {},
     "output_type": "execute_result"
    },
    {
     "data": {
      "image/png": "[encoded data removed]",
      "text/plain": [
       "<Figure size 432x288 with 1 Axes>"
      ]
     },
     "metadata": {
      "needs_background": "light"
     },
     "output_type": "display_data"
    }
   ],
   "source": [
    "\n",
    "plt.plot(dados_inversor['P_AC'],color = \"red\") # printando a potência AC gerada\n",
    "plt.plot(dados_inversor['IRR'],color = \"blue\") # Printando irr: solar irradiation (W/m2)"
   ]
  },
  {
   "cell_type": "code",
   "execution_count": 13,
   "metadata": {},
   "outputs": [],
   "source": [
    "#importando e definindo a função necessária para calcular r²\n",
    "from scipy import stats\n",
    "def rsquared(x, y):\n",
    "    \"\"\" Return R^2 where x and y are array-like.\"\"\"\n",
    "\n",
    "    slope, intercept, r_value, p_value, std_err = stats.linregress(x, y)\n",
    "    return r_value**2"
   ]
  },
  {
   "cell_type": "code",
   "execution_count": 14,
   "metadata": {},
   "outputs": [
    {
     "data": {
      "image/png": "[encoded data removed]",
      "text/plain": [
       "<Figure size 432x288 with 1 Axes>"
      ]
     },
     "metadata": {
      "needs_background": "light"
     },
     "output_type": "display_data"
    },
    {
     "name": "stdout",
     "output_type": "stream",
     "text": [
      "R-square =  0.9674423637672337\n"
     ]
    }
   ],
   "source": [
    "plt.scatter(dados_inversor['IRR'],dados_inversor['P_AC'], color = \"blue\")\n",
    "plt.xlabel(\"IRR [W/m²]\")\n",
    "plt.ylabel(\"Potência [W]\")\n",
    "\n",
    "a, b = np.polyfit(dados_inversor['IRR'],dados_inversor['P_AC'], 1) #Encontrando a melhor fit line (R²) entre os dois valores\n",
    "plt.plot(dados_inversor[\"IRR\"], a*dados_inversor[\"IRR\"]+b, color = \"red\",)\n",
    "r2 = rsquared(dados_inversor['IRR'],dados_inversor['P_AC'])\n",
    "plt.text(0.6*dados_inversor['IRR'].max(), 0.4*dados_inversor['P_AC'].max(), 'R-squared = %0.2f' % r2, color = \"red\")\n",
    "plt.show()\n",
    "\n",
    "print(\"R-square = \", r2)"
   ]
  }
 ],
 "metadata": {
  "kernelspec": {
   "display_name": "Python 3.9.12 ('TCC')",
   "language": "python",
   "name": "python3"
  },
  "language_info": {
   "codemirror_mode": {
    "name": "ipython",
    "version": 3
   },
   "file_extension": ".py",
   "mimetype": "text/x-python",
   "name": "python",
   "nbconvert_exporter": "python",
   "pygments_lexer": "ipython3",
   "version": "3.9.12"
  },
  "orig_nbformat": 4,
  "vscode": {
   "interpreter": {
    "hash": "b57e84ab262cfbc2e4cfb26dd980f3f3bb83248fa1276d8ed709520b288f08d0"
   }
  }
 },
 "nbformat": 4,
 "nbformat_minor": 2
}
