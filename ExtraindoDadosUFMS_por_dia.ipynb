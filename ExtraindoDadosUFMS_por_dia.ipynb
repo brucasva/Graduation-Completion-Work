{
 "cells": [
  {
   "cell_type": "code",
   "execution_count": 1,
   "metadata": {},
   "outputs": [],
   "source": [
    "import glob # library to import multiples .csv files\n",
    "import numpy as np\n",
    "import pandas as pd\n",
    "import matplotlib.pyplot as plt\n",
    "from sklearn.metrics import r2_score"
   ]
  },
  {
   "cell_type": "code",
   "execution_count": 4,
   "metadata": {},
   "outputs": [
    {
     "data": {
      "text/plain": [
       "1379"
      ]
     },
     "execution_count": 4,
     "metadata": {},
     "output_type": "execute_result"
    }
   ],
   "source": [
    "#Obtendo os dados de um dia especifico\n",
    "file_data = \"20191020.csv\"\n",
    "file_ambiente = \"ambientais-ufms\"\n",
    "file_inversor = \"inversor_1_ufms\"\n",
    "dados_ambiente = pd.read_csv(\"Data/ufms/\"+file_ambiente+\"-\"+file_data)\n",
    "dados_inversor = pd.read_csv(\"Data/ufms/\"+file_inversor+\"-\"+file_data)\n",
    "dados_inversor.shape[0]\n"
   ]
  },
  {
   "cell_type": "code",
   "execution_count": 10,
   "metadata": {},
   "outputs": [
    {
     "data": {
      "text/plain": [
       "198241"
      ]
     },
     "execution_count": 10,
     "metadata": {},
     "output_type": "execute_result"
    }
   ],
   "source": [
    "#Obtendo e concatenando os dados de todos os arquivos da base de dados\n",
    "path = \"Data/ufms\"\n",
    "todos_dados_inversor = pd.concat(map(pd.read_csv, glob.glob(path + \"/inversor_*.csv\")))\n",
    "todos_dados_inversor.shape[0]"
   ]
  },
  {
   "cell_type": "markdown",
   "metadata": {},
   "source": [
    "### Imprimindo os dados"
   ]
  },
  {
   "cell_type": "code",
   "execution_count": 3,
   "metadata": {},
   "outputs": [
    {
     "name": "stdout",
     "output_type": "stream",
     "text": [
      "Empty DataFrame\n",
      "Columns: [dia_mes_ano, hora_minuto, irr, massaPM1, massaPM2, massaPM4, massaPM10, numPM1, numPM2, numPM4, numPM10, tamanho_medio, temp, vento_dir, vento_vel, rainfall]\n",
      "Index: []\n"
     ]
    }
   ],
   "source": [
    "print(dados_ambiente)\n"
   ]
  },
  {
   "cell_type": "code",
   "execution_count": 4,
   "metadata": {},
   "outputs": [
    {
     "name": "stdout",
     "output_type": "stream",
     "text": [
      "      dia_mes_ano  hora_minuto  P_AC  I_AC  I_DC   V_AC   V_DC  IRR\n",
      "0        20191020        10000     0  1.87  1.87    4.6   1.87    0\n",
      "1        20191020        10100     0  1.87  0.00    4.6  45.20    0\n",
      "2        20191020        10200     0  1.87  0.00    4.6  45.20    0\n",
      "3        20191020        10300     0  1.87  0.00    4.6  45.30    0\n",
      "4        20191020        10400     0  1.87  0.00    4.6  45.30    0\n",
      "...           ...          ...   ...   ...   ...    ...    ...  ...\n",
      "1374     20191020       235500     0  0.10  0.00  212.1  43.10    0\n",
      "1375     20191020       235600     0  0.10  0.00  212.1  42.80    0\n",
      "1376     20191020       235700     0  0.10  0.00  212.1  42.80    0\n",
      "1377     20191020       235800     0  0.10  0.00  212.1  42.70    0\n",
      "1378     20191020       235900     0  0.10  0.00  212.1  42.70    0\n",
      "\n",
      "[1379 rows x 8 columns]\n"
     ]
    }
   ],
   "source": [
    "print(dados_inversor)"
   ]
  },
  {
   "cell_type": "code",
   "execution_count": 5,
   "metadata": {},
   "outputs": [
    {
     "name": "stdout",
     "output_type": "stream",
     "text": [
      "10000\n",
      "235900\n"
     ]
    }
   ],
   "source": [
    "#Obtendo hora_mintuo da primeira e da última medida do inversor\n",
    "primeira_hm_inversor = dados_inversor.hora_minuto[0]\n",
    "print(primeira_hm_inversor)\n",
    "ultima_hm_inversor = dados_inversor.hora_minuto[dados_inversor.shape[0]-1]\n",
    "print(ultima_hm_inversor)"
   ]
  },
  {
   "cell_type": "markdown",
   "metadata": {},
   "source": [
    "### Testes comparando as medidas da base de dados do ambiente com a do inversor"
   ]
  },
  {
   "cell_type": "code",
   "execution_count": 6,
   "metadata": {},
   "outputs": [
    {
     "ename": "IndexError",
     "evalue": "index 0 is out of bounds for axis 0 with size 0",
     "output_type": "error",
     "traceback": [
      "\u001b[1;31m---------------------------------------------------------------------------\u001b[0m",
      "\u001b[1;31mIndexError\u001b[0m                                Traceback (most recent call last)",
      "\u001b[1;32mc:\\Users\\Bruno\\Documents\\TCCv2\\ExtraindoDadosUFMS.ipynb Célula: 8\u001b[0m in \u001b[0;36m<cell line: 6>\u001b[1;34m()\u001b[0m\n\u001b[0;32m      <a href='vscode-notebook-cell:/c%3A/Users/Bruno/Documents/TCCv2/ExtraindoDadosUFMS.ipynb#X10sZmlsZQ%3D%3D?line=0'>1</a>\u001b[0m \u001b[39m'''\u001b[39;00m\n\u001b[0;32m      <a href='vscode-notebook-cell:/c%3A/Users/Bruno/Documents/TCCv2/ExtraindoDadosUFMS.ipynb#X10sZmlsZQ%3D%3D?line=1'>2</a>\u001b[0m \u001b[39mComo podemos perceber, o tamanho dos dados de ambiente e do inversor são diferentes, nem sempre começam e terminam na mesma hora_minuto\u001b[39;00m\n\u001b[0;32m      <a href='vscode-notebook-cell:/c%3A/Users/Bruno/Documents/TCCv2/ExtraindoDadosUFMS.ipynb#X10sZmlsZQ%3D%3D?line=2'>3</a>\u001b[0m \u001b[39mSendo assim temos que filtrar a medida de ambiente para conter as mesmas medidas do inversor\u001b[39;00m\n\u001b[0;32m      <a href='vscode-notebook-cell:/c%3A/Users/Bruno/Documents/TCCv2/ExtraindoDadosUFMS.ipynb#X10sZmlsZQ%3D%3D?line=3'>4</a>\u001b[0m \u001b[39m'''\u001b[39;00m\n\u001b[0;32m      <a href='vscode-notebook-cell:/c%3A/Users/Bruno/Documents/TCCv2/ExtraindoDadosUFMS.ipynb#X10sZmlsZQ%3D%3D?line=4'>5</a>\u001b[0m \u001b[39m#Obtendo hora_mintuo da primeira e da última medida do ambiente\u001b[39;00m\n\u001b[1;32m----> <a href='vscode-notebook-cell:/c%3A/Users/Bruno/Documents/TCCv2/ExtraindoDadosUFMS.ipynb#X10sZmlsZQ%3D%3D?line=5'>6</a>\u001b[0m primeira_hm_ambiente \u001b[39m=\u001b[39m dados_ambiente\u001b[39m.\u001b[39;49mhora_minuto[\u001b[39m0\u001b[39;49m]\n\u001b[0;32m      <a href='vscode-notebook-cell:/c%3A/Users/Bruno/Documents/TCCv2/ExtraindoDadosUFMS.ipynb#X10sZmlsZQ%3D%3D?line=6'>7</a>\u001b[0m \u001b[39mprint\u001b[39m(primeira_hm_ambiente)\n\u001b[0;32m      <a href='vscode-notebook-cell:/c%3A/Users/Bruno/Documents/TCCv2/ExtraindoDadosUFMS.ipynb#X10sZmlsZQ%3D%3D?line=7'>8</a>\u001b[0m ultima_hm_ambiente \u001b[39m=\u001b[39m dados_ambiente\u001b[39m.\u001b[39mhora_minuto[dados_ambiente\u001b[39m.\u001b[39mshape[\u001b[39m0\u001b[39m]\u001b[39m-\u001b[39m\u001b[39m1\u001b[39m]\n",
      "File \u001b[1;32mc:\\Users\\Bruno\\anaconda3\\envs\\TCC\\lib\\site-packages\\pandas\\core\\series.py:955\u001b[0m, in \u001b[0;36mSeries.__getitem__\u001b[1;34m(self, key)\u001b[0m\n\u001b[0;32m    952\u001b[0m     key \u001b[39m=\u001b[39m unpack_1tuple(key)\n\u001b[0;32m    954\u001b[0m \u001b[39mif\u001b[39;00m is_integer(key) \u001b[39mand\u001b[39;00m \u001b[39mself\u001b[39m\u001b[39m.\u001b[39mindex\u001b[39m.\u001b[39m_should_fallback_to_positional:\n\u001b[1;32m--> 955\u001b[0m     \u001b[39mreturn\u001b[39;00m \u001b[39mself\u001b[39;49m\u001b[39m.\u001b[39;49m_values[key]\n\u001b[0;32m    957\u001b[0m \u001b[39melif\u001b[39;00m key_is_scalar:\n\u001b[0;32m    958\u001b[0m     \u001b[39mreturn\u001b[39;00m \u001b[39mself\u001b[39m\u001b[39m.\u001b[39m_get_value(key)\n",
      "\u001b[1;31mIndexError\u001b[0m: index 0 is out of bounds for axis 0 with size 0"
     ]
    }
   ],
   "source": [
    "'''\n",
    "Como podemos perceber, o tamanho dos dados de ambiente e do inversor são diferentes, nem sempre começam e terminam na mesma hora_minuto\n",
    "Sendo assim temos que filtrar a medida de ambiente para conter as mesmas medidas do inversor\n",
    "'''\n",
    "#Obtendo hora_mintuo da primeira e da última medida do ambiente\n",
    "primeira_hm_ambiente = dados_ambiente.hora_minuto[0]\n",
    "print(primeira_hm_ambiente)\n",
    "ultima_hm_ambiente = dados_ambiente.hora_minuto[dados_ambiente.shape[0]-1]\n",
    "print(ultima_hm_ambiente)\n"
   ]
  },
  {
   "cell_type": "code",
   "execution_count": null,
   "metadata": {},
   "outputs": [
    {
     "name": "stdout",
     "output_type": "stream",
     "text": [
      "1123\n",
      "1123\n"
     ]
    }
   ],
   "source": [
    "selecao = dados_ambiente[\"hora_minuto\"] >= primeira_hm_inversor\n",
    "dados2 = dados_ambiente[selecao].reset_index()\n",
    "print(dados2.shape[0])\n",
    "print(dados_inversor.shape[0])\n",
    "\n"
   ]
  },
  {
   "cell_type": "code",
   "execution_count": null,
   "metadata": {},
   "outputs": [
    {
     "name": "stdout",
     "output_type": "stream",
     "text": [
      "1\n",
      "[0]\n"
     ]
    }
   ],
   "source": [
    "i_list = []\n",
    "count = 0\n",
    "last_hora_minuto = 52000\n",
    "for i in dados_inversor.index:\n",
    "    if(dados_inversor[\"hora_minuto\"][i] - last_hora_minuto != 100):\n",
    "        if(dados_inversor[\"hora_minuto\"][i] - last_hora_minuto != 4100):\n",
    "            count += 1\n",
    "            i_list.append(i)\n",
    "    last_hora_minuto = dados_inversor[\"hora_minuto\"][i]\n",
    "print(count)\n",
    "print(i_list)"
   ]
  },
  {
   "cell_type": "code",
   "execution_count": null,
   "metadata": {},
   "outputs": [
    {
     "name": "stdout",
     "output_type": "stream",
     "text": [
      "1\n",
      "[0]\n"
     ]
    }
   ],
   "source": [
    "i_list = []\n",
    "count = 0\n",
    "last_hora_minuto = 52000\n",
    "for i in dados2.index:\n",
    "    if(dados2[\"hora_minuto\"][i] - last_hora_minuto != 100):\n",
    "        if(dados2[\"hora_minuto\"][i] - last_hora_minuto != 4100):\n",
    "            count += 1\n",
    "            i_list.append(i)\n",
    "    last_hora_minuto = dados2[\"hora_minuto\"][i]\n",
    "print(count)\n",
    "print(i_list)"
   ]
  },
  {
   "cell_type": "code",
   "execution_count": null,
   "metadata": {},
   "outputs": [
    {
     "name": "stdout",
     "output_type": "stream",
     "text": [
      "541    141800\n",
      "542    141900\n",
      "543    142000\n",
      "544    142100\n",
      "545    142200\n",
      "546    142300\n",
      "547    142400\n",
      "548    142500\n",
      "549    142600\n",
      "Name: hora_minuto, dtype: int64\n"
     ]
    }
   ],
   "source": [
    "'''\n",
    "Percebemos que a base de dados do ambiente não contém duas medidas no dia inteiro\n",
    "Então caso queiramos comparar com essa base de dado com a do inversor iremos necessitar de realizar uma verificação\n",
    "Para conseguir sincronizar as duas base de dados e os seus valores\n",
    "'''\n",
    "print(dados2[\"hora_minuto\"][541:550])"
   ]
  },
  {
   "cell_type": "code",
   "execution_count": null,
   "metadata": {},
   "outputs": [
    {
     "name": "stdout",
     "output_type": "stream",
     "text": [
      "     dia_mes_ano  hora_minuto  P_AC   I_AC  I_DC   V_AC   V_DC  IRR\n",
      "126     20191010        72300  4050  18.64  7.23  217.4  564.7  444\n",
      "     dia_mes_ano  hora_minuto     irr  massaPM1  massaPM2  massaPM4  \\\n",
      "441     20191010        72300  448.79      7.21      0.24         0   \n",
      "\n",
      "     massaPM10  numPM1  numPM2  numPM4  numPM10  tamanho_medio   temp  \\\n",
      "441          0   59.49    0.16       0        0           0.43  28.88   \n",
      "\n",
      "     vento_dir  vento_vel  rainfall  \n",
      "441         90      23.94       0.0  \n"
     ]
    }
   ],
   "source": [
    "#Verificando se os IRR das duas tabelas coincidem\n",
    "#52300  = 0.6\n",
    "print(dados_inversor[dados_inversor[\"hora_minuto\"] == 72300])\n",
    "print(dados_ambiente[dados_ambiente[\"hora_minuto\"] == 72300])"
   ]
  },
  {
   "cell_type": "markdown",
   "metadata": {},
   "source": [
    "### Começando a trabalhar na visualização dos dados"
   ]
  },
  {
   "cell_type": "code",
   "execution_count": 13,
   "metadata": {},
   "outputs": [
    {
     "data": {
      "text/plain": [
       "[<matplotlib.lines.Line2D at 0x27fcc853910>]"
      ]
     },
     "execution_count": 13,
     "metadata": {},
     "output_type": "execute_result"
    },
    {
     "data": {
      "image/png": "[encoded data removed]",
      "text/plain": [
       "<Figure size 432x288 with 1 Axes>"
      ]
     },
     "metadata": {
      "needs_background": "light"
     },
     "output_type": "display_data"
    }
   ],
   "source": [
    "# Imprimindo os dados de um dia especifico\n",
    "plt.plot(dados_inversor['P_AC'],color = \"red\") # printando a potência AC gerada\n",
    "plt.plot(dados_inversor['IRR'],color = \"blue\") # Printando irr: solar irradiation (W/m2)"
   ]
  },
  {
   "cell_type": "code",
   "execution_count": 12,
   "metadata": {},
   "outputs": [],
   "source": [
    "#importando e definindo a função necessária para calcular r²\n",
    "from scipy import stats\n",
    "def rsquared(x, y):\n",
    "    \"\"\" Return R^2 where x and y are array-like.\"\"\"\n",
    "\n",
    "    slope, intercept, r_value, p_value, std_err = stats.linregress(x, y)\n",
    "    return r_value**2"
   ]
  },
  {
   "cell_type": "code",
   "execution_count": null,
   "metadata": {},
   "outputs": [
    {
     "data": {
      "image/png": "[encoded data removed]",
      "text/plain": [
       "<Figure size 432x288 with 1 Axes>"
      ]
     },
     "metadata": {
      "needs_background": "light"
     },
     "output_type": "display_data"
    },
    {
     "name": "stdout",
     "output_type": "stream",
     "text": [
      "R-square =  0.7604141247507846\n"
     ]
    }
   ],
   "source": [
    "#Plotando um gráfico scatter de um dia especifico junto com uma fit line e o R²\n",
    "plt.scatter(dados_inversor['IRR'],dados_inversor['P_AC'], color = \"blue\")\n",
    "plt.xlabel(\"IRR [W/m²]\")\n",
    "plt.ylabel(\"Potência [W]\")\n",
    "\n",
    "a, b = np.polyfit(dados_inversor['IRR'],dados_inversor['P_AC'], 1) #Encontrando a melhor fit line (R²) entre os dois valores\n",
    "plt.plot(dados_inversor[\"IRR\"], a*dados_inversor[\"IRR\"]+b, color = \"black\",)\n",
    "r2 = rsquared(dados_inversor['IRR'],dados_inversor['P_AC'])\n",
    "plt.text(0.6*dados_inversor['IRR'].max(), 0.4*dados_inversor['P_AC'].max(), 'R-squared = %0.4f' % r2, color = \"black\")\n",
    "plt.show()\n",
    "\n",
    "print(\"R-square = \", r2)"
   ]
  },
  {
   "cell_type": "markdown",
   "metadata": {},
   "source": [
    "### Retirando medidas com defeito"
   ]
  },
  {
   "cell_type": "code",
   "execution_count": null,
   "metadata": {},
   "outputs": [],
   "source": [
    "#Indetificando os valores \"erroneos\" com o auxilio da fit line calculado na célula anterior\n",
    "limite = 500\n",
    "selecao_erros = (dados_inversor['P_AC'] > a*dados_inversor['IRR']+b + limite) | (dados_inversor['P_AC'] < a*dados_inversor['IRR']+b - limite)\n",
    "dados_errados = dados_inversor[selecao_erros]\n",
    "dados_certos = dados_inversor[~selecao_erros]\n",
    "\n"
   ]
  },
  {
   "cell_type": "code",
   "execution_count": null,
   "metadata": {},
   "outputs": [
    {
     "data": {
      "image/png": "[encoded data removed]",
      "text/plain": [
       "<Figure size 432x288 with 1 Axes>"
      ]
     },
     "metadata": {
      "needs_background": "light"
     },
     "output_type": "display_data"
    }
   ],
   "source": [
    "#Plotando Os valores certos em azul e errados em vermelho\n",
    "plt.scatter(dados_errados['IRR'],dados_errados['P_AC'], color = \"red\")\n",
    "plt.scatter(dados_certos['IRR'],dados_certos['P_AC'], color = 'blue')\n",
    "plt.xlabel(\"IRR [W/m²]\")\n",
    "plt.ylabel(\"Potência [W]\")\n",
    "\n",
    "a, b = np.polyfit(dados_inversor['IRR'],dados_inversor['P_AC'], 1) #Encontrando a melhor fit line entre os dois valores\n",
    "plt.plot(dados_inversor[\"IRR\"], a*dados_inversor[\"IRR\"]+b, color = \"black\",)\n",
    "r2 = rsquared(dados_inversor['IRR'],dados_inversor['P_AC'])\n",
    "plt.text(0.6*dados_inversor['IRR'].max(), 0.4*dados_inversor['P_AC'].max(), 'R-squared = %0.4f' % r2, color = \"black\")\n",
    "plt.show()"
   ]
  },
  {
   "cell_type": "code",
   "execution_count": null,
   "metadata": {},
   "outputs": [
    {
     "data": {
      "image/png": "[encoded data removed]",
      "text/plain": [
       "<Figure size 432x288 with 1 Axes>"
      ]
     },
     "metadata": {
      "needs_background": "light"
     },
     "output_type": "display_data"
    },
    {
     "name": "stdout",
     "output_type": "stream",
     "text": [
      "0.9930238373471735\n"
     ]
    }
   ],
   "source": [
    "#Adquirindo R_Squared dos valores certos em azul\n",
    "plt.scatter(dados_certos['IRR'],dados_certos['P_AC'], color = \"blue\")\n",
    "plt.xlabel(\"IRR [W/m²]\")\n",
    "plt.ylabel(\"Potência [W]\")\n",
    "\n",
    "a, b = np.polyfit(dados_certos['IRR'],dados_certos['P_AC'], 1) #Encontrando a melhor fit line (R²) entre os dois valores\n",
    "plt.plot(dados_certos[\"IRR\"], a*dados_certos[\"IRR\"]+b, color = \"black\",)\n",
    "r2 = rsquared(dados_certos['IRR'],dados_certos['P_AC'])\n",
    "plt.text(0.6*dados_certos['IRR'].max(), 0.4*dados_certos['P_AC'].max(), 'R-squared = %0.4f' % r2, color = \"black\")\n",
    "plt.show()\n",
    "\n",
    "print(r2)"
   ]
  },
  {
   "cell_type": "markdown",
   "metadata": {},
   "source": [
    "### Incluindo os valores \"estourados\" de potência"
   ]
  },
  {
   "cell_type": "code",
   "execution_count": null,
   "metadata": {},
   "outputs": [],
   "source": [
    "# Foi percebido que temos um valor máximo de potência de saida e foi definido interessante essa valor estar nos dados a serem enviados para a inteligencia artificial também,\n",
    "# assim realizamos a sua separação\n",
    "selecao_PotOverLimit = ((dados_inversor['IRR'] > 1000) & (dados_inversor['P_AC'] > 8200))\n",
    "dados_overlimit = dados_inversor[selecao_PotOverLimit]\n",
    "\n",
    "#Caso queiramos incluir os valores que a geração foi máxima podemos fazer:\n",
    "frames = [dados_certos, dados_overlimit]\n",
    "result = pd.concat(frames)"
   ]
  },
  {
   "cell_type": "code",
   "execution_count": null,
   "metadata": {},
   "outputs": [
    {
     "data": {
      "image/png": "[encoded data removed]",
      "text/plain": [
       "<Figure size 432x288 with 1 Axes>"
      ]
     },
     "metadata": {
      "needs_background": "light"
     },
     "output_type": "display_data"
    },
    {
     "name": "stdout",
     "output_type": "stream",
     "text": [
      "0.9792322534591584\n"
     ]
    }
   ],
   "source": [
    "#Plotando o resultado final\n",
    "plt.scatter(dados_errados['IRR'],dados_errados['P_AC'], color = \"red\")\n",
    "plt.scatter(result['IRR'],result['P_AC'], color = \"blue\")\n",
    "plt.xlabel(\"IRR [W/m²]\")\n",
    "plt.ylabel(\"Potência [W]\")\n",
    "\n",
    "a, b = np.polyfit(result['IRR'],result['P_AC'], 1) #Encontrando a melhor fit line (R²) entre os dois valores\n",
    "plt.plot(result[\"IRR\"], a*result[\"IRR\"]+b, color = \"black\",)\n",
    "\n",
    "r2 = rsquared(result['IRR'],result['P_AC'])\n",
    "plt.text(0.6*result['IRR'].max(), 0.4*result['P_AC'].max(), 'R-squared = %0.4f' % r2, color = \"black\")\n",
    "plt.show()\n",
    "\n",
    "print(r2)\n"
   ]
  }
 ],
 "metadata": {
  "kernelspec": {
   "display_name": "Python 3.9.12 ('TCC')",
   "language": "python",
   "name": "python3"
  },
  "language_info": {
   "codemirror_mode": {
    "name": "ipython",
    "version": 3
   },
   "file_extension": ".py",
   "mimetype": "text/x-python",
   "name": "python",
   "nbconvert_exporter": "python",
   "pygments_lexer": "ipython3",
   "version": "3.9.12"
  },
  "orig_nbformat": 4,
  "vscode": {
   "interpreter": {
    "hash": "b57e84ab262cfbc2e4cfb26dd980f3f3bb83248fa1276d8ed709520b288f08d0"
   }
  }
 },
 "nbformat": 4,
 "nbformat_minor": 2
}
